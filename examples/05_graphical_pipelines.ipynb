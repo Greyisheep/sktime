{
 "cells": [
  {
   "cell_type": "markdown",
   "source": [
    "# Graphical Pipelines\n",
    "\n",
    "### Content of this Notebook:\n",
    "* Understanding what are graphical pipelines\n",
    "* Understanding the API of graphical pipelines\n",
    "* Examples of simple pipelines and how they can be implemented with graphical pipelines.\n",
    "* More complex graphical pipeline\n",
    "    * Forecasting\n",
    "* Grid search with a graphical pipeline\n",
    "\n",
    "\n",
    "\n",
    "### What are Graphical Pipelines?\n",
    "Recap sequential pipelines:\n",
    "\n",
    "<img src=\"img/sequential_pipeline.png\" width=750 />\n",
    "\n",
    "Many tasks are non-sequential. To solve this two possibilities exist:\n",
    "1. Nesting Sequential Pipelines.\n",
    "2. Using Graphical Pipelines.\n",
    "\n",
    "\n",
    "Thus, there is the generalised graphial pipeline.\n",
    "* Graphical means that different steps may share the same predecessor or provide their outputs to the same successor (the dataflows can branch and merge).\n",
    "<img src=\"img/graphical_pipeline.png\" width=750 />\n",
    "\n",
    "\n",
    "* Generalised means that the pipeline can be used for multiple tasks (e.g. forecasting, classification, ...).\n",
    "\n",
    "**Note**\n",
    "\n",
    "The graphical pipeline is still experimental. Thus, this graphical should not used in production. However, we would be happy to get feedback on the graphical pipeline.\n",
    "\n",
    "\n",
    "\n",
    "### Potential Use-Cases\n",
    "There exist various potential use-case for the graphical pipeline. In the following, we focus on a forecasting and a classification pipeline.\n",
    "#### Forecasting Use-Case for Graphical Pipelines\n",
    "\n",
    "\n",
    "The input of forecasters depends on the output of other forecasters, which same the same input.\n",
    "* Forecaster should use the same preprocessing (branching of data flow)\n",
    "* The forecasts should be combind and passed to the final forecaster (merging of data flow)\n",
    "\n",
    "<img src=\"img/graphical_pipeline_example.png\" width=750 />\n",
    "\n",
    "\n",
    "#### Classification Use-Case for Graphical Pipelines\n",
    "\n",
    "\n",
    "The input of classifier relies on different features and not all of these features are observable. Idea: Use a soft sensor that is a regressor for the non-observable features.\n",
    "\n",
    "<img src=\"img/graphical_pipeline_softsensor.png\" width=750 />\n",
    "\n",
    "**Note:** The current experimental state of the graphical pipeline does not fully support this use-case. However, we are working on this. If you are interested in this use-case and want to contribute, please contact us.\n",
    "\n",
    "### Credits\n",
    "The graphical pipeline was first developed by pyWATTS [1] and was then adapted for sktime. The original implementation can be found [pyWATTS](https://github.com/KIT-IAI/pyWATTS). pyWATTS is a open source library developed at the Institute of Applied Informatics and Automation at the KIT and funded by HelmholtzAI.\n",
    "\n",
    "> [1] Heidrich, Benedikt, et al. \"pyWATTS: Python workflow automation tool for time series.\" arXiv preprint arXiv:2106.10157 (2021)."
   ],
   "metadata": {
    "collapsed": false
   }
  },
  {
   "cell_type": "code",
   "execution_count": 1,
   "metadata": {
    "collapsed": true
   },
   "outputs": [],
   "source": [
    "from sklearn.linear_model import Lasso, Ridge\n",
    "from sklearn.preprocessing import StandardScaler\n",
    "from transformations.series.subset import ColumnSelect\n",
    "\n",
    "from sktime.classification.distance_based import KNeighborsTimeSeriesClassifier\n",
    "from sktime.datasets import load_arrow_head, load_longley, load_macroeconomic\n",
    "from sktime.forecasting.base import ForecastingHorizon\n",
    "from sktime.forecasting.compose import (\n",
    "    ColumnEnsembleForecaster,\n",
    "    ForecastX,\n",
    "    MultiplexForecaster,\n",
    "    make_reduction,\n",
    ")\n",
    "from sktime.forecasting.model_selection import (\n",
    "    ForecastingGridSearchCV,\n",
    "    SlidingWindowSplitter,\n",
    "    temporal_train_test_split,\n",
    ")\n",
    "from sktime.forecasting.sarimax import SARIMAX\n",
    "from sktime.performance_metrics.forecasting import mean_absolute_error\n",
    "from sktime.pipeline.pipeline import Pipeline\n",
    "from sktime.transformations.series.adapt import TabularToSeriesAdaptor\n",
    "from sktime.transformations.series.detrend import Deseasonalizer\n",
    "from sktime.transformations.series.difference import Differencer\n",
    "from sktime.transformations.series.exponent import ExponentTransformer"
   ]
  },
  {
   "cell_type": "markdown",
   "source": [
    "## How to build a Graphical Pipeline\n",
    "Two ways to build a graphical pipeline:\n",
    "\n",
    "1. Pass all steps to the pipeline during initialisation as for the sequential pipelines.\n",
    "\n",
    "```python\n",
    "pipeline = Pipeline([\n",
    "    {\"skobject\": skobject1, \"name\": \"bar\", \"edges\": {\"X\": \"y\"}},\n",
    "    {\n",
    "        \"skobject\": skobject2,\n",
    "        \"name\": \"foo\",\n",
    "        \"edges\": {\"X\": \"X\", \"y\": \"bar\"},\n",
    "    },\n",
    "    {\n",
    "        \"skobject\": skobject1,\n",
    "        \"name\": \"bar_inverse\",\n",
    "        \"edges\": {\"X\": \"foo\"},\n",
    "        \"method\": \"inverse_transform\",\n",
    "    },\n",
    "])\n",
    "```\n",
    "\n",
    "2. Create a pipeline object and add the steps one by one.\n",
    "\n",
    "```python\n",
    "\n",
    "pipeline = Pipeline()\n",
    "pipeline = pipeline.add_step(skobject1, \"bar\", edges={\"X\": \"y\"})\n",
    "pipeline = pipeline.add_step(skobject2, \"foo\", edges={\"X\": \"X\", \"y\": \"bar\"})\n",
    "pipeline = pipeline.add_step(\n",
    "    skobject1, \"bar_inverse\", edges={\"X\": \"foo\"}, method=\"inverse_transform\"\n",
    ")\n",
    "```\n",
    "\n",
    "The `add_step`'s parameter or key of the dicts in the step list during initialisation are:\n",
    "\n",
    "* skobject: The sktime object added to the pipeline\n",
    "* name: The name of the step\n",
    "* edges: The keys of the dictionary indicate the input of the skobject (X or y), and the values are the names of the steps that should be connected to the input argument. Note subsetting using `__` and feature union via lists are supported.\n",
    "* method: The skobject's method that should be called. If not provided, the default method would be inferred based on the added skobject. This parameter is used for the inverse_transform method. Optional.\n",
    "* kwargs: Additional keyword arguments passed to the sktime object. Optional.\n"
   ],
   "metadata": {
    "collapsed": false
   }
  },
  {
   "cell_type": "markdown",
   "source": [
    "## Examples\n",
    "### Forecasting Pipeline\n",
    "A simple forecasting pipeline implemented using the graphical pipeline.\n"
   ],
   "metadata": {
    "collapsed": false
   }
  },
  {
   "cell_type": "code",
   "execution_count": 2,
   "outputs": [],
   "source": [
    "general_pipeline = Pipeline()\n",
    "differencer = Differencer()\n",
    "\n",
    "general_pipeline = general_pipeline.add_step(\n",
    "    differencer, \"differencer\", edges={\"X\": \"y\"}\n",
    ")\n",
    "general_pipeline = general_pipeline.add_step(\n",
    "    SARIMAX(), \"sarimax\", edges={\"X\": \"X\", \"y\": \"differencer\"}\n",
    ")\n",
    "general_pipeline = general_pipeline.add_step(\n",
    "    differencer, \"differencer_inv\", edges={\"X\": \"sarimax\"}, method=\"inverse_transform\"\n",
    ")"
   ],
   "metadata": {
    "collapsed": false
   }
  },
  {
   "cell_type": "markdown",
   "source": [
    "The pipeline can be visualised as follows:\n",
    "<img src=\"img/forecasting_pipeline.png\" width=750 />\n",
    "\n"
   ],
   "metadata": {
    "collapsed": false
   }
  },
  {
   "cell_type": "code",
   "execution_count": 3,
   "outputs": [
    {
     "data": {
      "text/plain": "1959    67213.735360\n1960    68328.076304\n1961    68737.861389\n1962    71322.894013\nFreq: A-DEC, Name: TOTEMP, dtype: float64"
     },
     "execution_count": 3,
     "metadata": {},
     "output_type": "execute_result"
    }
   ],
   "source": [
    "y, X = load_longley()\n",
    "y_train, y_test, X_train, X_test = temporal_train_test_split(y, X)\n",
    "\n",
    "general_pipeline.fit(y=y_train, X=X_train, fh=[1, 2, 3, 4])\n",
    "general_pipeline.predict(X=X_test)"
   ],
   "metadata": {
    "collapsed": false
   }
  },
  {
   "cell_type": "markdown",
   "source": [
    "**Alternative Way in Defining the Pipeline**\n",
    "An alternative to define a graphical pipeline would be to pass a list of steps to the Pipeline during creation. This would look as follows:"
   ],
   "metadata": {
    "collapsed": false
   }
  },
  {
   "cell_type": "code",
   "execution_count": 4,
   "outputs": [],
   "source": [
    "differencer = Differencer()\n",
    "\n",
    "general_pipeline = Pipeline(\n",
    "    [\n",
    "        {\"skobject\": differencer, \"name\": \"differencer\", \"edges\": {\"X\": \"y\"}},\n",
    "        {\n",
    "            \"skobject\": SARIMAX(),\n",
    "            \"name\": \"sarimax\",\n",
    "            \"edges\": {\"X\": \"X\", \"y\": \"differencer\"},\n",
    "        },\n",
    "        {\n",
    "            \"skobject\": differencer,\n",
    "            \"name\": \"differencer_inv\",\n",
    "            \"edges\": {\"X\": \"sarimax\"},\n",
    "            \"method\": \"inverse_transform\",\n",
    "        },\n",
    "    ]\n",
    ")"
   ],
   "metadata": {
    "collapsed": false
   }
  },
  {
   "cell_type": "markdown",
   "source": [
    "### Classification Pipeline\n",
    "A simple classification pipeline implemented using the graphical pipeline."
   ],
   "metadata": {
    "collapsed": false
   }
  },
  {
   "cell_type": "code",
   "execution_count": 5,
   "outputs": [],
   "source": [
    "general_pipeline = Pipeline()\n",
    "general_pipeline = general_pipeline.add_step(\n",
    "    ExponentTransformer(), \"exponent\", edges={\"X\": \"X\"}\n",
    ")\n",
    "general_pipeline = general_pipeline.add_step(\n",
    "    KNeighborsTimeSeriesClassifier(), \"classifier\", edges={\"X\": \"exponent\", \"y\": \"y\"}\n",
    ")"
   ],
   "metadata": {
    "collapsed": false
   }
  },
  {
   "cell_type": "markdown",
   "source": [
    "This pipeline can be visualised as follows:\n",
    "\n",
    "<img src=\"img/classification_pipeline.png\" width=750 />\n"
   ],
   "metadata": {
    "collapsed": false
   }
  },
  {
   "cell_type": "code",
   "execution_count": 6,
   "outputs": [
    {
     "data": {
      "text/plain": "array(['0', '1', '2', '0', '1', '2', '0', '1', '2', '0', '1', '2', '0',\n       '1', '2', '0', '1', '2', '0', '1', '2', '0', '1', '2', '0', '1',\n       '2', '0', '1', '2', '0', '1', '2', '0', '1', '2'], dtype='<U1')"
     },
     "execution_count": 6,
     "metadata": {},
     "output_type": "execute_result"
    }
   ],
   "source": [
    "X, y = load_arrow_head(split=\"train\", return_X_y=True)\n",
    "general_pipeline.fit(X=X, y=y)\n",
    "general_pipeline.predict(X=X)"
   ],
   "metadata": {
    "collapsed": false
   }
  },
  {
   "cell_type": "markdown",
   "source": [
    "## A More Complex Example with Grid Search\n",
    "\n",
    "The considered use-case is to forecast the inflation using forecasts of the real gross domestic product, real disposable personal income, and the unemployment rate. Furthermore the unemployment rate is forecasted using the same features except the unemployment rate itself.\n",
    "\n",
    "<img src=\"img/graphical_pipeline_example.png\" width=750 />\n",
    "\n",
    "\n",
    "The data is taken from the macrodata dataset from the statsmodels package.\n"
   ],
   "metadata": {
    "collapsed": false
   }
  },
  {
   "cell_type": "markdown",
   "source": [
    "#### Pipeline Definition"
   ],
   "metadata": {
    "collapsed": false
   }
  },
  {
   "cell_type": "code",
   "execution_count": 7,
   "outputs": [],
   "source": [
    "pipeline = Pipeline()\n",
    "sklearn_scaler = StandardScaler()\n",
    "sktime_scaler = TabularToSeriesAdaptor(sklearn_scaler)\n",
    "deseasonalizer = Deseasonalizer(sp=4)\n",
    "\n",
    "pipeline = pipeline.add_step(\n",
    "    sktime_scaler, name=\"scaler\", edges={\"X\": \"X__realgdp_realdpi_unemp\"}\n",
    ")\n",
    "pipeline = pipeline.add_step(\n",
    "    deseasonalizer, name=\"deseasonalizer\", edges={\"X\": \"X__realgdp_realdpi\"}\n",
    ")\n",
    "\n",
    "pipeline = pipeline.add_step(\n",
    "    MultiplexForecaster(\n",
    "        [\n",
    "            (\n",
    "                \"ridge\",\n",
    "                make_reduction(Ridge(), windows_identical=False, window_length=5),\n",
    "            ),\n",
    "            (\n",
    "                \"lasso\",\n",
    "                make_reduction(Lasso(), windows_identical=False, window_length=5),\n",
    "            ),\n",
    "        ]\n",
    "    ),\n",
    "    name=\"forecaster_gdp\",\n",
    "    edges={\"y\": \"deseasonalizer__realgdp\"},\n",
    ")\n",
    "\n",
    "pipeline = pipeline.add_step(\n",
    "    MultiplexForecaster(\n",
    "        [\n",
    "            (\n",
    "                \"ridge\",\n",
    "                make_reduction(Ridge(), windows_identical=False, window_length=5),\n",
    "            ),\n",
    "            (\n",
    "                \"lasso\",\n",
    "                make_reduction(Lasso(), windows_identical=False, window_length=5),\n",
    "            ),\n",
    "        ]\n",
    "    ),\n",
    "    name=\"forecaster_dpi\",\n",
    "    edges={\"y\": \"deseasonalizer__realdpi\"},\n",
    ")\n",
    "\n",
    "pipeline = pipeline.add_step(\n",
    "    MultiplexForecaster(\n",
    "        [\n",
    "            (\n",
    "                \"ridge\",\n",
    "                make_reduction(Ridge(), windows_identical=False, window_length=5),\n",
    "            ),\n",
    "            (\n",
    "                \"lasso\",\n",
    "                make_reduction(Lasso(), windows_identical=False, window_length=5),\n",
    "            ),\n",
    "        ]\n",
    "    ),\n",
    "    name=\"forecaster_unemp\",\n",
    "    edges={\n",
    "        \"y\": \"scaler__unemp\",\n",
    "        \"X\": [\n",
    "            \"forecaster_gdp\",\n",
    "            \"forecaster_dpi\",\n",
    "        ],\n",
    "    },\n",
    ")\n",
    "\n",
    "pipeline = pipeline.add_step(\n",
    "    MultiplexForecaster(\n",
    "        [\n",
    "            (\n",
    "                \"ridge\",\n",
    "                make_reduction(Ridge(), windows_identical=False, window_length=5),\n",
    "            ),\n",
    "            (\n",
    "                \"lasso\",\n",
    "                make_reduction(Lasso(), windows_identical=False, window_length=5),\n",
    "            ),\n",
    "        ]\n",
    "    ),\n",
    "    name=\"forecaster_inflation\",\n",
    "    edges={\"X\": [\"forecaster_dpi\", \"forecaster_unemp\"], \"y\": \"y\"},\n",
    ")"
   ],
   "metadata": {
    "collapsed": false
   }
  },
  {
   "cell_type": "code",
   "execution_count": 8,
   "outputs": [
    {
     "data": {
      "text/plain": "          realgdp  realdpi  unemp\nPeriod                           \n1959Q1   2710.349   1886.9    5.8\n1959Q2   2778.801   1919.7    5.1\n1959Q3   2775.488   1916.4    5.3\n1959Q4   2785.204   1931.3    5.6\n1960Q1   2847.699   1955.5    5.2\n...           ...      ...    ...\n2005Q3  12683.153   9308.0    5.0\n2005Q4  12748.699   9358.7    4.9\n2006Q1  12915.938   9533.8    4.7\n2006Q2  12962.462   9617.3    4.7\n2006Q3  12965.916   9662.5    4.7\n\n[191 rows x 3 columns]",
      "text/html": "<div>\n<style scoped>\n    .dataframe tbody tr th:only-of-type {\n        vertical-align: middle;\n    }\n\n    .dataframe tbody tr th {\n        vertical-align: top;\n    }\n\n    .dataframe thead th {\n        text-align: right;\n    }\n</style>\n<table border=\"1\" class=\"dataframe\">\n  <thead>\n    <tr style=\"text-align: right;\">\n      <th></th>\n      <th>realgdp</th>\n      <th>realdpi</th>\n      <th>unemp</th>\n    </tr>\n    <tr>\n      <th>Period</th>\n      <th></th>\n      <th></th>\n      <th></th>\n    </tr>\n  </thead>\n  <tbody>\n    <tr>\n      <th>1959Q1</th>\n      <td>2710.349</td>\n      <td>1886.9</td>\n      <td>5.8</td>\n    </tr>\n    <tr>\n      <th>1959Q2</th>\n      <td>2778.801</td>\n      <td>1919.7</td>\n      <td>5.1</td>\n    </tr>\n    <tr>\n      <th>1959Q3</th>\n      <td>2775.488</td>\n      <td>1916.4</td>\n      <td>5.3</td>\n    </tr>\n    <tr>\n      <th>1959Q4</th>\n      <td>2785.204</td>\n      <td>1931.3</td>\n      <td>5.6</td>\n    </tr>\n    <tr>\n      <th>1960Q1</th>\n      <td>2847.699</td>\n      <td>1955.5</td>\n      <td>5.2</td>\n    </tr>\n    <tr>\n      <th>...</th>\n      <td>...</td>\n      <td>...</td>\n      <td>...</td>\n    </tr>\n    <tr>\n      <th>2005Q3</th>\n      <td>12683.153</td>\n      <td>9308.0</td>\n      <td>5.0</td>\n    </tr>\n    <tr>\n      <th>2005Q4</th>\n      <td>12748.699</td>\n      <td>9358.7</td>\n      <td>4.9</td>\n    </tr>\n    <tr>\n      <th>2006Q1</th>\n      <td>12915.938</td>\n      <td>9533.8</td>\n      <td>4.7</td>\n    </tr>\n    <tr>\n      <th>2006Q2</th>\n      <td>12962.462</td>\n      <td>9617.3</td>\n      <td>4.7</td>\n    </tr>\n    <tr>\n      <th>2006Q3</th>\n      <td>12965.916</td>\n      <td>9662.5</td>\n      <td>4.7</td>\n    </tr>\n  </tbody>\n</table>\n<p>191 rows × 3 columns</p>\n</div>"
     },
     "execution_count": 8,
     "metadata": {},
     "output_type": "execute_result"
    }
   ],
   "source": [
    "data = load_macroeconomic()\n",
    "\n",
    "X = data[[\"realgdp\", \"realdpi\", \"unemp\"]]\n",
    "y = data[[\"infl\"]]\n",
    "fh = ForecastingHorizon([1, 2, 3, 4, 5, 6, 7, 8, 9, 10, 11, 12])\n",
    "\n",
    "y_train, y_test, X_train, X_test = temporal_train_test_split(y, X=X, fh=fh)\n",
    "X_train"
   ],
   "metadata": {
    "collapsed": false
   }
  },
  {
   "cell_type": "code",
   "execution_count": 25,
   "outputs": [
    {
     "name": "stderr",
     "output_type": "stream",
     "text": [
      "C:\\Users\\bi4372\\.conda\\envs\\pyWATTS-deRSE-2023\\lib\\site-packages\\sklearn\\linear_model\\_coordinate_descent.py:648: ConvergenceWarning: Objective did not converge. You might want to increase the number of iterations, check the scale of the features or consider increasing regularisation. Duality gap: 3.997e+02, tolerance: 1.843e-01\n",
      "  model = cd_fast.enet_coordinate_descent(\n"
     ]
    },
    {
     "data": {
      "text/plain": "            infl\nPeriod          \n2006Q4  2.188182\n2007Q1  2.124281\n2007Q2  1.045280\n2007Q3  1.857716\n2007Q4  1.790664\n2008Q1  1.649457\n2008Q2  1.874361\n2008Q3  1.855627\n2008Q4  1.858207\n2009Q1  1.909693\n2009Q2  1.905106\n2009Q3  1.910452",
      "text/html": "<div>\n<style scoped>\n    .dataframe tbody tr th:only-of-type {\n        vertical-align: middle;\n    }\n\n    .dataframe tbody tr th {\n        vertical-align: top;\n    }\n\n    .dataframe thead th {\n        text-align: right;\n    }\n</style>\n<table border=\"1\" class=\"dataframe\">\n  <thead>\n    <tr style=\"text-align: right;\">\n      <th></th>\n      <th>infl</th>\n    </tr>\n    <tr>\n      <th>Period</th>\n      <th></th>\n    </tr>\n  </thead>\n  <tbody>\n    <tr>\n      <th>2006Q4</th>\n      <td>2.188182</td>\n    </tr>\n    <tr>\n      <th>2007Q1</th>\n      <td>2.124281</td>\n    </tr>\n    <tr>\n      <th>2007Q2</th>\n      <td>1.045280</td>\n    </tr>\n    <tr>\n      <th>2007Q3</th>\n      <td>1.857716</td>\n    </tr>\n    <tr>\n      <th>2007Q4</th>\n      <td>1.790664</td>\n    </tr>\n    <tr>\n      <th>2008Q1</th>\n      <td>1.649457</td>\n    </tr>\n    <tr>\n      <th>2008Q2</th>\n      <td>1.874361</td>\n    </tr>\n    <tr>\n      <th>2008Q3</th>\n      <td>1.855627</td>\n    </tr>\n    <tr>\n      <th>2008Q4</th>\n      <td>1.858207</td>\n    </tr>\n    <tr>\n      <th>2009Q1</th>\n      <td>1.909693</td>\n    </tr>\n    <tr>\n      <th>2009Q2</th>\n      <td>1.905106</td>\n    </tr>\n    <tr>\n      <th>2009Q3</th>\n      <td>1.910452</td>\n    </tr>\n  </tbody>\n</table>\n</div>"
     },
     "execution_count": 25,
     "metadata": {},
     "output_type": "execute_result"
    }
   ],
   "source": [
    "pipeline.fit(y=y_train, X=X_train, fh=fh)\n",
    "result = pipeline.predict(X=None, fh=y_test.index)\n",
    "result"
   ],
   "metadata": {
    "collapsed": false
   }
  },
  {
   "cell_type": "code",
   "execution_count": 24,
   "outputs": [
    {
     "data": {
      "text/plain": "infl    18.648824\ndtype: float64"
     },
     "execution_count": 24,
     "metadata": {},
     "output_type": "execute_result"
    }
   ],
   "source": [
    "((result - y_test) ** 2).mean()"
   ],
   "metadata": {
    "collapsed": false
   }
  },
  {
   "cell_type": "markdown",
   "source": [
    "#### Grid Search\n",
    "\n",
    "This pipeline has multiple parameters that might be tested to find the configurations. These parameters include:\n",
    "* which forecaster should be used for which variable -> `MultiplexForecaster`\n",
    "* what should be the hyperparameters of the forecaster\n",
    "* which features should be used for the different forecasters -> Tune the edges of the graphical pipeline!\n",
    "\n",
    "<img src=\"img/graphical_pipeline_example_grid.png\" width=750 />\n",
    "\n",
    "Since we do forecasting, we use the ForecastingGridSearchCV.\n",
    "\n",
    "1. Specify the parameter grid:\n",
    "\n",
    "The keys of the dictionary are the parameters' in the pipeline, and the values specify which options should be tested.\n",
    "Keys have the following structure: parameter of a step `<step_name>__skobject__<parameter-name>` and input edges of a step `<step-name>__edges_<Xory>`.\n"
   ],
   "metadata": {
    "collapsed": false
   }
  },
  {
   "cell_type": "code",
   "execution_count": 11,
   "outputs": [],
   "source": [
    "param_grid = {\n",
    "    \"forecaster_inflation__skobject__selected_forecaster\": [\"ridge\", \"lasso\"],\n",
    "    \"forecaster_unemp__skobject__selected_forecaster\": [\"ridge\", \"lasso\"],\n",
    "    \"forecaster_dpi__skobject__selected_forecaster\": [\"ridge\", \"lasso\"],\n",
    "    \"forecaster_gdp__skobject__selected_forecaster\": [\"ridge\", \"lasso\"],\n",
    "    \"forecaster_inflation__edges__X\": [\n",
    "        [\"forecaster_unemp\"],\n",
    "        [\"forecaster_unemp\", \"forecaster_dpi\"],\n",
    "    ],\n",
    "    \"forecaster_unemp__edges__X\": [\n",
    "        [],\n",
    "        [\"forecaster_dpi\"],\n",
    "        [\"forecaster_gdp\", \"forecaster_dpi\"],\n",
    "    ],\n",
    "    \"deseasonalizer__edges__X\": [\"X__realgdp_realdpi\", \"scaler__realgdp_realdpi\"],\n",
    "}"
   ],
   "metadata": {
    "collapsed": false
   }
  },
  {
   "cell_type": "markdown",
   "source": [
    "Initialise the gridsearch using pipeline, cross-validation strategy, scoring, and param_grid.\n"
   ],
   "metadata": {
    "collapsed": false
   }
  },
  {
   "cell_type": "code",
   "execution_count": 12,
   "outputs": [],
   "source": [
    "gridcv = ForecastingGridSearchCV(\n",
    "    pipeline,\n",
    "    cv=SlidingWindowSplitter(\n",
    "        window_length=len(X_train) - 20,\n",
    "        step_length=4,\n",
    "        fh=[1, 2, 3, 4, 5, 6, 7, 8, 9, 10, 11, 12],\n",
    "    ),\n",
    "    scoring=mean_absolute_error,\n",
    "    param_grid=param_grid,\n",
    ")"
   ],
   "metadata": {
    "collapsed": false
   }
  },
  {
   "cell_type": "markdown",
   "source": [
    "Call fit on the gridsearch object."
   ],
   "metadata": {
    "collapsed": false
   }
  },
  {
   "cell_type": "code",
   "execution_count": 13,
   "outputs": [
    {
     "name": "stderr",
     "output_type": "stream",
     "text": [
      "C:\\Users\\bi4372\\.conda\\envs\\pyWATTS-deRSE-2023\\lib\\site-packages\\sklearn\\linear_model\\_coordinate_descent.py:648: ConvergenceWarning: Objective did not converge. You might want to increase the number of iterations, check the scale of the features or consider increasing regularisation. Duality gap: 5.644e+01, tolerance: 1.702e-02\n",
      "  model = cd_fast.enet_coordinate_descent(\n",
      "C:\\Users\\bi4372\\.conda\\envs\\pyWATTS-deRSE-2023\\lib\\site-packages\\sklearn\\linear_model\\_coordinate_descent.py:648: ConvergenceWarning: Objective did not converge. You might want to increase the number of iterations, check the scale of the features or consider increasing regularisation. Duality gap: 5.733e+01, tolerance: 1.701e-02\n",
      "  model = cd_fast.enet_coordinate_descent(\n",
      "C:\\Users\\bi4372\\.conda\\envs\\pyWATTS-deRSE-2023\\lib\\site-packages\\sklearn\\linear_model\\_coordinate_descent.py:648: ConvergenceWarning: Objective did not converge. You might want to increase the number of iterations, check the scale of the features or consider increasing regularisation. Duality gap: 5.690e+01, tolerance: 1.697e-02\n",
      "  model = cd_fast.enet_coordinate_descent(\n",
      "C:\\Users\\bi4372\\.conda\\envs\\pyWATTS-deRSE-2023\\lib\\site-packages\\sklearn\\linear_model\\_coordinate_descent.py:648: ConvergenceWarning: Objective did not converge. You might want to increase the number of iterations, check the scale of the features or consider increasing regularisation. Duality gap: 2.754e+01, tolerance: 1.702e-02\n",
      "  model = cd_fast.enet_coordinate_descent(\n",
      "C:\\Users\\bi4372\\.conda\\envs\\pyWATTS-deRSE-2023\\lib\\site-packages\\sklearn\\linear_model\\_coordinate_descent.py:648: ConvergenceWarning: Objective did not converge. You might want to increase the number of iterations, check the scale of the features or consider increasing regularisation. Duality gap: 2.735e+01, tolerance: 1.701e-02\n",
      "  model = cd_fast.enet_coordinate_descent(\n",
      "C:\\Users\\bi4372\\.conda\\envs\\pyWATTS-deRSE-2023\\lib\\site-packages\\sklearn\\linear_model\\_coordinate_descent.py:648: ConvergenceWarning: Objective did not converge. You might want to increase the number of iterations, check the scale of the features or consider increasing regularisation. Duality gap: 2.956e+01, tolerance: 1.697e-02\n",
      "  model = cd_fast.enet_coordinate_descent(\n",
      "C:\\Users\\bi4372\\.conda\\envs\\pyWATTS-deRSE-2023\\lib\\site-packages\\sklearn\\linear_model\\_coordinate_descent.py:648: ConvergenceWarning: Objective did not converge. You might want to increase the number of iterations, check the scale of the features or consider increasing regularisation. Duality gap: 5.644e+01, tolerance: 1.702e-02\n",
      "  model = cd_fast.enet_coordinate_descent(\n",
      "C:\\Users\\bi4372\\.conda\\envs\\pyWATTS-deRSE-2023\\lib\\site-packages\\sklearn\\linear_model\\_coordinate_descent.py:648: ConvergenceWarning: Objective did not converge. You might want to increase the number of iterations, check the scale of the features or consider increasing regularisation. Duality gap: 5.733e+01, tolerance: 1.701e-02\n",
      "  model = cd_fast.enet_coordinate_descent(\n",
      "C:\\Users\\bi4372\\.conda\\envs\\pyWATTS-deRSE-2023\\lib\\site-packages\\sklearn\\linear_model\\_coordinate_descent.py:648: ConvergenceWarning: Objective did not converge. You might want to increase the number of iterations, check the scale of the features or consider increasing regularisation. Duality gap: 5.690e+01, tolerance: 1.697e-02\n",
      "  model = cd_fast.enet_coordinate_descent(\n",
      "C:\\Users\\bi4372\\.conda\\envs\\pyWATTS-deRSE-2023\\lib\\site-packages\\sklearn\\linear_model\\_coordinate_descent.py:648: ConvergenceWarning: Objective did not converge. You might want to increase the number of iterations, check the scale of the features or consider increasing regularisation. Duality gap: 2.754e+01, tolerance: 1.702e-02\n",
      "  model = cd_fast.enet_coordinate_descent(\n",
      "C:\\Users\\bi4372\\.conda\\envs\\pyWATTS-deRSE-2023\\lib\\site-packages\\sklearn\\linear_model\\_coordinate_descent.py:648: ConvergenceWarning: Objective did not converge. You might want to increase the number of iterations, check the scale of the features or consider increasing regularisation. Duality gap: 2.735e+01, tolerance: 1.701e-02\n",
      "  model = cd_fast.enet_coordinate_descent(\n",
      "C:\\Users\\bi4372\\.conda\\envs\\pyWATTS-deRSE-2023\\lib\\site-packages\\sklearn\\linear_model\\_coordinate_descent.py:648: ConvergenceWarning: Objective did not converge. You might want to increase the number of iterations, check the scale of the features or consider increasing regularisation. Duality gap: 2.956e+01, tolerance: 1.697e-02\n",
      "  model = cd_fast.enet_coordinate_descent(\n",
      "C:\\Users\\bi4372\\.conda\\envs\\pyWATTS-deRSE-2023\\lib\\site-packages\\sklearn\\linear_model\\_coordinate_descent.py:648: ConvergenceWarning: Objective did not converge. You might want to increase the number of iterations, check the scale of the features or consider increasing regularisation. Duality gap: 5.644e+01, tolerance: 1.702e-02\n",
      "  model = cd_fast.enet_coordinate_descent(\n",
      "C:\\Users\\bi4372\\.conda\\envs\\pyWATTS-deRSE-2023\\lib\\site-packages\\sklearn\\linear_model\\_coordinate_descent.py:648: ConvergenceWarning: Objective did not converge. You might want to increase the number of iterations, check the scale of the features or consider increasing regularisation. Duality gap: 5.733e+01, tolerance: 1.701e-02\n",
      "  model = cd_fast.enet_coordinate_descent(\n",
      "C:\\Users\\bi4372\\.conda\\envs\\pyWATTS-deRSE-2023\\lib\\site-packages\\sklearn\\linear_model\\_coordinate_descent.py:648: ConvergenceWarning: Objective did not converge. You might want to increase the number of iterations, check the scale of the features or consider increasing regularisation. Duality gap: 5.690e+01, tolerance: 1.697e-02\n",
      "  model = cd_fast.enet_coordinate_descent(\n",
      "C:\\Users\\bi4372\\.conda\\envs\\pyWATTS-deRSE-2023\\lib\\site-packages\\sklearn\\linear_model\\_coordinate_descent.py:648: ConvergenceWarning: Objective did not converge. You might want to increase the number of iterations, check the scale of the features or consider increasing regularisation. Duality gap: 2.754e+01, tolerance: 1.702e-02\n",
      "  model = cd_fast.enet_coordinate_descent(\n",
      "C:\\Users\\bi4372\\.conda\\envs\\pyWATTS-deRSE-2023\\lib\\site-packages\\sklearn\\linear_model\\_coordinate_descent.py:648: ConvergenceWarning: Objective did not converge. You might want to increase the number of iterations, check the scale of the features or consider increasing regularisation. Duality gap: 2.735e+01, tolerance: 1.701e-02\n",
      "  model = cd_fast.enet_coordinate_descent(\n",
      "C:\\Users\\bi4372\\.conda\\envs\\pyWATTS-deRSE-2023\\lib\\site-packages\\sklearn\\linear_model\\_coordinate_descent.py:648: ConvergenceWarning: Objective did not converge. You might want to increase the number of iterations, check the scale of the features or consider increasing regularisation. Duality gap: 2.956e+01, tolerance: 1.697e-02\n",
      "  model = cd_fast.enet_coordinate_descent(\n",
      "C:\\Users\\bi4372\\.conda\\envs\\pyWATTS-deRSE-2023\\lib\\site-packages\\sklearn\\linear_model\\_coordinate_descent.py:648: ConvergenceWarning: Objective did not converge. You might want to increase the number of iterations, check the scale of the features or consider increasing regularisation. Duality gap: 3.038e+02, tolerance: 1.703e-01\n",
      "  model = cd_fast.enet_coordinate_descent(\n",
      "C:\\Users\\bi4372\\.conda\\envs\\pyWATTS-deRSE-2023\\lib\\site-packages\\sklearn\\linear_model\\_coordinate_descent.py:648: ConvergenceWarning: Objective did not converge. You might want to increase the number of iterations, check the scale of the features or consider increasing regularisation. Duality gap: 3.193e+02, tolerance: 1.679e-01\n",
      "  model = cd_fast.enet_coordinate_descent(\n",
      "C:\\Users\\bi4372\\.conda\\envs\\pyWATTS-deRSE-2023\\lib\\site-packages\\sklearn\\linear_model\\_coordinate_descent.py:648: ConvergenceWarning: Objective did not converge. You might want to increase the number of iterations, check the scale of the features or consider increasing regularisation. Duality gap: 2.986e+02, tolerance: 1.665e-01\n",
      "  model = cd_fast.enet_coordinate_descent(\n",
      "C:\\Users\\bi4372\\.conda\\envs\\pyWATTS-deRSE-2023\\lib\\site-packages\\sklearn\\linear_model\\_coordinate_descent.py:648: ConvergenceWarning: Objective did not converge. You might want to increase the number of iterations, check the scale of the features or consider increasing regularisation. Duality gap: 3.038e+02, tolerance: 1.703e-01\n",
      "  model = cd_fast.enet_coordinate_descent(\n",
      "C:\\Users\\bi4372\\.conda\\envs\\pyWATTS-deRSE-2023\\lib\\site-packages\\sklearn\\linear_model\\_coordinate_descent.py:648: ConvergenceWarning: Objective did not converge. You might want to increase the number of iterations, check the scale of the features or consider increasing regularisation. Duality gap: 3.193e+02, tolerance: 1.679e-01\n",
      "  model = cd_fast.enet_coordinate_descent(\n",
      "C:\\Users\\bi4372\\.conda\\envs\\pyWATTS-deRSE-2023\\lib\\site-packages\\sklearn\\linear_model\\_coordinate_descent.py:648: ConvergenceWarning: Objective did not converge. You might want to increase the number of iterations, check the scale of the features or consider increasing regularisation. Duality gap: 2.986e+02, tolerance: 1.665e-01\n",
      "  model = cd_fast.enet_coordinate_descent(\n",
      "C:\\Users\\bi4372\\.conda\\envs\\pyWATTS-deRSE-2023\\lib\\site-packages\\sklearn\\linear_model\\_coordinate_descent.py:648: ConvergenceWarning: Objective did not converge. You might want to increase the number of iterations, check the scale of the features or consider increasing regularisation. Duality gap: 3.038e+02, tolerance: 1.703e-01\n",
      "  model = cd_fast.enet_coordinate_descent(\n",
      "C:\\Users\\bi4372\\.conda\\envs\\pyWATTS-deRSE-2023\\lib\\site-packages\\sklearn\\linear_model\\_coordinate_descent.py:648: ConvergenceWarning: Objective did not converge. You might want to increase the number of iterations, check the scale of the features or consider increasing regularisation. Duality gap: 3.193e+02, tolerance: 1.679e-01\n",
      "  model = cd_fast.enet_coordinate_descent(\n",
      "C:\\Users\\bi4372\\.conda\\envs\\pyWATTS-deRSE-2023\\lib\\site-packages\\sklearn\\linear_model\\_coordinate_descent.py:648: ConvergenceWarning: Objective did not converge. You might want to increase the number of iterations, check the scale of the features or consider increasing regularisation. Duality gap: 2.986e+02, tolerance: 1.665e-01\n",
      "  model = cd_fast.enet_coordinate_descent(\n",
      "C:\\Users\\bi4372\\.conda\\envs\\pyWATTS-deRSE-2023\\lib\\site-packages\\sklearn\\linear_model\\_coordinate_descent.py:648: ConvergenceWarning: Objective did not converge. You might want to increase the number of iterations, check the scale of the features or consider increasing regularisation. Duality gap: 5.644e+01, tolerance: 1.702e-02\n",
      "  model = cd_fast.enet_coordinate_descent(\n",
      "C:\\Users\\bi4372\\.conda\\envs\\pyWATTS-deRSE-2023\\lib\\site-packages\\sklearn\\linear_model\\_coordinate_descent.py:648: ConvergenceWarning: Objective did not converge. You might want to increase the number of iterations, check the scale of the features or consider increasing regularisation. Duality gap: 3.038e+02, tolerance: 1.703e-01\n",
      "  model = cd_fast.enet_coordinate_descent(\n",
      "C:\\Users\\bi4372\\.conda\\envs\\pyWATTS-deRSE-2023\\lib\\site-packages\\sklearn\\linear_model\\_coordinate_descent.py:648: ConvergenceWarning: Objective did not converge. You might want to increase the number of iterations, check the scale of the features or consider increasing regularisation. Duality gap: 5.733e+01, tolerance: 1.701e-02\n",
      "  model = cd_fast.enet_coordinate_descent(\n",
      "C:\\Users\\bi4372\\.conda\\envs\\pyWATTS-deRSE-2023\\lib\\site-packages\\sklearn\\linear_model\\_coordinate_descent.py:648: ConvergenceWarning: Objective did not converge. You might want to increase the number of iterations, check the scale of the features or consider increasing regularisation. Duality gap: 3.193e+02, tolerance: 1.679e-01\n",
      "  model = cd_fast.enet_coordinate_descent(\n",
      "C:\\Users\\bi4372\\.conda\\envs\\pyWATTS-deRSE-2023\\lib\\site-packages\\sklearn\\linear_model\\_coordinate_descent.py:648: ConvergenceWarning: Objective did not converge. You might want to increase the number of iterations, check the scale of the features or consider increasing regularisation. Duality gap: 5.690e+01, tolerance: 1.697e-02\n",
      "  model = cd_fast.enet_coordinate_descent(\n",
      "C:\\Users\\bi4372\\.conda\\envs\\pyWATTS-deRSE-2023\\lib\\site-packages\\sklearn\\linear_model\\_coordinate_descent.py:648: ConvergenceWarning: Objective did not converge. You might want to increase the number of iterations, check the scale of the features or consider increasing regularisation. Duality gap: 2.986e+02, tolerance: 1.665e-01\n",
      "  model = cd_fast.enet_coordinate_descent(\n",
      "C:\\Users\\bi4372\\.conda\\envs\\pyWATTS-deRSE-2023\\lib\\site-packages\\sklearn\\linear_model\\_coordinate_descent.py:648: ConvergenceWarning: Objective did not converge. You might want to increase the number of iterations, check the scale of the features or consider increasing regularisation. Duality gap: 3.038e+02, tolerance: 1.703e-01\n",
      "  model = cd_fast.enet_coordinate_descent(\n",
      "C:\\Users\\bi4372\\.conda\\envs\\pyWATTS-deRSE-2023\\lib\\site-packages\\sklearn\\linear_model\\_coordinate_descent.py:648: ConvergenceWarning: Objective did not converge. You might want to increase the number of iterations, check the scale of the features or consider increasing regularisation. Duality gap: 3.193e+02, tolerance: 1.679e-01\n",
      "  model = cd_fast.enet_coordinate_descent(\n",
      "C:\\Users\\bi4372\\.conda\\envs\\pyWATTS-deRSE-2023\\lib\\site-packages\\sklearn\\linear_model\\_coordinate_descent.py:648: ConvergenceWarning: Objective did not converge. You might want to increase the number of iterations, check the scale of the features or consider increasing regularisation. Duality gap: 2.986e+02, tolerance: 1.665e-01\n",
      "  model = cd_fast.enet_coordinate_descent(\n",
      "C:\\Users\\bi4372\\.conda\\envs\\pyWATTS-deRSE-2023\\lib\\site-packages\\sklearn\\linear_model\\_coordinate_descent.py:648: ConvergenceWarning: Objective did not converge. You might want to increase the number of iterations, check the scale of the features or consider increasing regularisation. Duality gap: 2.754e+01, tolerance: 1.702e-02\n",
      "  model = cd_fast.enet_coordinate_descent(\n",
      "C:\\Users\\bi4372\\.conda\\envs\\pyWATTS-deRSE-2023\\lib\\site-packages\\sklearn\\linear_model\\_coordinate_descent.py:648: ConvergenceWarning: Objective did not converge. You might want to increase the number of iterations, check the scale of the features or consider increasing regularisation. Duality gap: 3.038e+02, tolerance: 1.703e-01\n",
      "  model = cd_fast.enet_coordinate_descent(\n",
      "C:\\Users\\bi4372\\.conda\\envs\\pyWATTS-deRSE-2023\\lib\\site-packages\\sklearn\\linear_model\\_coordinate_descent.py:648: ConvergenceWarning: Objective did not converge. You might want to increase the number of iterations, check the scale of the features or consider increasing regularisation. Duality gap: 2.735e+01, tolerance: 1.701e-02\n",
      "  model = cd_fast.enet_coordinate_descent(\n",
      "C:\\Users\\bi4372\\.conda\\envs\\pyWATTS-deRSE-2023\\lib\\site-packages\\sklearn\\linear_model\\_coordinate_descent.py:648: ConvergenceWarning: Objective did not converge. You might want to increase the number of iterations, check the scale of the features or consider increasing regularisation. Duality gap: 3.193e+02, tolerance: 1.679e-01\n",
      "  model = cd_fast.enet_coordinate_descent(\n",
      "C:\\Users\\bi4372\\.conda\\envs\\pyWATTS-deRSE-2023\\lib\\site-packages\\sklearn\\linear_model\\_coordinate_descent.py:648: ConvergenceWarning: Objective did not converge. You might want to increase the number of iterations, check the scale of the features or consider increasing regularisation. Duality gap: 2.956e+01, tolerance: 1.697e-02\n",
      "  model = cd_fast.enet_coordinate_descent(\n",
      "C:\\Users\\bi4372\\.conda\\envs\\pyWATTS-deRSE-2023\\lib\\site-packages\\sklearn\\linear_model\\_coordinate_descent.py:648: ConvergenceWarning: Objective did not converge. You might want to increase the number of iterations, check the scale of the features or consider increasing regularisation. Duality gap: 2.986e+02, tolerance: 1.665e-01\n",
      "  model = cd_fast.enet_coordinate_descent(\n",
      "C:\\Users\\bi4372\\.conda\\envs\\pyWATTS-deRSE-2023\\lib\\site-packages\\sklearn\\linear_model\\_coordinate_descent.py:648: ConvergenceWarning: Objective did not converge. You might want to increase the number of iterations, check the scale of the features or consider increasing regularisation. Duality gap: 5.644e+01, tolerance: 1.702e-02\n",
      "  model = cd_fast.enet_coordinate_descent(\n",
      "C:\\Users\\bi4372\\.conda\\envs\\pyWATTS-deRSE-2023\\lib\\site-packages\\sklearn\\linear_model\\_coordinate_descent.py:648: ConvergenceWarning: Objective did not converge. You might want to increase the number of iterations, check the scale of the features or consider increasing regularisation. Duality gap: 5.733e+01, tolerance: 1.701e-02\n",
      "  model = cd_fast.enet_coordinate_descent(\n",
      "C:\\Users\\bi4372\\.conda\\envs\\pyWATTS-deRSE-2023\\lib\\site-packages\\sklearn\\linear_model\\_coordinate_descent.py:648: ConvergenceWarning: Objective did not converge. You might want to increase the number of iterations, check the scale of the features or consider increasing regularisation. Duality gap: 5.690e+01, tolerance: 1.697e-02\n",
      "  model = cd_fast.enet_coordinate_descent(\n",
      "C:\\Users\\bi4372\\.conda\\envs\\pyWATTS-deRSE-2023\\lib\\site-packages\\sklearn\\linear_model\\_coordinate_descent.py:648: ConvergenceWarning: Objective did not converge. You might want to increase the number of iterations, check the scale of the features or consider increasing regularisation. Duality gap: 3.435e+05, tolerance: 9.351e+04\n",
      "  model = cd_fast.enet_coordinate_descent(\n",
      "C:\\Users\\bi4372\\.conda\\envs\\pyWATTS-deRSE-2023\\lib\\site-packages\\sklearn\\linear_model\\_coordinate_descent.py:648: ConvergenceWarning: Objective did not converge. You might want to increase the number of iterations, check the scale of the features or consider increasing regularisation. Duality gap: 3.470e+05, tolerance: 9.857e+04\n",
      "  model = cd_fast.enet_coordinate_descent(\n",
      "C:\\Users\\bi4372\\.conda\\envs\\pyWATTS-deRSE-2023\\lib\\site-packages\\sklearn\\linear_model\\_coordinate_descent.py:648: ConvergenceWarning: Objective did not converge. You might want to increase the number of iterations, check the scale of the features or consider increasing regularisation. Duality gap: 3.600e+05, tolerance: 1.035e+05\n",
      "  model = cd_fast.enet_coordinate_descent(\n",
      "C:\\Users\\bi4372\\.conda\\envs\\pyWATTS-deRSE-2023\\lib\\site-packages\\sklearn\\linear_model\\_coordinate_descent.py:648: ConvergenceWarning: Objective did not converge. You might want to increase the number of iterations, check the scale of the features or consider increasing regularisation. Duality gap: 3.435e+05, tolerance: 9.351e+04\n",
      "  model = cd_fast.enet_coordinate_descent(\n",
      "C:\\Users\\bi4372\\.conda\\envs\\pyWATTS-deRSE-2023\\lib\\site-packages\\sklearn\\linear_model\\_coordinate_descent.py:648: ConvergenceWarning: Objective did not converge. You might want to increase the number of iterations, check the scale of the features or consider increasing regularisation. Duality gap: 2.754e+01, tolerance: 1.702e-02\n",
      "  model = cd_fast.enet_coordinate_descent(\n",
      "C:\\Users\\bi4372\\.conda\\envs\\pyWATTS-deRSE-2023\\lib\\site-packages\\sklearn\\linear_model\\_coordinate_descent.py:648: ConvergenceWarning: Objective did not converge. You might want to increase the number of iterations, check the scale of the features or consider increasing regularisation. Duality gap: 3.470e+05, tolerance: 9.857e+04\n",
      "  model = cd_fast.enet_coordinate_descent(\n",
      "C:\\Users\\bi4372\\.conda\\envs\\pyWATTS-deRSE-2023\\lib\\site-packages\\sklearn\\linear_model\\_coordinate_descent.py:648: ConvergenceWarning: Objective did not converge. You might want to increase the number of iterations, check the scale of the features or consider increasing regularisation. Duality gap: 2.735e+01, tolerance: 1.701e-02\n",
      "  model = cd_fast.enet_coordinate_descent(\n",
      "C:\\Users\\bi4372\\.conda\\envs\\pyWATTS-deRSE-2023\\lib\\site-packages\\sklearn\\linear_model\\_coordinate_descent.py:648: ConvergenceWarning: Objective did not converge. You might want to increase the number of iterations, check the scale of the features or consider increasing regularisation. Duality gap: 3.600e+05, tolerance: 1.035e+05\n",
      "  model = cd_fast.enet_coordinate_descent(\n",
      "C:\\Users\\bi4372\\.conda\\envs\\pyWATTS-deRSE-2023\\lib\\site-packages\\sklearn\\linear_model\\_coordinate_descent.py:648: ConvergenceWarning: Objective did not converge. You might want to increase the number of iterations, check the scale of the features or consider increasing regularisation. Duality gap: 2.956e+01, tolerance: 1.697e-02\n",
      "  model = cd_fast.enet_coordinate_descent(\n",
      "C:\\Users\\bi4372\\.conda\\envs\\pyWATTS-deRSE-2023\\lib\\site-packages\\sklearn\\linear_model\\_coordinate_descent.py:648: ConvergenceWarning: Objective did not converge. You might want to increase the number of iterations, check the scale of the features or consider increasing regularisation. Duality gap: 5.644e+01, tolerance: 1.702e-02\n",
      "  model = cd_fast.enet_coordinate_descent(\n",
      "C:\\Users\\bi4372\\.conda\\envs\\pyWATTS-deRSE-2023\\lib\\site-packages\\sklearn\\linear_model\\_coordinate_descent.py:648: ConvergenceWarning: Objective did not converge. You might want to increase the number of iterations, check the scale of the features or consider increasing regularisation. Duality gap: 5.733e+01, tolerance: 1.701e-02\n",
      "  model = cd_fast.enet_coordinate_descent(\n",
      "C:\\Users\\bi4372\\.conda\\envs\\pyWATTS-deRSE-2023\\lib\\site-packages\\sklearn\\linear_model\\_coordinate_descent.py:648: ConvergenceWarning: Objective did not converge. You might want to increase the number of iterations, check the scale of the features or consider increasing regularisation. Duality gap: 5.690e+01, tolerance: 1.697e-02\n",
      "  model = cd_fast.enet_coordinate_descent(\n",
      "C:\\Users\\bi4372\\.conda\\envs\\pyWATTS-deRSE-2023\\lib\\site-packages\\sklearn\\linear_model\\_coordinate_descent.py:648: ConvergenceWarning: Objective did not converge. You might want to increase the number of iterations, check the scale of the features or consider increasing regularisation. Duality gap: 3.435e+05, tolerance: 9.351e+04\n",
      "  model = cd_fast.enet_coordinate_descent(\n",
      "C:\\Users\\bi4372\\.conda\\envs\\pyWATTS-deRSE-2023\\lib\\site-packages\\sklearn\\linear_model\\_coordinate_descent.py:648: ConvergenceWarning: Objective did not converge. You might want to increase the number of iterations, check the scale of the features or consider increasing regularisation. Duality gap: 3.470e+05, tolerance: 9.857e+04\n",
      "  model = cd_fast.enet_coordinate_descent(\n",
      "C:\\Users\\bi4372\\.conda\\envs\\pyWATTS-deRSE-2023\\lib\\site-packages\\sklearn\\linear_model\\_coordinate_descent.py:648: ConvergenceWarning: Objective did not converge. You might want to increase the number of iterations, check the scale of the features or consider increasing regularisation. Duality gap: 3.600e+05, tolerance: 1.035e+05\n",
      "  model = cd_fast.enet_coordinate_descent(\n",
      "C:\\Users\\bi4372\\.conda\\envs\\pyWATTS-deRSE-2023\\lib\\site-packages\\sklearn\\linear_model\\_coordinate_descent.py:648: ConvergenceWarning: Objective did not converge. You might want to increase the number of iterations, check the scale of the features or consider increasing regularisation. Duality gap: 3.435e+05, tolerance: 9.351e+04\n",
      "  model = cd_fast.enet_coordinate_descent(\n",
      "C:\\Users\\bi4372\\.conda\\envs\\pyWATTS-deRSE-2023\\lib\\site-packages\\sklearn\\linear_model\\_coordinate_descent.py:648: ConvergenceWarning: Objective did not converge. You might want to increase the number of iterations, check the scale of the features or consider increasing regularisation. Duality gap: 2.754e+01, tolerance: 1.702e-02\n",
      "  model = cd_fast.enet_coordinate_descent(\n",
      "C:\\Users\\bi4372\\.conda\\envs\\pyWATTS-deRSE-2023\\lib\\site-packages\\sklearn\\linear_model\\_coordinate_descent.py:648: ConvergenceWarning: Objective did not converge. You might want to increase the number of iterations, check the scale of the features or consider increasing regularisation. Duality gap: 3.470e+05, tolerance: 9.857e+04\n",
      "  model = cd_fast.enet_coordinate_descent(\n",
      "C:\\Users\\bi4372\\.conda\\envs\\pyWATTS-deRSE-2023\\lib\\site-packages\\sklearn\\linear_model\\_coordinate_descent.py:648: ConvergenceWarning: Objective did not converge. You might want to increase the number of iterations, check the scale of the features or consider increasing regularisation. Duality gap: 2.735e+01, tolerance: 1.701e-02\n",
      "  model = cd_fast.enet_coordinate_descent(\n",
      "C:\\Users\\bi4372\\.conda\\envs\\pyWATTS-deRSE-2023\\lib\\site-packages\\sklearn\\linear_model\\_coordinate_descent.py:648: ConvergenceWarning: Objective did not converge. You might want to increase the number of iterations, check the scale of the features or consider increasing regularisation. Duality gap: 3.600e+05, tolerance: 1.035e+05\n",
      "  model = cd_fast.enet_coordinate_descent(\n",
      "C:\\Users\\bi4372\\.conda\\envs\\pyWATTS-deRSE-2023\\lib\\site-packages\\sklearn\\linear_model\\_coordinate_descent.py:648: ConvergenceWarning: Objective did not converge. You might want to increase the number of iterations, check the scale of the features or consider increasing regularisation. Duality gap: 2.956e+01, tolerance: 1.697e-02\n",
      "  model = cd_fast.enet_coordinate_descent(\n",
      "C:\\Users\\bi4372\\.conda\\envs\\pyWATTS-deRSE-2023\\lib\\site-packages\\sklearn\\linear_model\\_coordinate_descent.py:648: ConvergenceWarning: Objective did not converge. You might want to increase the number of iterations, check the scale of the features or consider increasing regularisation. Duality gap: 5.644e+01, tolerance: 1.702e-02\n",
      "  model = cd_fast.enet_coordinate_descent(\n",
      "C:\\Users\\bi4372\\.conda\\envs\\pyWATTS-deRSE-2023\\lib\\site-packages\\sklearn\\linear_model\\_coordinate_descent.py:648: ConvergenceWarning: Objective did not converge. You might want to increase the number of iterations, check the scale of the features or consider increasing regularisation. Duality gap: 5.733e+01, tolerance: 1.701e-02\n",
      "  model = cd_fast.enet_coordinate_descent(\n",
      "C:\\Users\\bi4372\\.conda\\envs\\pyWATTS-deRSE-2023\\lib\\site-packages\\sklearn\\linear_model\\_coordinate_descent.py:648: ConvergenceWarning: Objective did not converge. You might want to increase the number of iterations, check the scale of the features or consider increasing regularisation. Duality gap: 5.690e+01, tolerance: 1.697e-02\n",
      "  model = cd_fast.enet_coordinate_descent(\n",
      "C:\\Users\\bi4372\\.conda\\envs\\pyWATTS-deRSE-2023\\lib\\site-packages\\sklearn\\linear_model\\_coordinate_descent.py:648: ConvergenceWarning: Objective did not converge. You might want to increase the number of iterations, check the scale of the features or consider increasing regularisation. Duality gap: 3.435e+05, tolerance: 9.351e+04\n",
      "  model = cd_fast.enet_coordinate_descent(\n",
      "C:\\Users\\bi4372\\.conda\\envs\\pyWATTS-deRSE-2023\\lib\\site-packages\\sklearn\\linear_model\\_coordinate_descent.py:648: ConvergenceWarning: Objective did not converge. You might want to increase the number of iterations, check the scale of the features or consider increasing regularisation. Duality gap: 3.470e+05, tolerance: 9.857e+04\n",
      "  model = cd_fast.enet_coordinate_descent(\n",
      "C:\\Users\\bi4372\\.conda\\envs\\pyWATTS-deRSE-2023\\lib\\site-packages\\sklearn\\linear_model\\_coordinate_descent.py:648: ConvergenceWarning: Objective did not converge. You might want to increase the number of iterations, check the scale of the features or consider increasing regularisation. Duality gap: 3.600e+05, tolerance: 1.035e+05\n",
      "  model = cd_fast.enet_coordinate_descent(\n",
      "C:\\Users\\bi4372\\.conda\\envs\\pyWATTS-deRSE-2023\\lib\\site-packages\\sklearn\\linear_model\\_coordinate_descent.py:648: ConvergenceWarning: Objective did not converge. You might want to increase the number of iterations, check the scale of the features or consider increasing regularisation. Duality gap: 3.435e+05, tolerance: 9.351e+04\n",
      "  model = cd_fast.enet_coordinate_descent(\n",
      "C:\\Users\\bi4372\\.conda\\envs\\pyWATTS-deRSE-2023\\lib\\site-packages\\sklearn\\linear_model\\_coordinate_descent.py:648: ConvergenceWarning: Objective did not converge. You might want to increase the number of iterations, check the scale of the features or consider increasing regularisation. Duality gap: 2.754e+01, tolerance: 1.702e-02\n",
      "  model = cd_fast.enet_coordinate_descent(\n",
      "C:\\Users\\bi4372\\.conda\\envs\\pyWATTS-deRSE-2023\\lib\\site-packages\\sklearn\\linear_model\\_coordinate_descent.py:648: ConvergenceWarning: Objective did not converge. You might want to increase the number of iterations, check the scale of the features or consider increasing regularisation. Duality gap: 3.470e+05, tolerance: 9.857e+04\n",
      "  model = cd_fast.enet_coordinate_descent(\n",
      "C:\\Users\\bi4372\\.conda\\envs\\pyWATTS-deRSE-2023\\lib\\site-packages\\sklearn\\linear_model\\_coordinate_descent.py:648: ConvergenceWarning: Objective did not converge. You might want to increase the number of iterations, check the scale of the features or consider increasing regularisation. Duality gap: 2.735e+01, tolerance: 1.701e-02\n",
      "  model = cd_fast.enet_coordinate_descent(\n",
      "C:\\Users\\bi4372\\.conda\\envs\\pyWATTS-deRSE-2023\\lib\\site-packages\\sklearn\\linear_model\\_coordinate_descent.py:648: ConvergenceWarning: Objective did not converge. You might want to increase the number of iterations, check the scale of the features or consider increasing regularisation. Duality gap: 3.600e+05, tolerance: 1.035e+05\n",
      "  model = cd_fast.enet_coordinate_descent(\n",
      "C:\\Users\\bi4372\\.conda\\envs\\pyWATTS-deRSE-2023\\lib\\site-packages\\sklearn\\linear_model\\_coordinate_descent.py:648: ConvergenceWarning: Objective did not converge. You might want to increase the number of iterations, check the scale of the features or consider increasing regularisation. Duality gap: 2.956e+01, tolerance: 1.697e-02\n",
      "  model = cd_fast.enet_coordinate_descent(\n",
      "C:\\Users\\bi4372\\.conda\\envs\\pyWATTS-deRSE-2023\\lib\\site-packages\\sklearn\\linear_model\\_coordinate_descent.py:648: ConvergenceWarning: Objective did not converge. You might want to increase the number of iterations, check the scale of the features or consider increasing regularisation. Duality gap: 3.038e+02, tolerance: 1.703e-01\n",
      "  model = cd_fast.enet_coordinate_descent(\n",
      "C:\\Users\\bi4372\\.conda\\envs\\pyWATTS-deRSE-2023\\lib\\site-packages\\sklearn\\linear_model\\_coordinate_descent.py:648: ConvergenceWarning: Objective did not converge. You might want to increase the number of iterations, check the scale of the features or consider increasing regularisation. Duality gap: 3.193e+02, tolerance: 1.679e-01\n",
      "  model = cd_fast.enet_coordinate_descent(\n",
      "C:\\Users\\bi4372\\.conda\\envs\\pyWATTS-deRSE-2023\\lib\\site-packages\\sklearn\\linear_model\\_coordinate_descent.py:648: ConvergenceWarning: Objective did not converge. You might want to increase the number of iterations, check the scale of the features or consider increasing regularisation. Duality gap: 2.986e+02, tolerance: 1.665e-01\n",
      "  model = cd_fast.enet_coordinate_descent(\n",
      "C:\\Users\\bi4372\\.conda\\envs\\pyWATTS-deRSE-2023\\lib\\site-packages\\sklearn\\linear_model\\_coordinate_descent.py:648: ConvergenceWarning: Objective did not converge. You might want to increase the number of iterations, check the scale of the features or consider increasing regularisation. Duality gap: 3.038e+02, tolerance: 1.703e-01\n",
      "  model = cd_fast.enet_coordinate_descent(\n",
      "C:\\Users\\bi4372\\.conda\\envs\\pyWATTS-deRSE-2023\\lib\\site-packages\\sklearn\\linear_model\\_coordinate_descent.py:648: ConvergenceWarning: Objective did not converge. You might want to increase the number of iterations, check the scale of the features or consider increasing regularisation. Duality gap: 3.193e+02, tolerance: 1.679e-01\n",
      "  model = cd_fast.enet_coordinate_descent(\n",
      "C:\\Users\\bi4372\\.conda\\envs\\pyWATTS-deRSE-2023\\lib\\site-packages\\sklearn\\linear_model\\_coordinate_descent.py:648: ConvergenceWarning: Objective did not converge. You might want to increase the number of iterations, check the scale of the features or consider increasing regularisation. Duality gap: 2.986e+02, tolerance: 1.665e-01\n",
      "  model = cd_fast.enet_coordinate_descent(\n",
      "C:\\Users\\bi4372\\.conda\\envs\\pyWATTS-deRSE-2023\\lib\\site-packages\\sklearn\\linear_model\\_coordinate_descent.py:648: ConvergenceWarning: Objective did not converge. You might want to increase the number of iterations, check the scale of the features or consider increasing regularisation. Duality gap: 3.038e+02, tolerance: 1.703e-01\n",
      "  model = cd_fast.enet_coordinate_descent(\n",
      "C:\\Users\\bi4372\\.conda\\envs\\pyWATTS-deRSE-2023\\lib\\site-packages\\sklearn\\linear_model\\_coordinate_descent.py:648: ConvergenceWarning: Objective did not converge. You might want to increase the number of iterations, check the scale of the features or consider increasing regularisation. Duality gap: 3.193e+02, tolerance: 1.679e-01\n",
      "  model = cd_fast.enet_coordinate_descent(\n",
      "C:\\Users\\bi4372\\.conda\\envs\\pyWATTS-deRSE-2023\\lib\\site-packages\\sklearn\\linear_model\\_coordinate_descent.py:648: ConvergenceWarning: Objective did not converge. You might want to increase the number of iterations, check the scale of the features or consider increasing regularisation. Duality gap: 2.986e+02, tolerance: 1.665e-01\n",
      "  model = cd_fast.enet_coordinate_descent(\n",
      "C:\\Users\\bi4372\\.conda\\envs\\pyWATTS-deRSE-2023\\lib\\site-packages\\sklearn\\linear_model\\_coordinate_descent.py:648: ConvergenceWarning: Objective did not converge. You might want to increase the number of iterations, check the scale of the features or consider increasing regularisation. Duality gap: 5.644e+01, tolerance: 1.702e-02\n",
      "  model = cd_fast.enet_coordinate_descent(\n",
      "C:\\Users\\bi4372\\.conda\\envs\\pyWATTS-deRSE-2023\\lib\\site-packages\\sklearn\\linear_model\\_coordinate_descent.py:648: ConvergenceWarning: Objective did not converge. You might want to increase the number of iterations, check the scale of the features or consider increasing regularisation. Duality gap: 3.038e+02, tolerance: 1.703e-01\n",
      "  model = cd_fast.enet_coordinate_descent(\n",
      "C:\\Users\\bi4372\\.conda\\envs\\pyWATTS-deRSE-2023\\lib\\site-packages\\sklearn\\linear_model\\_coordinate_descent.py:648: ConvergenceWarning: Objective did not converge. You might want to increase the number of iterations, check the scale of the features or consider increasing regularisation. Duality gap: 5.733e+01, tolerance: 1.701e-02\n",
      "  model = cd_fast.enet_coordinate_descent(\n",
      "C:\\Users\\bi4372\\.conda\\envs\\pyWATTS-deRSE-2023\\lib\\site-packages\\sklearn\\linear_model\\_coordinate_descent.py:648: ConvergenceWarning: Objective did not converge. You might want to increase the number of iterations, check the scale of the features or consider increasing regularisation. Duality gap: 3.193e+02, tolerance: 1.679e-01\n",
      "  model = cd_fast.enet_coordinate_descent(\n",
      "C:\\Users\\bi4372\\.conda\\envs\\pyWATTS-deRSE-2023\\lib\\site-packages\\sklearn\\linear_model\\_coordinate_descent.py:648: ConvergenceWarning: Objective did not converge. You might want to increase the number of iterations, check the scale of the features or consider increasing regularisation. Duality gap: 5.690e+01, tolerance: 1.697e-02\n",
      "  model = cd_fast.enet_coordinate_descent(\n",
      "C:\\Users\\bi4372\\.conda\\envs\\pyWATTS-deRSE-2023\\lib\\site-packages\\sklearn\\linear_model\\_coordinate_descent.py:648: ConvergenceWarning: Objective did not converge. You might want to increase the number of iterations, check the scale of the features or consider increasing regularisation. Duality gap: 2.986e+02, tolerance: 1.665e-01\n",
      "  model = cd_fast.enet_coordinate_descent(\n",
      "C:\\Users\\bi4372\\.conda\\envs\\pyWATTS-deRSE-2023\\lib\\site-packages\\sklearn\\linear_model\\_coordinate_descent.py:648: ConvergenceWarning: Objective did not converge. You might want to increase the number of iterations, check the scale of the features or consider increasing regularisation. Duality gap: 3.435e+05, tolerance: 9.351e+04\n",
      "  model = cd_fast.enet_coordinate_descent(\n",
      "C:\\Users\\bi4372\\.conda\\envs\\pyWATTS-deRSE-2023\\lib\\site-packages\\sklearn\\linear_model\\_coordinate_descent.py:648: ConvergenceWarning: Objective did not converge. You might want to increase the number of iterations, check the scale of the features or consider increasing regularisation. Duality gap: 3.038e+02, tolerance: 1.703e-01\n",
      "  model = cd_fast.enet_coordinate_descent(\n",
      "C:\\Users\\bi4372\\.conda\\envs\\pyWATTS-deRSE-2023\\lib\\site-packages\\sklearn\\linear_model\\_coordinate_descent.py:648: ConvergenceWarning: Objective did not converge. You might want to increase the number of iterations, check the scale of the features or consider increasing regularisation. Duality gap: 3.470e+05, tolerance: 9.857e+04\n",
      "  model = cd_fast.enet_coordinate_descent(\n",
      "C:\\Users\\bi4372\\.conda\\envs\\pyWATTS-deRSE-2023\\lib\\site-packages\\sklearn\\linear_model\\_coordinate_descent.py:648: ConvergenceWarning: Objective did not converge. You might want to increase the number of iterations, check the scale of the features or consider increasing regularisation. Duality gap: 3.193e+02, tolerance: 1.679e-01\n",
      "  model = cd_fast.enet_coordinate_descent(\n",
      "C:\\Users\\bi4372\\.conda\\envs\\pyWATTS-deRSE-2023\\lib\\site-packages\\sklearn\\linear_model\\_coordinate_descent.py:648: ConvergenceWarning: Objective did not converge. You might want to increase the number of iterations, check the scale of the features or consider increasing regularisation. Duality gap: 3.600e+05, tolerance: 1.035e+05\n",
      "  model = cd_fast.enet_coordinate_descent(\n",
      "C:\\Users\\bi4372\\.conda\\envs\\pyWATTS-deRSE-2023\\lib\\site-packages\\sklearn\\linear_model\\_coordinate_descent.py:648: ConvergenceWarning: Objective did not converge. You might want to increase the number of iterations, check the scale of the features or consider increasing regularisation. Duality gap: 2.986e+02, tolerance: 1.665e-01\n",
      "  model = cd_fast.enet_coordinate_descent(\n",
      "C:\\Users\\bi4372\\.conda\\envs\\pyWATTS-deRSE-2023\\lib\\site-packages\\sklearn\\linear_model\\_coordinate_descent.py:648: ConvergenceWarning: Objective did not converge. You might want to increase the number of iterations, check the scale of the features or consider increasing regularisation. Duality gap: 3.435e+05, tolerance: 9.351e+04\n",
      "  model = cd_fast.enet_coordinate_descent(\n",
      "C:\\Users\\bi4372\\.conda\\envs\\pyWATTS-deRSE-2023\\lib\\site-packages\\sklearn\\linear_model\\_coordinate_descent.py:648: ConvergenceWarning: Objective did not converge. You might want to increase the number of iterations, check the scale of the features or consider increasing regularisation. Duality gap: 2.754e+01, tolerance: 1.702e-02\n",
      "  model = cd_fast.enet_coordinate_descent(\n",
      "C:\\Users\\bi4372\\.conda\\envs\\pyWATTS-deRSE-2023\\lib\\site-packages\\sklearn\\linear_model\\_coordinate_descent.py:648: ConvergenceWarning: Objective did not converge. You might want to increase the number of iterations, check the scale of the features or consider increasing regularisation. Duality gap: 3.038e+02, tolerance: 1.703e-01\n",
      "  model = cd_fast.enet_coordinate_descent(\n",
      "C:\\Users\\bi4372\\.conda\\envs\\pyWATTS-deRSE-2023\\lib\\site-packages\\sklearn\\linear_model\\_coordinate_descent.py:648: ConvergenceWarning: Objective did not converge. You might want to increase the number of iterations, check the scale of the features or consider increasing regularisation. Duality gap: 3.470e+05, tolerance: 9.857e+04\n",
      "  model = cd_fast.enet_coordinate_descent(\n",
      "C:\\Users\\bi4372\\.conda\\envs\\pyWATTS-deRSE-2023\\lib\\site-packages\\sklearn\\linear_model\\_coordinate_descent.py:648: ConvergenceWarning: Objective did not converge. You might want to increase the number of iterations, check the scale of the features or consider increasing regularisation. Duality gap: 2.735e+01, tolerance: 1.701e-02\n",
      "  model = cd_fast.enet_coordinate_descent(\n",
      "C:\\Users\\bi4372\\.conda\\envs\\pyWATTS-deRSE-2023\\lib\\site-packages\\sklearn\\linear_model\\_coordinate_descent.py:648: ConvergenceWarning: Objective did not converge. You might want to increase the number of iterations, check the scale of the features or consider increasing regularisation. Duality gap: 3.193e+02, tolerance: 1.679e-01\n",
      "  model = cd_fast.enet_coordinate_descent(\n",
      "C:\\Users\\bi4372\\.conda\\envs\\pyWATTS-deRSE-2023\\lib\\site-packages\\sklearn\\linear_model\\_coordinate_descent.py:648: ConvergenceWarning: Objective did not converge. You might want to increase the number of iterations, check the scale of the features or consider increasing regularisation. Duality gap: 3.600e+05, tolerance: 1.035e+05\n",
      "  model = cd_fast.enet_coordinate_descent(\n",
      "C:\\Users\\bi4372\\.conda\\envs\\pyWATTS-deRSE-2023\\lib\\site-packages\\sklearn\\linear_model\\_coordinate_descent.py:648: ConvergenceWarning: Objective did not converge. You might want to increase the number of iterations, check the scale of the features or consider increasing regularisation. Duality gap: 2.956e+01, tolerance: 1.697e-02\n",
      "  model = cd_fast.enet_coordinate_descent(\n",
      "C:\\Users\\bi4372\\.conda\\envs\\pyWATTS-deRSE-2023\\lib\\site-packages\\sklearn\\linear_model\\_coordinate_descent.py:648: ConvergenceWarning: Objective did not converge. You might want to increase the number of iterations, check the scale of the features or consider increasing regularisation. Duality gap: 2.986e+02, tolerance: 1.665e-01\n",
      "  model = cd_fast.enet_coordinate_descent(\n",
      "C:\\Users\\bi4372\\.conda\\envs\\pyWATTS-deRSE-2023\\lib\\site-packages\\sklearn\\linear_model\\_coordinate_descent.py:648: ConvergenceWarning: Objective did not converge. You might want to increase the number of iterations, check the scale of the features or consider increasing regularisation. Duality gap: 1.934e+05, tolerance: 5.168e+04\n",
      "  model = cd_fast.enet_coordinate_descent(\n",
      "C:\\Users\\bi4372\\.conda\\envs\\pyWATTS-deRSE-2023\\lib\\site-packages\\sklearn\\linear_model\\_coordinate_descent.py:648: ConvergenceWarning: Objective did not converge. You might want to increase the number of iterations, check the scale of the features or consider increasing regularisation. Duality gap: 2.170e+05, tolerance: 5.465e+04\n",
      "  model = cd_fast.enet_coordinate_descent(\n",
      "C:\\Users\\bi4372\\.conda\\envs\\pyWATTS-deRSE-2023\\lib\\site-packages\\sklearn\\linear_model\\_coordinate_descent.py:648: ConvergenceWarning: Objective did not converge. You might want to increase the number of iterations, check the scale of the features or consider increasing regularisation. Duality gap: 2.280e+05, tolerance: 5.757e+04\n",
      "  model = cd_fast.enet_coordinate_descent(\n",
      "C:\\Users\\bi4372\\.conda\\envs\\pyWATTS-deRSE-2023\\lib\\site-packages\\sklearn\\linear_model\\_coordinate_descent.py:648: ConvergenceWarning: Objective did not converge. You might want to increase the number of iterations, check the scale of the features or consider increasing regularisation. Duality gap: 1.934e+05, tolerance: 5.168e+04\n",
      "  model = cd_fast.enet_coordinate_descent(\n",
      "C:\\Users\\bi4372\\.conda\\envs\\pyWATTS-deRSE-2023\\lib\\site-packages\\sklearn\\linear_model\\_coordinate_descent.py:648: ConvergenceWarning: Objective did not converge. You might want to increase the number of iterations, check the scale of the features or consider increasing regularisation. Duality gap: 5.644e+01, tolerance: 1.702e-02\n",
      "  model = cd_fast.enet_coordinate_descent(\n",
      "C:\\Users\\bi4372\\.conda\\envs\\pyWATTS-deRSE-2023\\lib\\site-packages\\sklearn\\linear_model\\_coordinate_descent.py:648: ConvergenceWarning: Objective did not converge. You might want to increase the number of iterations, check the scale of the features or consider increasing regularisation. Duality gap: 2.170e+05, tolerance: 5.465e+04\n",
      "  model = cd_fast.enet_coordinate_descent(\n",
      "C:\\Users\\bi4372\\.conda\\envs\\pyWATTS-deRSE-2023\\lib\\site-packages\\sklearn\\linear_model\\_coordinate_descent.py:648: ConvergenceWarning: Objective did not converge. You might want to increase the number of iterations, check the scale of the features or consider increasing regularisation. Duality gap: 5.733e+01, tolerance: 1.701e-02\n",
      "  model = cd_fast.enet_coordinate_descent(\n",
      "C:\\Users\\bi4372\\.conda\\envs\\pyWATTS-deRSE-2023\\lib\\site-packages\\sklearn\\linear_model\\_coordinate_descent.py:648: ConvergenceWarning: Objective did not converge. You might want to increase the number of iterations, check the scale of the features or consider increasing regularisation. Duality gap: 2.280e+05, tolerance: 5.757e+04\n",
      "  model = cd_fast.enet_coordinate_descent(\n",
      "C:\\Users\\bi4372\\.conda\\envs\\pyWATTS-deRSE-2023\\lib\\site-packages\\sklearn\\linear_model\\_coordinate_descent.py:648: ConvergenceWarning: Objective did not converge. You might want to increase the number of iterations, check the scale of the features or consider increasing regularisation. Duality gap: 5.690e+01, tolerance: 1.697e-02\n",
      "  model = cd_fast.enet_coordinate_descent(\n",
      "C:\\Users\\bi4372\\.conda\\envs\\pyWATTS-deRSE-2023\\lib\\site-packages\\sklearn\\linear_model\\_coordinate_descent.py:648: ConvergenceWarning: Objective did not converge. You might want to increase the number of iterations, check the scale of the features or consider increasing regularisation. Duality gap: 1.934e+05, tolerance: 5.168e+04\n",
      "  model = cd_fast.enet_coordinate_descent(\n",
      "C:\\Users\\bi4372\\.conda\\envs\\pyWATTS-deRSE-2023\\lib\\site-packages\\sklearn\\linear_model\\_coordinate_descent.py:648: ConvergenceWarning: Objective did not converge. You might want to increase the number of iterations, check the scale of the features or consider increasing regularisation. Duality gap: 2.170e+05, tolerance: 5.465e+04\n",
      "  model = cd_fast.enet_coordinate_descent(\n",
      "C:\\Users\\bi4372\\.conda\\envs\\pyWATTS-deRSE-2023\\lib\\site-packages\\sklearn\\linear_model\\_coordinate_descent.py:648: ConvergenceWarning: Objective did not converge. You might want to increase the number of iterations, check the scale of the features or consider increasing regularisation. Duality gap: 2.280e+05, tolerance: 5.757e+04\n",
      "  model = cd_fast.enet_coordinate_descent(\n",
      "C:\\Users\\bi4372\\.conda\\envs\\pyWATTS-deRSE-2023\\lib\\site-packages\\sklearn\\linear_model\\_coordinate_descent.py:648: ConvergenceWarning: Objective did not converge. You might want to increase the number of iterations, check the scale of the features or consider increasing regularisation. Duality gap: 1.934e+05, tolerance: 5.168e+04\n",
      "  model = cd_fast.enet_coordinate_descent(\n",
      "C:\\Users\\bi4372\\.conda\\envs\\pyWATTS-deRSE-2023\\lib\\site-packages\\sklearn\\linear_model\\_coordinate_descent.py:648: ConvergenceWarning: Objective did not converge. You might want to increase the number of iterations, check the scale of the features or consider increasing regularisation. Duality gap: 2.754e+01, tolerance: 1.702e-02\n",
      "  model = cd_fast.enet_coordinate_descent(\n",
      "C:\\Users\\bi4372\\.conda\\envs\\pyWATTS-deRSE-2023\\lib\\site-packages\\sklearn\\linear_model\\_coordinate_descent.py:648: ConvergenceWarning: Objective did not converge. You might want to increase the number of iterations, check the scale of the features or consider increasing regularisation. Duality gap: 2.170e+05, tolerance: 5.465e+04\n",
      "  model = cd_fast.enet_coordinate_descent(\n",
      "C:\\Users\\bi4372\\.conda\\envs\\pyWATTS-deRSE-2023\\lib\\site-packages\\sklearn\\linear_model\\_coordinate_descent.py:648: ConvergenceWarning: Objective did not converge. You might want to increase the number of iterations, check the scale of the features or consider increasing regularisation. Duality gap: 2.735e+01, tolerance: 1.701e-02\n",
      "  model = cd_fast.enet_coordinate_descent(\n",
      "C:\\Users\\bi4372\\.conda\\envs\\pyWATTS-deRSE-2023\\lib\\site-packages\\sklearn\\linear_model\\_coordinate_descent.py:648: ConvergenceWarning: Objective did not converge. You might want to increase the number of iterations, check the scale of the features or consider increasing regularisation. Duality gap: 2.280e+05, tolerance: 5.757e+04\n",
      "  model = cd_fast.enet_coordinate_descent(\n",
      "C:\\Users\\bi4372\\.conda\\envs\\pyWATTS-deRSE-2023\\lib\\site-packages\\sklearn\\linear_model\\_coordinate_descent.py:648: ConvergenceWarning: Objective did not converge. You might want to increase the number of iterations, check the scale of the features or consider increasing regularisation. Duality gap: 2.956e+01, tolerance: 1.697e-02\n",
      "  model = cd_fast.enet_coordinate_descent(\n",
      "C:\\Users\\bi4372\\.conda\\envs\\pyWATTS-deRSE-2023\\lib\\site-packages\\sklearn\\linear_model\\_coordinate_descent.py:648: ConvergenceWarning: Objective did not converge. You might want to increase the number of iterations, check the scale of the features or consider increasing regularisation. Duality gap: 1.934e+05, tolerance: 5.168e+04\n",
      "  model = cd_fast.enet_coordinate_descent(\n",
      "C:\\Users\\bi4372\\.conda\\envs\\pyWATTS-deRSE-2023\\lib\\site-packages\\sklearn\\linear_model\\_coordinate_descent.py:648: ConvergenceWarning: Objective did not converge. You might want to increase the number of iterations, check the scale of the features or consider increasing regularisation. Duality gap: 2.170e+05, tolerance: 5.465e+04\n",
      "  model = cd_fast.enet_coordinate_descent(\n",
      "C:\\Users\\bi4372\\.conda\\envs\\pyWATTS-deRSE-2023\\lib\\site-packages\\sklearn\\linear_model\\_coordinate_descent.py:648: ConvergenceWarning: Objective did not converge. You might want to increase the number of iterations, check the scale of the features or consider increasing regularisation. Duality gap: 2.280e+05, tolerance: 5.757e+04\n",
      "  model = cd_fast.enet_coordinate_descent(\n",
      "C:\\Users\\bi4372\\.conda\\envs\\pyWATTS-deRSE-2023\\lib\\site-packages\\sklearn\\linear_model\\_coordinate_descent.py:648: ConvergenceWarning: Objective did not converge. You might want to increase the number of iterations, check the scale of the features or consider increasing regularisation. Duality gap: 1.934e+05, tolerance: 5.168e+04\n",
      "  model = cd_fast.enet_coordinate_descent(\n",
      "C:\\Users\\bi4372\\.conda\\envs\\pyWATTS-deRSE-2023\\lib\\site-packages\\sklearn\\linear_model\\_coordinate_descent.py:648: ConvergenceWarning: Objective did not converge. You might want to increase the number of iterations, check the scale of the features or consider increasing regularisation. Duality gap: 5.644e+01, tolerance: 1.702e-02\n",
      "  model = cd_fast.enet_coordinate_descent(\n",
      "C:\\Users\\bi4372\\.conda\\envs\\pyWATTS-deRSE-2023\\lib\\site-packages\\sklearn\\linear_model\\_coordinate_descent.py:648: ConvergenceWarning: Objective did not converge. You might want to increase the number of iterations, check the scale of the features or consider increasing regularisation. Duality gap: 2.170e+05, tolerance: 5.465e+04\n",
      "  model = cd_fast.enet_coordinate_descent(\n",
      "C:\\Users\\bi4372\\.conda\\envs\\pyWATTS-deRSE-2023\\lib\\site-packages\\sklearn\\linear_model\\_coordinate_descent.py:648: ConvergenceWarning: Objective did not converge. You might want to increase the number of iterations, check the scale of the features or consider increasing regularisation. Duality gap: 5.733e+01, tolerance: 1.701e-02\n",
      "  model = cd_fast.enet_coordinate_descent(\n",
      "C:\\Users\\bi4372\\.conda\\envs\\pyWATTS-deRSE-2023\\lib\\site-packages\\sklearn\\linear_model\\_coordinate_descent.py:648: ConvergenceWarning: Objective did not converge. You might want to increase the number of iterations, check the scale of the features or consider increasing regularisation. Duality gap: 2.280e+05, tolerance: 5.757e+04\n",
      "  model = cd_fast.enet_coordinate_descent(\n",
      "C:\\Users\\bi4372\\.conda\\envs\\pyWATTS-deRSE-2023\\lib\\site-packages\\sklearn\\linear_model\\_coordinate_descent.py:648: ConvergenceWarning: Objective did not converge. You might want to increase the number of iterations, check the scale of the features or consider increasing regularisation. Duality gap: 5.690e+01, tolerance: 1.697e-02\n",
      "  model = cd_fast.enet_coordinate_descent(\n",
      "C:\\Users\\bi4372\\.conda\\envs\\pyWATTS-deRSE-2023\\lib\\site-packages\\sklearn\\linear_model\\_coordinate_descent.py:648: ConvergenceWarning: Objective did not converge. You might want to increase the number of iterations, check the scale of the features or consider increasing regularisation. Duality gap: 1.934e+05, tolerance: 5.168e+04\n",
      "  model = cd_fast.enet_coordinate_descent(\n",
      "C:\\Users\\bi4372\\.conda\\envs\\pyWATTS-deRSE-2023\\lib\\site-packages\\sklearn\\linear_model\\_coordinate_descent.py:648: ConvergenceWarning: Objective did not converge. You might want to increase the number of iterations, check the scale of the features or consider increasing regularisation. Duality gap: 2.170e+05, tolerance: 5.465e+04\n",
      "  model = cd_fast.enet_coordinate_descent(\n",
      "C:\\Users\\bi4372\\.conda\\envs\\pyWATTS-deRSE-2023\\lib\\site-packages\\sklearn\\linear_model\\_coordinate_descent.py:648: ConvergenceWarning: Objective did not converge. You might want to increase the number of iterations, check the scale of the features or consider increasing regularisation. Duality gap: 2.280e+05, tolerance: 5.757e+04\n",
      "  model = cd_fast.enet_coordinate_descent(\n",
      "C:\\Users\\bi4372\\.conda\\envs\\pyWATTS-deRSE-2023\\lib\\site-packages\\sklearn\\linear_model\\_coordinate_descent.py:648: ConvergenceWarning: Objective did not converge. You might want to increase the number of iterations, check the scale of the features or consider increasing regularisation. Duality gap: 1.934e+05, tolerance: 5.168e+04\n",
      "  model = cd_fast.enet_coordinate_descent(\n",
      "C:\\Users\\bi4372\\.conda\\envs\\pyWATTS-deRSE-2023\\lib\\site-packages\\sklearn\\linear_model\\_coordinate_descent.py:648: ConvergenceWarning: Objective did not converge. You might want to increase the number of iterations, check the scale of the features or consider increasing regularisation. Duality gap: 2.754e+01, tolerance: 1.702e-02\n",
      "  model = cd_fast.enet_coordinate_descent(\n",
      "C:\\Users\\bi4372\\.conda\\envs\\pyWATTS-deRSE-2023\\lib\\site-packages\\sklearn\\linear_model\\_coordinate_descent.py:648: ConvergenceWarning: Objective did not converge. You might want to increase the number of iterations, check the scale of the features or consider increasing regularisation. Duality gap: 2.170e+05, tolerance: 5.465e+04\n",
      "  model = cd_fast.enet_coordinate_descent(\n",
      "C:\\Users\\bi4372\\.conda\\envs\\pyWATTS-deRSE-2023\\lib\\site-packages\\sklearn\\linear_model\\_coordinate_descent.py:648: ConvergenceWarning: Objective did not converge. You might want to increase the number of iterations, check the scale of the features or consider increasing regularisation. Duality gap: 2.735e+01, tolerance: 1.701e-02\n",
      "  model = cd_fast.enet_coordinate_descent(\n",
      "C:\\Users\\bi4372\\.conda\\envs\\pyWATTS-deRSE-2023\\lib\\site-packages\\sklearn\\linear_model\\_coordinate_descent.py:648: ConvergenceWarning: Objective did not converge. You might want to increase the number of iterations, check the scale of the features or consider increasing regularisation. Duality gap: 2.280e+05, tolerance: 5.757e+04\n",
      "  model = cd_fast.enet_coordinate_descent(\n",
      "C:\\Users\\bi4372\\.conda\\envs\\pyWATTS-deRSE-2023\\lib\\site-packages\\sklearn\\linear_model\\_coordinate_descent.py:648: ConvergenceWarning: Objective did not converge. You might want to increase the number of iterations, check the scale of the features or consider increasing regularisation. Duality gap: 2.956e+01, tolerance: 1.697e-02\n",
      "  model = cd_fast.enet_coordinate_descent(\n",
      "C:\\Users\\bi4372\\.conda\\envs\\pyWATTS-deRSE-2023\\lib\\site-packages\\sklearn\\linear_model\\_coordinate_descent.py:648: ConvergenceWarning: Objective did not converge. You might want to increase the number of iterations, check the scale of the features or consider increasing regularisation. Duality gap: 1.934e+05, tolerance: 5.168e+04\n",
      "  model = cd_fast.enet_coordinate_descent(\n",
      "C:\\Users\\bi4372\\.conda\\envs\\pyWATTS-deRSE-2023\\lib\\site-packages\\sklearn\\linear_model\\_coordinate_descent.py:648: ConvergenceWarning: Objective did not converge. You might want to increase the number of iterations, check the scale of the features or consider increasing regularisation. Duality gap: 2.170e+05, tolerance: 5.465e+04\n",
      "  model = cd_fast.enet_coordinate_descent(\n",
      "C:\\Users\\bi4372\\.conda\\envs\\pyWATTS-deRSE-2023\\lib\\site-packages\\sklearn\\linear_model\\_coordinate_descent.py:648: ConvergenceWarning: Objective did not converge. You might want to increase the number of iterations, check the scale of the features or consider increasing regularisation. Duality gap: 2.280e+05, tolerance: 5.757e+04\n",
      "  model = cd_fast.enet_coordinate_descent(\n",
      "C:\\Users\\bi4372\\.conda\\envs\\pyWATTS-deRSE-2023\\lib\\site-packages\\sklearn\\linear_model\\_coordinate_descent.py:648: ConvergenceWarning: Objective did not converge. You might want to increase the number of iterations, check the scale of the features or consider increasing regularisation. Duality gap: 1.934e+05, tolerance: 5.168e+04\n",
      "  model = cd_fast.enet_coordinate_descent(\n",
      "C:\\Users\\bi4372\\.conda\\envs\\pyWATTS-deRSE-2023\\lib\\site-packages\\sklearn\\linear_model\\_coordinate_descent.py:648: ConvergenceWarning: Objective did not converge. You might want to increase the number of iterations, check the scale of the features or consider increasing regularisation. Duality gap: 2.170e+05, tolerance: 5.465e+04\n",
      "  model = cd_fast.enet_coordinate_descent(\n",
      "C:\\Users\\bi4372\\.conda\\envs\\pyWATTS-deRSE-2023\\lib\\site-packages\\sklearn\\linear_model\\_coordinate_descent.py:648: ConvergenceWarning: Objective did not converge. You might want to increase the number of iterations, check the scale of the features or consider increasing regularisation. Duality gap: 2.280e+05, tolerance: 5.757e+04\n",
      "  model = cd_fast.enet_coordinate_descent(\n",
      "C:\\Users\\bi4372\\.conda\\envs\\pyWATTS-deRSE-2023\\lib\\site-packages\\sklearn\\linear_model\\_coordinate_descent.py:648: ConvergenceWarning: Objective did not converge. You might want to increase the number of iterations, check the scale of the features or consider increasing regularisation. Duality gap: 1.934e+05, tolerance: 5.168e+04\n",
      "  model = cd_fast.enet_coordinate_descent(\n",
      "C:\\Users\\bi4372\\.conda\\envs\\pyWATTS-deRSE-2023\\lib\\site-packages\\sklearn\\linear_model\\_coordinate_descent.py:648: ConvergenceWarning: Objective did not converge. You might want to increase the number of iterations, check the scale of the features or consider increasing regularisation. Duality gap: 2.170e+05, tolerance: 5.465e+04\n",
      "  model = cd_fast.enet_coordinate_descent(\n",
      "C:\\Users\\bi4372\\.conda\\envs\\pyWATTS-deRSE-2023\\lib\\site-packages\\sklearn\\linear_model\\_coordinate_descent.py:648: ConvergenceWarning: Objective did not converge. You might want to increase the number of iterations, check the scale of the features or consider increasing regularisation. Duality gap: 2.280e+05, tolerance: 5.757e+04\n",
      "  model = cd_fast.enet_coordinate_descent(\n",
      "C:\\Users\\bi4372\\.conda\\envs\\pyWATTS-deRSE-2023\\lib\\site-packages\\sklearn\\linear_model\\_coordinate_descent.py:648: ConvergenceWarning: Objective did not converge. You might want to increase the number of iterations, check the scale of the features or consider increasing regularisation. Duality gap: 1.934e+05, tolerance: 5.168e+04\n",
      "  model = cd_fast.enet_coordinate_descent(\n",
      "C:\\Users\\bi4372\\.conda\\envs\\pyWATTS-deRSE-2023\\lib\\site-packages\\sklearn\\linear_model\\_coordinate_descent.py:648: ConvergenceWarning: Objective did not converge. You might want to increase the number of iterations, check the scale of the features or consider increasing regularisation. Duality gap: 5.644e+01, tolerance: 1.702e-02\n",
      "  model = cd_fast.enet_coordinate_descent(\n",
      "C:\\Users\\bi4372\\.conda\\envs\\pyWATTS-deRSE-2023\\lib\\site-packages\\sklearn\\linear_model\\_coordinate_descent.py:648: ConvergenceWarning: Objective did not converge. You might want to increase the number of iterations, check the scale of the features or consider increasing regularisation. Duality gap: 2.170e+05, tolerance: 5.465e+04\n",
      "  model = cd_fast.enet_coordinate_descent(\n",
      "C:\\Users\\bi4372\\.conda\\envs\\pyWATTS-deRSE-2023\\lib\\site-packages\\sklearn\\linear_model\\_coordinate_descent.py:648: ConvergenceWarning: Objective did not converge. You might want to increase the number of iterations, check the scale of the features or consider increasing regularisation. Duality gap: 5.733e+01, tolerance: 1.701e-02\n",
      "  model = cd_fast.enet_coordinate_descent(\n",
      "C:\\Users\\bi4372\\.conda\\envs\\pyWATTS-deRSE-2023\\lib\\site-packages\\sklearn\\linear_model\\_coordinate_descent.py:648: ConvergenceWarning: Objective did not converge. You might want to increase the number of iterations, check the scale of the features or consider increasing regularisation. Duality gap: 2.280e+05, tolerance: 5.757e+04\n",
      "  model = cd_fast.enet_coordinate_descent(\n",
      "C:\\Users\\bi4372\\.conda\\envs\\pyWATTS-deRSE-2023\\lib\\site-packages\\sklearn\\linear_model\\_coordinate_descent.py:648: ConvergenceWarning: Objective did not converge. You might want to increase the number of iterations, check the scale of the features or consider increasing regularisation. Duality gap: 5.690e+01, tolerance: 1.697e-02\n",
      "  model = cd_fast.enet_coordinate_descent(\n",
      "C:\\Users\\bi4372\\.conda\\envs\\pyWATTS-deRSE-2023\\lib\\site-packages\\sklearn\\linear_model\\_coordinate_descent.py:648: ConvergenceWarning: Objective did not converge. You might want to increase the number of iterations, check the scale of the features or consider increasing regularisation. Duality gap: 1.934e+05, tolerance: 5.168e+04\n",
      "  model = cd_fast.enet_coordinate_descent(\n",
      "C:\\Users\\bi4372\\.conda\\envs\\pyWATTS-deRSE-2023\\lib\\site-packages\\sklearn\\linear_model\\_coordinate_descent.py:648: ConvergenceWarning: Objective did not converge. You might want to increase the number of iterations, check the scale of the features or consider increasing regularisation. Duality gap: 2.170e+05, tolerance: 5.465e+04\n",
      "  model = cd_fast.enet_coordinate_descent(\n",
      "C:\\Users\\bi4372\\.conda\\envs\\pyWATTS-deRSE-2023\\lib\\site-packages\\sklearn\\linear_model\\_coordinate_descent.py:648: ConvergenceWarning: Objective did not converge. You might want to increase the number of iterations, check the scale of the features or consider increasing regularisation. Duality gap: 2.280e+05, tolerance: 5.757e+04\n",
      "  model = cd_fast.enet_coordinate_descent(\n",
      "C:\\Users\\bi4372\\.conda\\envs\\pyWATTS-deRSE-2023\\lib\\site-packages\\sklearn\\linear_model\\_coordinate_descent.py:648: ConvergenceWarning: Objective did not converge. You might want to increase the number of iterations, check the scale of the features or consider increasing regularisation. Duality gap: 1.934e+05, tolerance: 5.168e+04\n",
      "  model = cd_fast.enet_coordinate_descent(\n",
      "C:\\Users\\bi4372\\.conda\\envs\\pyWATTS-deRSE-2023\\lib\\site-packages\\sklearn\\linear_model\\_coordinate_descent.py:648: ConvergenceWarning: Objective did not converge. You might want to increase the number of iterations, check the scale of the features or consider increasing regularisation. Duality gap: 2.754e+01, tolerance: 1.702e-02\n",
      "  model = cd_fast.enet_coordinate_descent(\n",
      "C:\\Users\\bi4372\\.conda\\envs\\pyWATTS-deRSE-2023\\lib\\site-packages\\sklearn\\linear_model\\_coordinate_descent.py:648: ConvergenceWarning: Objective did not converge. You might want to increase the number of iterations, check the scale of the features or consider increasing regularisation. Duality gap: 2.170e+05, tolerance: 5.465e+04\n",
      "  model = cd_fast.enet_coordinate_descent(\n",
      "C:\\Users\\bi4372\\.conda\\envs\\pyWATTS-deRSE-2023\\lib\\site-packages\\sklearn\\linear_model\\_coordinate_descent.py:648: ConvergenceWarning: Objective did not converge. You might want to increase the number of iterations, check the scale of the features or consider increasing regularisation. Duality gap: 2.735e+01, tolerance: 1.701e-02\n",
      "  model = cd_fast.enet_coordinate_descent(\n",
      "C:\\Users\\bi4372\\.conda\\envs\\pyWATTS-deRSE-2023\\lib\\site-packages\\sklearn\\linear_model\\_coordinate_descent.py:648: ConvergenceWarning: Objective did not converge. You might want to increase the number of iterations, check the scale of the features or consider increasing regularisation. Duality gap: 2.280e+05, tolerance: 5.757e+04\n",
      "  model = cd_fast.enet_coordinate_descent(\n",
      "C:\\Users\\bi4372\\.conda\\envs\\pyWATTS-deRSE-2023\\lib\\site-packages\\sklearn\\linear_model\\_coordinate_descent.py:648: ConvergenceWarning: Objective did not converge. You might want to increase the number of iterations, check the scale of the features or consider increasing regularisation. Duality gap: 2.956e+01, tolerance: 1.697e-02\n",
      "  model = cd_fast.enet_coordinate_descent(\n",
      "C:\\Users\\bi4372\\.conda\\envs\\pyWATTS-deRSE-2023\\lib\\site-packages\\sklearn\\linear_model\\_coordinate_descent.py:648: ConvergenceWarning: Objective did not converge. You might want to increase the number of iterations, check the scale of the features or consider increasing regularisation. Duality gap: 1.934e+05, tolerance: 5.168e+04\n",
      "  model = cd_fast.enet_coordinate_descent(\n",
      "C:\\Users\\bi4372\\.conda\\envs\\pyWATTS-deRSE-2023\\lib\\site-packages\\sklearn\\linear_model\\_coordinate_descent.py:648: ConvergenceWarning: Objective did not converge. You might want to increase the number of iterations, check the scale of the features or consider increasing regularisation. Duality gap: 3.038e+02, tolerance: 1.703e-01\n",
      "  model = cd_fast.enet_coordinate_descent(\n",
      "C:\\Users\\bi4372\\.conda\\envs\\pyWATTS-deRSE-2023\\lib\\site-packages\\sklearn\\linear_model\\_coordinate_descent.py:648: ConvergenceWarning: Objective did not converge. You might want to increase the number of iterations, check the scale of the features or consider increasing regularisation. Duality gap: 2.170e+05, tolerance: 5.465e+04\n",
      "  model = cd_fast.enet_coordinate_descent(\n",
      "C:\\Users\\bi4372\\.conda\\envs\\pyWATTS-deRSE-2023\\lib\\site-packages\\sklearn\\linear_model\\_coordinate_descent.py:648: ConvergenceWarning: Objective did not converge. You might want to increase the number of iterations, check the scale of the features or consider increasing regularisation. Duality gap: 3.193e+02, tolerance: 1.679e-01\n",
      "  model = cd_fast.enet_coordinate_descent(\n",
      "C:\\Users\\bi4372\\.conda\\envs\\pyWATTS-deRSE-2023\\lib\\site-packages\\sklearn\\linear_model\\_coordinate_descent.py:648: ConvergenceWarning: Objective did not converge. You might want to increase the number of iterations, check the scale of the features or consider increasing regularisation. Duality gap: 2.280e+05, tolerance: 5.757e+04\n",
      "  model = cd_fast.enet_coordinate_descent(\n",
      "C:\\Users\\bi4372\\.conda\\envs\\pyWATTS-deRSE-2023\\lib\\site-packages\\sklearn\\linear_model\\_coordinate_descent.py:648: ConvergenceWarning: Objective did not converge. You might want to increase the number of iterations, check the scale of the features or consider increasing regularisation. Duality gap: 2.986e+02, tolerance: 1.665e-01\n",
      "  model = cd_fast.enet_coordinate_descent(\n",
      "C:\\Users\\bi4372\\.conda\\envs\\pyWATTS-deRSE-2023\\lib\\site-packages\\sklearn\\linear_model\\_coordinate_descent.py:648: ConvergenceWarning: Objective did not converge. You might want to increase the number of iterations, check the scale of the features or consider increasing regularisation. Duality gap: 1.934e+05, tolerance: 5.168e+04\n",
      "  model = cd_fast.enet_coordinate_descent(\n",
      "C:\\Users\\bi4372\\.conda\\envs\\pyWATTS-deRSE-2023\\lib\\site-packages\\sklearn\\linear_model\\_coordinate_descent.py:648: ConvergenceWarning: Objective did not converge. You might want to increase the number of iterations, check the scale of the features or consider increasing regularisation. Duality gap: 3.038e+02, tolerance: 1.703e-01\n",
      "  model = cd_fast.enet_coordinate_descent(\n",
      "C:\\Users\\bi4372\\.conda\\envs\\pyWATTS-deRSE-2023\\lib\\site-packages\\sklearn\\linear_model\\_coordinate_descent.py:648: ConvergenceWarning: Objective did not converge. You might want to increase the number of iterations, check the scale of the features or consider increasing regularisation. Duality gap: 2.170e+05, tolerance: 5.465e+04\n",
      "  model = cd_fast.enet_coordinate_descent(\n",
      "C:\\Users\\bi4372\\.conda\\envs\\pyWATTS-deRSE-2023\\lib\\site-packages\\sklearn\\linear_model\\_coordinate_descent.py:648: ConvergenceWarning: Objective did not converge. You might want to increase the number of iterations, check the scale of the features or consider increasing regularisation. Duality gap: 3.193e+02, tolerance: 1.679e-01\n",
      "  model = cd_fast.enet_coordinate_descent(\n",
      "C:\\Users\\bi4372\\.conda\\envs\\pyWATTS-deRSE-2023\\lib\\site-packages\\sklearn\\linear_model\\_coordinate_descent.py:648: ConvergenceWarning: Objective did not converge. You might want to increase the number of iterations, check the scale of the features or consider increasing regularisation. Duality gap: 2.280e+05, tolerance: 5.757e+04\n",
      "  model = cd_fast.enet_coordinate_descent(\n",
      "C:\\Users\\bi4372\\.conda\\envs\\pyWATTS-deRSE-2023\\lib\\site-packages\\sklearn\\linear_model\\_coordinate_descent.py:648: ConvergenceWarning: Objective did not converge. You might want to increase the number of iterations, check the scale of the features or consider increasing regularisation. Duality gap: 2.986e+02, tolerance: 1.665e-01\n",
      "  model = cd_fast.enet_coordinate_descent(\n",
      "C:\\Users\\bi4372\\.conda\\envs\\pyWATTS-deRSE-2023\\lib\\site-packages\\sklearn\\linear_model\\_coordinate_descent.py:648: ConvergenceWarning: Objective did not converge. You might want to increase the number of iterations, check the scale of the features or consider increasing regularisation. Duality gap: 1.934e+05, tolerance: 5.168e+04\n",
      "  model = cd_fast.enet_coordinate_descent(\n",
      "C:\\Users\\bi4372\\.conda\\envs\\pyWATTS-deRSE-2023\\lib\\site-packages\\sklearn\\linear_model\\_coordinate_descent.py:648: ConvergenceWarning: Objective did not converge. You might want to increase the number of iterations, check the scale of the features or consider increasing regularisation. Duality gap: 3.038e+02, tolerance: 1.703e-01\n",
      "  model = cd_fast.enet_coordinate_descent(\n",
      "C:\\Users\\bi4372\\.conda\\envs\\pyWATTS-deRSE-2023\\lib\\site-packages\\sklearn\\linear_model\\_coordinate_descent.py:648: ConvergenceWarning: Objective did not converge. You might want to increase the number of iterations, check the scale of the features or consider increasing regularisation. Duality gap: 2.170e+05, tolerance: 5.465e+04\n",
      "  model = cd_fast.enet_coordinate_descent(\n",
      "C:\\Users\\bi4372\\.conda\\envs\\pyWATTS-deRSE-2023\\lib\\site-packages\\sklearn\\linear_model\\_coordinate_descent.py:648: ConvergenceWarning: Objective did not converge. You might want to increase the number of iterations, check the scale of the features or consider increasing regularisation. Duality gap: 3.193e+02, tolerance: 1.679e-01\n",
      "  model = cd_fast.enet_coordinate_descent(\n",
      "C:\\Users\\bi4372\\.conda\\envs\\pyWATTS-deRSE-2023\\lib\\site-packages\\sklearn\\linear_model\\_coordinate_descent.py:648: ConvergenceWarning: Objective did not converge. You might want to increase the number of iterations, check the scale of the features or consider increasing regularisation. Duality gap: 2.280e+05, tolerance: 5.757e+04\n",
      "  model = cd_fast.enet_coordinate_descent(\n",
      "C:\\Users\\bi4372\\.conda\\envs\\pyWATTS-deRSE-2023\\lib\\site-packages\\sklearn\\linear_model\\_coordinate_descent.py:648: ConvergenceWarning: Objective did not converge. You might want to increase the number of iterations, check the scale of the features or consider increasing regularisation. Duality gap: 2.986e+02, tolerance: 1.665e-01\n",
      "  model = cd_fast.enet_coordinate_descent(\n",
      "C:\\Users\\bi4372\\.conda\\envs\\pyWATTS-deRSE-2023\\lib\\site-packages\\sklearn\\linear_model\\_coordinate_descent.py:648: ConvergenceWarning: Objective did not converge. You might want to increase the number of iterations, check the scale of the features or consider increasing regularisation. Duality gap: 1.934e+05, tolerance: 5.168e+04\n",
      "  model = cd_fast.enet_coordinate_descent(\n",
      "C:\\Users\\bi4372\\.conda\\envs\\pyWATTS-deRSE-2023\\lib\\site-packages\\sklearn\\linear_model\\_coordinate_descent.py:648: ConvergenceWarning: Objective did not converge. You might want to increase the number of iterations, check the scale of the features or consider increasing regularisation. Duality gap: 5.644e+01, tolerance: 1.702e-02\n",
      "  model = cd_fast.enet_coordinate_descent(\n",
      "C:\\Users\\bi4372\\.conda\\envs\\pyWATTS-deRSE-2023\\lib\\site-packages\\sklearn\\linear_model\\_coordinate_descent.py:648: ConvergenceWarning: Objective did not converge. You might want to increase the number of iterations, check the scale of the features or consider increasing regularisation. Duality gap: 3.038e+02, tolerance: 1.703e-01\n",
      "  model = cd_fast.enet_coordinate_descent(\n",
      "C:\\Users\\bi4372\\.conda\\envs\\pyWATTS-deRSE-2023\\lib\\site-packages\\sklearn\\linear_model\\_coordinate_descent.py:648: ConvergenceWarning: Objective did not converge. You might want to increase the number of iterations, check the scale of the features or consider increasing regularisation. Duality gap: 2.170e+05, tolerance: 5.465e+04\n",
      "  model = cd_fast.enet_coordinate_descent(\n",
      "C:\\Users\\bi4372\\.conda\\envs\\pyWATTS-deRSE-2023\\lib\\site-packages\\sklearn\\linear_model\\_coordinate_descent.py:648: ConvergenceWarning: Objective did not converge. You might want to increase the number of iterations, check the scale of the features or consider increasing regularisation. Duality gap: 5.733e+01, tolerance: 1.701e-02\n",
      "  model = cd_fast.enet_coordinate_descent(\n",
      "C:\\Users\\bi4372\\.conda\\envs\\pyWATTS-deRSE-2023\\lib\\site-packages\\sklearn\\linear_model\\_coordinate_descent.py:648: ConvergenceWarning: Objective did not converge. You might want to increase the number of iterations, check the scale of the features or consider increasing regularisation. Duality gap: 3.193e+02, tolerance: 1.679e-01\n",
      "  model = cd_fast.enet_coordinate_descent(\n",
      "C:\\Users\\bi4372\\.conda\\envs\\pyWATTS-deRSE-2023\\lib\\site-packages\\sklearn\\linear_model\\_coordinate_descent.py:648: ConvergenceWarning: Objective did not converge. You might want to increase the number of iterations, check the scale of the features or consider increasing regularisation. Duality gap: 2.280e+05, tolerance: 5.757e+04\n",
      "  model = cd_fast.enet_coordinate_descent(\n",
      "C:\\Users\\bi4372\\.conda\\envs\\pyWATTS-deRSE-2023\\lib\\site-packages\\sklearn\\linear_model\\_coordinate_descent.py:648: ConvergenceWarning: Objective did not converge. You might want to increase the number of iterations, check the scale of the features or consider increasing regularisation. Duality gap: 5.690e+01, tolerance: 1.697e-02\n",
      "  model = cd_fast.enet_coordinate_descent(\n",
      "C:\\Users\\bi4372\\.conda\\envs\\pyWATTS-deRSE-2023\\lib\\site-packages\\sklearn\\linear_model\\_coordinate_descent.py:648: ConvergenceWarning: Objective did not converge. You might want to increase the number of iterations, check the scale of the features or consider increasing regularisation. Duality gap: 2.986e+02, tolerance: 1.665e-01\n",
      "  model = cd_fast.enet_coordinate_descent(\n",
      "C:\\Users\\bi4372\\.conda\\envs\\pyWATTS-deRSE-2023\\lib\\site-packages\\sklearn\\linear_model\\_coordinate_descent.py:648: ConvergenceWarning: Objective did not converge. You might want to increase the number of iterations, check the scale of the features or consider increasing regularisation. Duality gap: 1.934e+05, tolerance: 5.168e+04\n",
      "  model = cd_fast.enet_coordinate_descent(\n",
      "C:\\Users\\bi4372\\.conda\\envs\\pyWATTS-deRSE-2023\\lib\\site-packages\\sklearn\\linear_model\\_coordinate_descent.py:648: ConvergenceWarning: Objective did not converge. You might want to increase the number of iterations, check the scale of the features or consider increasing regularisation. Duality gap: 3.038e+02, tolerance: 1.703e-01\n",
      "  model = cd_fast.enet_coordinate_descent(\n",
      "C:\\Users\\bi4372\\.conda\\envs\\pyWATTS-deRSE-2023\\lib\\site-packages\\sklearn\\linear_model\\_coordinate_descent.py:648: ConvergenceWarning: Objective did not converge. You might want to increase the number of iterations, check the scale of the features or consider increasing regularisation. Duality gap: 2.170e+05, tolerance: 5.465e+04\n",
      "  model = cd_fast.enet_coordinate_descent(\n",
      "C:\\Users\\bi4372\\.conda\\envs\\pyWATTS-deRSE-2023\\lib\\site-packages\\sklearn\\linear_model\\_coordinate_descent.py:648: ConvergenceWarning: Objective did not converge. You might want to increase the number of iterations, check the scale of the features or consider increasing regularisation. Duality gap: 3.193e+02, tolerance: 1.679e-01\n",
      "  model = cd_fast.enet_coordinate_descent(\n",
      "C:\\Users\\bi4372\\.conda\\envs\\pyWATTS-deRSE-2023\\lib\\site-packages\\sklearn\\linear_model\\_coordinate_descent.py:648: ConvergenceWarning: Objective did not converge. You might want to increase the number of iterations, check the scale of the features or consider increasing regularisation. Duality gap: 2.280e+05, tolerance: 5.757e+04\n",
      "  model = cd_fast.enet_coordinate_descent(\n",
      "C:\\Users\\bi4372\\.conda\\envs\\pyWATTS-deRSE-2023\\lib\\site-packages\\sklearn\\linear_model\\_coordinate_descent.py:648: ConvergenceWarning: Objective did not converge. You might want to increase the number of iterations, check the scale of the features or consider increasing regularisation. Duality gap: 2.986e+02, tolerance: 1.665e-01\n",
      "  model = cd_fast.enet_coordinate_descent(\n",
      "C:\\Users\\bi4372\\.conda\\envs\\pyWATTS-deRSE-2023\\lib\\site-packages\\sklearn\\linear_model\\_coordinate_descent.py:648: ConvergenceWarning: Objective did not converge. You might want to increase the number of iterations, check the scale of the features or consider increasing regularisation. Duality gap: 1.934e+05, tolerance: 5.168e+04\n",
      "  model = cd_fast.enet_coordinate_descent(\n",
      "C:\\Users\\bi4372\\.conda\\envs\\pyWATTS-deRSE-2023\\lib\\site-packages\\sklearn\\linear_model\\_coordinate_descent.py:648: ConvergenceWarning: Objective did not converge. You might want to increase the number of iterations, check the scale of the features or consider increasing regularisation. Duality gap: 2.754e+01, tolerance: 1.702e-02\n",
      "  model = cd_fast.enet_coordinate_descent(\n",
      "C:\\Users\\bi4372\\.conda\\envs\\pyWATTS-deRSE-2023\\lib\\site-packages\\sklearn\\linear_model\\_coordinate_descent.py:648: ConvergenceWarning: Objective did not converge. You might want to increase the number of iterations, check the scale of the features or consider increasing regularisation. Duality gap: 3.038e+02, tolerance: 1.703e-01\n",
      "  model = cd_fast.enet_coordinate_descent(\n",
      "C:\\Users\\bi4372\\.conda\\envs\\pyWATTS-deRSE-2023\\lib\\site-packages\\sklearn\\linear_model\\_coordinate_descent.py:648: ConvergenceWarning: Objective did not converge. You might want to increase the number of iterations, check the scale of the features or consider increasing regularisation. Duality gap: 2.170e+05, tolerance: 5.465e+04\n",
      "  model = cd_fast.enet_coordinate_descent(\n",
      "C:\\Users\\bi4372\\.conda\\envs\\pyWATTS-deRSE-2023\\lib\\site-packages\\sklearn\\linear_model\\_coordinate_descent.py:648: ConvergenceWarning: Objective did not converge. You might want to increase the number of iterations, check the scale of the features or consider increasing regularisation. Duality gap: 2.735e+01, tolerance: 1.701e-02\n",
      "  model = cd_fast.enet_coordinate_descent(\n",
      "C:\\Users\\bi4372\\.conda\\envs\\pyWATTS-deRSE-2023\\lib\\site-packages\\sklearn\\linear_model\\_coordinate_descent.py:648: ConvergenceWarning: Objective did not converge. You might want to increase the number of iterations, check the scale of the features or consider increasing regularisation. Duality gap: 3.193e+02, tolerance: 1.679e-01\n",
      "  model = cd_fast.enet_coordinate_descent(\n",
      "C:\\Users\\bi4372\\.conda\\envs\\pyWATTS-deRSE-2023\\lib\\site-packages\\sklearn\\linear_model\\_coordinate_descent.py:648: ConvergenceWarning: Objective did not converge. You might want to increase the number of iterations, check the scale of the features or consider increasing regularisation. Duality gap: 2.280e+05, tolerance: 5.757e+04\n",
      "  model = cd_fast.enet_coordinate_descent(\n",
      "C:\\Users\\bi4372\\.conda\\envs\\pyWATTS-deRSE-2023\\lib\\site-packages\\sklearn\\linear_model\\_coordinate_descent.py:648: ConvergenceWarning: Objective did not converge. You might want to increase the number of iterations, check the scale of the features or consider increasing regularisation. Duality gap: 2.956e+01, tolerance: 1.697e-02\n",
      "  model = cd_fast.enet_coordinate_descent(\n",
      "C:\\Users\\bi4372\\.conda\\envs\\pyWATTS-deRSE-2023\\lib\\site-packages\\sklearn\\linear_model\\_coordinate_descent.py:648: ConvergenceWarning: Objective did not converge. You might want to increase the number of iterations, check the scale of the features or consider increasing regularisation. Duality gap: 2.986e+02, tolerance: 1.665e-01\n",
      "  model = cd_fast.enet_coordinate_descent(\n",
      "C:\\Users\\bi4372\\.conda\\envs\\pyWATTS-deRSE-2023\\lib\\site-packages\\sklearn\\linear_model\\_coordinate_descent.py:648: ConvergenceWarning: Objective did not converge. You might want to increase the number of iterations, check the scale of the features or consider increasing regularisation. Duality gap: 1.934e+05, tolerance: 5.168e+04\n",
      "  model = cd_fast.enet_coordinate_descent(\n",
      "C:\\Users\\bi4372\\.conda\\envs\\pyWATTS-deRSE-2023\\lib\\site-packages\\sklearn\\linear_model\\_coordinate_descent.py:648: ConvergenceWarning: Objective did not converge. You might want to increase the number of iterations, check the scale of the features or consider increasing regularisation. Duality gap: 2.170e+05, tolerance: 5.465e+04\n",
      "  model = cd_fast.enet_coordinate_descent(\n",
      "C:\\Users\\bi4372\\.conda\\envs\\pyWATTS-deRSE-2023\\lib\\site-packages\\sklearn\\linear_model\\_coordinate_descent.py:648: ConvergenceWarning: Objective did not converge. You might want to increase the number of iterations, check the scale of the features or consider increasing regularisation. Duality gap: 2.280e+05, tolerance: 5.757e+04\n",
      "  model = cd_fast.enet_coordinate_descent(\n",
      "C:\\Users\\bi4372\\.conda\\envs\\pyWATTS-deRSE-2023\\lib\\site-packages\\sklearn\\linear_model\\_coordinate_descent.py:648: ConvergenceWarning: Objective did not converge. You might want to increase the number of iterations, check the scale of the features or consider increasing regularisation. Duality gap: 1.934e+05, tolerance: 5.168e+04\n",
      "  model = cd_fast.enet_coordinate_descent(\n",
      "C:\\Users\\bi4372\\.conda\\envs\\pyWATTS-deRSE-2023\\lib\\site-packages\\sklearn\\linear_model\\_coordinate_descent.py:648: ConvergenceWarning: Objective did not converge. You might want to increase the number of iterations, check the scale of the features or consider increasing regularisation. Duality gap: 5.644e+01, tolerance: 1.702e-02\n",
      "  model = cd_fast.enet_coordinate_descent(\n",
      "C:\\Users\\bi4372\\.conda\\envs\\pyWATTS-deRSE-2023\\lib\\site-packages\\sklearn\\linear_model\\_coordinate_descent.py:648: ConvergenceWarning: Objective did not converge. You might want to increase the number of iterations, check the scale of the features or consider increasing regularisation. Duality gap: 2.170e+05, tolerance: 5.465e+04\n",
      "  model = cd_fast.enet_coordinate_descent(\n",
      "C:\\Users\\bi4372\\.conda\\envs\\pyWATTS-deRSE-2023\\lib\\site-packages\\sklearn\\linear_model\\_coordinate_descent.py:648: ConvergenceWarning: Objective did not converge. You might want to increase the number of iterations, check the scale of the features or consider increasing regularisation. Duality gap: 5.733e+01, tolerance: 1.701e-02\n",
      "  model = cd_fast.enet_coordinate_descent(\n",
      "C:\\Users\\bi4372\\.conda\\envs\\pyWATTS-deRSE-2023\\lib\\site-packages\\sklearn\\linear_model\\_coordinate_descent.py:648: ConvergenceWarning: Objective did not converge. You might want to increase the number of iterations, check the scale of the features or consider increasing regularisation. Duality gap: 2.280e+05, tolerance: 5.757e+04\n",
      "  model = cd_fast.enet_coordinate_descent(\n",
      "C:\\Users\\bi4372\\.conda\\envs\\pyWATTS-deRSE-2023\\lib\\site-packages\\sklearn\\linear_model\\_coordinate_descent.py:648: ConvergenceWarning: Objective did not converge. You might want to increase the number of iterations, check the scale of the features or consider increasing regularisation. Duality gap: 5.690e+01, tolerance: 1.697e-02\n",
      "  model = cd_fast.enet_coordinate_descent(\n",
      "C:\\Users\\bi4372\\.conda\\envs\\pyWATTS-deRSE-2023\\lib\\site-packages\\sklearn\\linear_model\\_coordinate_descent.py:648: ConvergenceWarning: Objective did not converge. You might want to increase the number of iterations, check the scale of the features or consider increasing regularisation. Duality gap: 3.435e+05, tolerance: 9.351e+04\n",
      "  model = cd_fast.enet_coordinate_descent(\n",
      "C:\\Users\\bi4372\\.conda\\envs\\pyWATTS-deRSE-2023\\lib\\site-packages\\sklearn\\linear_model\\_coordinate_descent.py:648: ConvergenceWarning: Objective did not converge. You might want to increase the number of iterations, check the scale of the features or consider increasing regularisation. Duality gap: 1.934e+05, tolerance: 5.168e+04\n",
      "  model = cd_fast.enet_coordinate_descent(\n",
      "C:\\Users\\bi4372\\.conda\\envs\\pyWATTS-deRSE-2023\\lib\\site-packages\\sklearn\\linear_model\\_coordinate_descent.py:648: ConvergenceWarning: Objective did not converge. You might want to increase the number of iterations, check the scale of the features or consider increasing regularisation. Duality gap: 3.470e+05, tolerance: 9.857e+04\n",
      "  model = cd_fast.enet_coordinate_descent(\n",
      "C:\\Users\\bi4372\\.conda\\envs\\pyWATTS-deRSE-2023\\lib\\site-packages\\sklearn\\linear_model\\_coordinate_descent.py:648: ConvergenceWarning: Objective did not converge. You might want to increase the number of iterations, check the scale of the features or consider increasing regularisation. Duality gap: 2.170e+05, tolerance: 5.465e+04\n",
      "  model = cd_fast.enet_coordinate_descent(\n",
      "C:\\Users\\bi4372\\.conda\\envs\\pyWATTS-deRSE-2023\\lib\\site-packages\\sklearn\\linear_model\\_coordinate_descent.py:648: ConvergenceWarning: Objective did not converge. You might want to increase the number of iterations, check the scale of the features or consider increasing regularisation. Duality gap: 3.600e+05, tolerance: 1.035e+05\n",
      "  model = cd_fast.enet_coordinate_descent(\n",
      "C:\\Users\\bi4372\\.conda\\envs\\pyWATTS-deRSE-2023\\lib\\site-packages\\sklearn\\linear_model\\_coordinate_descent.py:648: ConvergenceWarning: Objective did not converge. You might want to increase the number of iterations, check the scale of the features or consider increasing regularisation. Duality gap: 2.280e+05, tolerance: 5.757e+04\n",
      "  model = cd_fast.enet_coordinate_descent(\n",
      "C:\\Users\\bi4372\\.conda\\envs\\pyWATTS-deRSE-2023\\lib\\site-packages\\sklearn\\linear_model\\_coordinate_descent.py:648: ConvergenceWarning: Objective did not converge. You might want to increase the number of iterations, check the scale of the features or consider increasing regularisation. Duality gap: 3.435e+05, tolerance: 9.351e+04\n",
      "  model = cd_fast.enet_coordinate_descent(\n",
      "C:\\Users\\bi4372\\.conda\\envs\\pyWATTS-deRSE-2023\\lib\\site-packages\\sklearn\\linear_model\\_coordinate_descent.py:648: ConvergenceWarning: Objective did not converge. You might want to increase the number of iterations, check the scale of the features or consider increasing regularisation. Duality gap: 1.934e+05, tolerance: 5.168e+04\n",
      "  model = cd_fast.enet_coordinate_descent(\n",
      "C:\\Users\\bi4372\\.conda\\envs\\pyWATTS-deRSE-2023\\lib\\site-packages\\sklearn\\linear_model\\_coordinate_descent.py:648: ConvergenceWarning: Objective did not converge. You might want to increase the number of iterations, check the scale of the features or consider increasing regularisation. Duality gap: 2.754e+01, tolerance: 1.702e-02\n",
      "  model = cd_fast.enet_coordinate_descent(\n",
      "C:\\Users\\bi4372\\.conda\\envs\\pyWATTS-deRSE-2023\\lib\\site-packages\\sklearn\\linear_model\\_coordinate_descent.py:648: ConvergenceWarning: Objective did not converge. You might want to increase the number of iterations, check the scale of the features or consider increasing regularisation. Duality gap: 3.470e+05, tolerance: 9.857e+04\n",
      "  model = cd_fast.enet_coordinate_descent(\n",
      "C:\\Users\\bi4372\\.conda\\envs\\pyWATTS-deRSE-2023\\lib\\site-packages\\sklearn\\linear_model\\_coordinate_descent.py:648: ConvergenceWarning: Objective did not converge. You might want to increase the number of iterations, check the scale of the features or consider increasing regularisation. Duality gap: 2.170e+05, tolerance: 5.465e+04\n",
      "  model = cd_fast.enet_coordinate_descent(\n",
      "C:\\Users\\bi4372\\.conda\\envs\\pyWATTS-deRSE-2023\\lib\\site-packages\\sklearn\\linear_model\\_coordinate_descent.py:648: ConvergenceWarning: Objective did not converge. You might want to increase the number of iterations, check the scale of the features or consider increasing regularisation. Duality gap: 2.735e+01, tolerance: 1.701e-02\n",
      "  model = cd_fast.enet_coordinate_descent(\n",
      "C:\\Users\\bi4372\\.conda\\envs\\pyWATTS-deRSE-2023\\lib\\site-packages\\sklearn\\linear_model\\_coordinate_descent.py:648: ConvergenceWarning: Objective did not converge. You might want to increase the number of iterations, check the scale of the features or consider increasing regularisation. Duality gap: 3.600e+05, tolerance: 1.035e+05\n",
      "  model = cd_fast.enet_coordinate_descent(\n",
      "C:\\Users\\bi4372\\.conda\\envs\\pyWATTS-deRSE-2023\\lib\\site-packages\\sklearn\\linear_model\\_coordinate_descent.py:648: ConvergenceWarning: Objective did not converge. You might want to increase the number of iterations, check the scale of the features or consider increasing regularisation. Duality gap: 2.280e+05, tolerance: 5.757e+04\n",
      "  model = cd_fast.enet_coordinate_descent(\n",
      "C:\\Users\\bi4372\\.conda\\envs\\pyWATTS-deRSE-2023\\lib\\site-packages\\sklearn\\linear_model\\_coordinate_descent.py:648: ConvergenceWarning: Objective did not converge. You might want to increase the number of iterations, check the scale of the features or consider increasing regularisation. Duality gap: 2.956e+01, tolerance: 1.697e-02\n",
      "  model = cd_fast.enet_coordinate_descent(\n",
      "C:\\Users\\bi4372\\.conda\\envs\\pyWATTS-deRSE-2023\\lib\\site-packages\\sklearn\\linear_model\\_coordinate_descent.py:648: ConvergenceWarning: Objective did not converge. You might want to increase the number of iterations, check the scale of the features or consider increasing regularisation. Duality gap: 1.934e+05, tolerance: 5.168e+04\n",
      "  model = cd_fast.enet_coordinate_descent(\n",
      "C:\\Users\\bi4372\\.conda\\envs\\pyWATTS-deRSE-2023\\lib\\site-packages\\sklearn\\linear_model\\_coordinate_descent.py:648: ConvergenceWarning: Objective did not converge. You might want to increase the number of iterations, check the scale of the features or consider increasing regularisation. Duality gap: 2.170e+05, tolerance: 5.465e+04\n",
      "  model = cd_fast.enet_coordinate_descent(\n",
      "C:\\Users\\bi4372\\.conda\\envs\\pyWATTS-deRSE-2023\\lib\\site-packages\\sklearn\\linear_model\\_coordinate_descent.py:648: ConvergenceWarning: Objective did not converge. You might want to increase the number of iterations, check the scale of the features or consider increasing regularisation. Duality gap: 2.280e+05, tolerance: 5.757e+04\n",
      "  model = cd_fast.enet_coordinate_descent(\n",
      "C:\\Users\\bi4372\\.conda\\envs\\pyWATTS-deRSE-2023\\lib\\site-packages\\sklearn\\linear_model\\_coordinate_descent.py:648: ConvergenceWarning: Objective did not converge. You might want to increase the number of iterations, check the scale of the features or consider increasing regularisation. Duality gap: 1.934e+05, tolerance: 5.168e+04\n",
      "  model = cd_fast.enet_coordinate_descent(\n",
      "C:\\Users\\bi4372\\.conda\\envs\\pyWATTS-deRSE-2023\\lib\\site-packages\\sklearn\\linear_model\\_coordinate_descent.py:648: ConvergenceWarning: Objective did not converge. You might want to increase the number of iterations, check the scale of the features or consider increasing regularisation. Duality gap: 5.644e+01, tolerance: 1.702e-02\n",
      "  model = cd_fast.enet_coordinate_descent(\n",
      "C:\\Users\\bi4372\\.conda\\envs\\pyWATTS-deRSE-2023\\lib\\site-packages\\sklearn\\linear_model\\_coordinate_descent.py:648: ConvergenceWarning: Objective did not converge. You might want to increase the number of iterations, check the scale of the features or consider increasing regularisation. Duality gap: 2.170e+05, tolerance: 5.465e+04\n",
      "  model = cd_fast.enet_coordinate_descent(\n",
      "C:\\Users\\bi4372\\.conda\\envs\\pyWATTS-deRSE-2023\\lib\\site-packages\\sklearn\\linear_model\\_coordinate_descent.py:648: ConvergenceWarning: Objective did not converge. You might want to increase the number of iterations, check the scale of the features or consider increasing regularisation. Duality gap: 5.733e+01, tolerance: 1.701e-02\n",
      "  model = cd_fast.enet_coordinate_descent(\n",
      "C:\\Users\\bi4372\\.conda\\envs\\pyWATTS-deRSE-2023\\lib\\site-packages\\sklearn\\linear_model\\_coordinate_descent.py:648: ConvergenceWarning: Objective did not converge. You might want to increase the number of iterations, check the scale of the features or consider increasing regularisation. Duality gap: 2.280e+05, tolerance: 5.757e+04\n",
      "  model = cd_fast.enet_coordinate_descent(\n",
      "C:\\Users\\bi4372\\.conda\\envs\\pyWATTS-deRSE-2023\\lib\\site-packages\\sklearn\\linear_model\\_coordinate_descent.py:648: ConvergenceWarning: Objective did not converge. You might want to increase the number of iterations, check the scale of the features or consider increasing regularisation. Duality gap: 5.690e+01, tolerance: 1.697e-02\n",
      "  model = cd_fast.enet_coordinate_descent(\n",
      "C:\\Users\\bi4372\\.conda\\envs\\pyWATTS-deRSE-2023\\lib\\site-packages\\sklearn\\linear_model\\_coordinate_descent.py:648: ConvergenceWarning: Objective did not converge. You might want to increase the number of iterations, check the scale of the features or consider increasing regularisation. Duality gap: 3.435e+05, tolerance: 9.351e+04\n",
      "  model = cd_fast.enet_coordinate_descent(\n",
      "C:\\Users\\bi4372\\.conda\\envs\\pyWATTS-deRSE-2023\\lib\\site-packages\\sklearn\\linear_model\\_coordinate_descent.py:648: ConvergenceWarning: Objective did not converge. You might want to increase the number of iterations, check the scale of the features or consider increasing regularisation. Duality gap: 1.934e+05, tolerance: 5.168e+04\n",
      "  model = cd_fast.enet_coordinate_descent(\n",
      "C:\\Users\\bi4372\\.conda\\envs\\pyWATTS-deRSE-2023\\lib\\site-packages\\sklearn\\linear_model\\_coordinate_descent.py:648: ConvergenceWarning: Objective did not converge. You might want to increase the number of iterations, check the scale of the features or consider increasing regularisation. Duality gap: 3.470e+05, tolerance: 9.857e+04\n",
      "  model = cd_fast.enet_coordinate_descent(\n",
      "C:\\Users\\bi4372\\.conda\\envs\\pyWATTS-deRSE-2023\\lib\\site-packages\\sklearn\\linear_model\\_coordinate_descent.py:648: ConvergenceWarning: Objective did not converge. You might want to increase the number of iterations, check the scale of the features or consider increasing regularisation. Duality gap: 2.170e+05, tolerance: 5.465e+04\n",
      "  model = cd_fast.enet_coordinate_descent(\n",
      "C:\\Users\\bi4372\\.conda\\envs\\pyWATTS-deRSE-2023\\lib\\site-packages\\sklearn\\linear_model\\_coordinate_descent.py:648: ConvergenceWarning: Objective did not converge. You might want to increase the number of iterations, check the scale of the features or consider increasing regularisation. Duality gap: 3.600e+05, tolerance: 1.035e+05\n",
      "  model = cd_fast.enet_coordinate_descent(\n",
      "C:\\Users\\bi4372\\.conda\\envs\\pyWATTS-deRSE-2023\\lib\\site-packages\\sklearn\\linear_model\\_coordinate_descent.py:648: ConvergenceWarning: Objective did not converge. You might want to increase the number of iterations, check the scale of the features or consider increasing regularisation. Duality gap: 2.280e+05, tolerance: 5.757e+04\n",
      "  model = cd_fast.enet_coordinate_descent(\n",
      "C:\\Users\\bi4372\\.conda\\envs\\pyWATTS-deRSE-2023\\lib\\site-packages\\sklearn\\linear_model\\_coordinate_descent.py:648: ConvergenceWarning: Objective did not converge. You might want to increase the number of iterations, check the scale of the features or consider increasing regularisation. Duality gap: 3.435e+05, tolerance: 9.351e+04\n",
      "  model = cd_fast.enet_coordinate_descent(\n",
      "C:\\Users\\bi4372\\.conda\\envs\\pyWATTS-deRSE-2023\\lib\\site-packages\\sklearn\\linear_model\\_coordinate_descent.py:648: ConvergenceWarning: Objective did not converge. You might want to increase the number of iterations, check the scale of the features or consider increasing regularisation. Duality gap: 1.934e+05, tolerance: 5.168e+04\n",
      "  model = cd_fast.enet_coordinate_descent(\n",
      "C:\\Users\\bi4372\\.conda\\envs\\pyWATTS-deRSE-2023\\lib\\site-packages\\sklearn\\linear_model\\_coordinate_descent.py:648: ConvergenceWarning: Objective did not converge. You might want to increase the number of iterations, check the scale of the features or consider increasing regularisation. Duality gap: 2.754e+01, tolerance: 1.702e-02\n",
      "  model = cd_fast.enet_coordinate_descent(\n",
      "C:\\Users\\bi4372\\.conda\\envs\\pyWATTS-deRSE-2023\\lib\\site-packages\\sklearn\\linear_model\\_coordinate_descent.py:648: ConvergenceWarning: Objective did not converge. You might want to increase the number of iterations, check the scale of the features or consider increasing regularisation. Duality gap: 3.470e+05, tolerance: 9.857e+04\n",
      "  model = cd_fast.enet_coordinate_descent(\n",
      "C:\\Users\\bi4372\\.conda\\envs\\pyWATTS-deRSE-2023\\lib\\site-packages\\sklearn\\linear_model\\_coordinate_descent.py:648: ConvergenceWarning: Objective did not converge. You might want to increase the number of iterations, check the scale of the features or consider increasing regularisation. Duality gap: 2.170e+05, tolerance: 5.465e+04\n",
      "  model = cd_fast.enet_coordinate_descent(\n",
      "C:\\Users\\bi4372\\.conda\\envs\\pyWATTS-deRSE-2023\\lib\\site-packages\\sklearn\\linear_model\\_coordinate_descent.py:648: ConvergenceWarning: Objective did not converge. You might want to increase the number of iterations, check the scale of the features or consider increasing regularisation. Duality gap: 2.735e+01, tolerance: 1.701e-02\n",
      "  model = cd_fast.enet_coordinate_descent(\n",
      "C:\\Users\\bi4372\\.conda\\envs\\pyWATTS-deRSE-2023\\lib\\site-packages\\sklearn\\linear_model\\_coordinate_descent.py:648: ConvergenceWarning: Objective did not converge. You might want to increase the number of iterations, check the scale of the features or consider increasing regularisation. Duality gap: 3.600e+05, tolerance: 1.035e+05\n",
      "  model = cd_fast.enet_coordinate_descent(\n",
      "C:\\Users\\bi4372\\.conda\\envs\\pyWATTS-deRSE-2023\\lib\\site-packages\\sklearn\\linear_model\\_coordinate_descent.py:648: ConvergenceWarning: Objective did not converge. You might want to increase the number of iterations, check the scale of the features or consider increasing regularisation. Duality gap: 2.280e+05, tolerance: 5.757e+04\n",
      "  model = cd_fast.enet_coordinate_descent(\n",
      "C:\\Users\\bi4372\\.conda\\envs\\pyWATTS-deRSE-2023\\lib\\site-packages\\sklearn\\linear_model\\_coordinate_descent.py:648: ConvergenceWarning: Objective did not converge. You might want to increase the number of iterations, check the scale of the features or consider increasing regularisation. Duality gap: 2.956e+01, tolerance: 1.697e-02\n",
      "  model = cd_fast.enet_coordinate_descent(\n",
      "C:\\Users\\bi4372\\.conda\\envs\\pyWATTS-deRSE-2023\\lib\\site-packages\\sklearn\\linear_model\\_coordinate_descent.py:648: ConvergenceWarning: Objective did not converge. You might want to increase the number of iterations, check the scale of the features or consider increasing regularisation. Duality gap: 1.934e+05, tolerance: 5.168e+04\n",
      "  model = cd_fast.enet_coordinate_descent(\n",
      "C:\\Users\\bi4372\\.conda\\envs\\pyWATTS-deRSE-2023\\lib\\site-packages\\sklearn\\linear_model\\_coordinate_descent.py:648: ConvergenceWarning: Objective did not converge. You might want to increase the number of iterations, check the scale of the features or consider increasing regularisation. Duality gap: 2.170e+05, tolerance: 5.465e+04\n",
      "  model = cd_fast.enet_coordinate_descent(\n",
      "C:\\Users\\bi4372\\.conda\\envs\\pyWATTS-deRSE-2023\\lib\\site-packages\\sklearn\\linear_model\\_coordinate_descent.py:648: ConvergenceWarning: Objective did not converge. You might want to increase the number of iterations, check the scale of the features or consider increasing regularisation. Duality gap: 2.280e+05, tolerance: 5.757e+04\n",
      "  model = cd_fast.enet_coordinate_descent(\n",
      "C:\\Users\\bi4372\\.conda\\envs\\pyWATTS-deRSE-2023\\lib\\site-packages\\sklearn\\linear_model\\_coordinate_descent.py:648: ConvergenceWarning: Objective did not converge. You might want to increase the number of iterations, check the scale of the features or consider increasing regularisation. Duality gap: 1.934e+05, tolerance: 5.168e+04\n",
      "  model = cd_fast.enet_coordinate_descent(\n",
      "C:\\Users\\bi4372\\.conda\\envs\\pyWATTS-deRSE-2023\\lib\\site-packages\\sklearn\\linear_model\\_coordinate_descent.py:648: ConvergenceWarning: Objective did not converge. You might want to increase the number of iterations, check the scale of the features or consider increasing regularisation. Duality gap: 2.170e+05, tolerance: 5.465e+04\n",
      "  model = cd_fast.enet_coordinate_descent(\n",
      "C:\\Users\\bi4372\\.conda\\envs\\pyWATTS-deRSE-2023\\lib\\site-packages\\sklearn\\linear_model\\_coordinate_descent.py:648: ConvergenceWarning: Objective did not converge. You might want to increase the number of iterations, check the scale of the features or consider increasing regularisation. Duality gap: 2.280e+05, tolerance: 5.757e+04\n",
      "  model = cd_fast.enet_coordinate_descent(\n",
      "C:\\Users\\bi4372\\.conda\\envs\\pyWATTS-deRSE-2023\\lib\\site-packages\\sklearn\\linear_model\\_coordinate_descent.py:648: ConvergenceWarning: Objective did not converge. You might want to increase the number of iterations, check the scale of the features or consider increasing regularisation. Duality gap: 1.934e+05, tolerance: 5.168e+04\n",
      "  model = cd_fast.enet_coordinate_descent(\n",
      "C:\\Users\\bi4372\\.conda\\envs\\pyWATTS-deRSE-2023\\lib\\site-packages\\sklearn\\linear_model\\_coordinate_descent.py:648: ConvergenceWarning: Objective did not converge. You might want to increase the number of iterations, check the scale of the features or consider increasing regularisation. Duality gap: 2.170e+05, tolerance: 5.465e+04\n",
      "  model = cd_fast.enet_coordinate_descent(\n",
      "C:\\Users\\bi4372\\.conda\\envs\\pyWATTS-deRSE-2023\\lib\\site-packages\\sklearn\\linear_model\\_coordinate_descent.py:648: ConvergenceWarning: Objective did not converge. You might want to increase the number of iterations, check the scale of the features or consider increasing regularisation. Duality gap: 2.280e+05, tolerance: 5.757e+04\n",
      "  model = cd_fast.enet_coordinate_descent(\n",
      "C:\\Users\\bi4372\\.conda\\envs\\pyWATTS-deRSE-2023\\lib\\site-packages\\sklearn\\linear_model\\_coordinate_descent.py:648: ConvergenceWarning: Objective did not converge. You might want to increase the number of iterations, check the scale of the features or consider increasing regularisation. Duality gap: 1.934e+05, tolerance: 5.168e+04\n",
      "  model = cd_fast.enet_coordinate_descent(\n",
      "C:\\Users\\bi4372\\.conda\\envs\\pyWATTS-deRSE-2023\\lib\\site-packages\\sklearn\\linear_model\\_coordinate_descent.py:648: ConvergenceWarning: Objective did not converge. You might want to increase the number of iterations, check the scale of the features or consider increasing regularisation. Duality gap: 5.644e+01, tolerance: 1.702e-02\n",
      "  model = cd_fast.enet_coordinate_descent(\n",
      "C:\\Users\\bi4372\\.conda\\envs\\pyWATTS-deRSE-2023\\lib\\site-packages\\sklearn\\linear_model\\_coordinate_descent.py:648: ConvergenceWarning: Objective did not converge. You might want to increase the number of iterations, check the scale of the features or consider increasing regularisation. Duality gap: 2.170e+05, tolerance: 5.465e+04\n",
      "  model = cd_fast.enet_coordinate_descent(\n",
      "C:\\Users\\bi4372\\.conda\\envs\\pyWATTS-deRSE-2023\\lib\\site-packages\\sklearn\\linear_model\\_coordinate_descent.py:648: ConvergenceWarning: Objective did not converge. You might want to increase the number of iterations, check the scale of the features or consider increasing regularisation. Duality gap: 5.733e+01, tolerance: 1.701e-02\n",
      "  model = cd_fast.enet_coordinate_descent(\n",
      "C:\\Users\\bi4372\\.conda\\envs\\pyWATTS-deRSE-2023\\lib\\site-packages\\sklearn\\linear_model\\_coordinate_descent.py:648: ConvergenceWarning: Objective did not converge. You might want to increase the number of iterations, check the scale of the features or consider increasing regularisation. Duality gap: 2.280e+05, tolerance: 5.757e+04\n",
      "  model = cd_fast.enet_coordinate_descent(\n",
      "C:\\Users\\bi4372\\.conda\\envs\\pyWATTS-deRSE-2023\\lib\\site-packages\\sklearn\\linear_model\\_coordinate_descent.py:648: ConvergenceWarning: Objective did not converge. You might want to increase the number of iterations, check the scale of the features or consider increasing regularisation. Duality gap: 5.690e+01, tolerance: 1.697e-02\n",
      "  model = cd_fast.enet_coordinate_descent(\n",
      "C:\\Users\\bi4372\\.conda\\envs\\pyWATTS-deRSE-2023\\lib\\site-packages\\sklearn\\linear_model\\_coordinate_descent.py:648: ConvergenceWarning: Objective did not converge. You might want to increase the number of iterations, check the scale of the features or consider increasing regularisation. Duality gap: 3.435e+05, tolerance: 9.351e+04\n",
      "  model = cd_fast.enet_coordinate_descent(\n",
      "C:\\Users\\bi4372\\.conda\\envs\\pyWATTS-deRSE-2023\\lib\\site-packages\\sklearn\\linear_model\\_coordinate_descent.py:648: ConvergenceWarning: Objective did not converge. You might want to increase the number of iterations, check the scale of the features or consider increasing regularisation. Duality gap: 1.934e+05, tolerance: 5.168e+04\n",
      "  model = cd_fast.enet_coordinate_descent(\n",
      "C:\\Users\\bi4372\\.conda\\envs\\pyWATTS-deRSE-2023\\lib\\site-packages\\sklearn\\linear_model\\_coordinate_descent.py:648: ConvergenceWarning: Objective did not converge. You might want to increase the number of iterations, check the scale of the features or consider increasing regularisation. Duality gap: 3.470e+05, tolerance: 9.857e+04\n",
      "  model = cd_fast.enet_coordinate_descent(\n",
      "C:\\Users\\bi4372\\.conda\\envs\\pyWATTS-deRSE-2023\\lib\\site-packages\\sklearn\\linear_model\\_coordinate_descent.py:648: ConvergenceWarning: Objective did not converge. You might want to increase the number of iterations, check the scale of the features or consider increasing regularisation. Duality gap: 2.170e+05, tolerance: 5.465e+04\n",
      "  model = cd_fast.enet_coordinate_descent(\n",
      "C:\\Users\\bi4372\\.conda\\envs\\pyWATTS-deRSE-2023\\lib\\site-packages\\sklearn\\linear_model\\_coordinate_descent.py:648: ConvergenceWarning: Objective did not converge. You might want to increase the number of iterations, check the scale of the features or consider increasing regularisation. Duality gap: 3.600e+05, tolerance: 1.035e+05\n",
      "  model = cd_fast.enet_coordinate_descent(\n",
      "C:\\Users\\bi4372\\.conda\\envs\\pyWATTS-deRSE-2023\\lib\\site-packages\\sklearn\\linear_model\\_coordinate_descent.py:648: ConvergenceWarning: Objective did not converge. You might want to increase the number of iterations, check the scale of the features or consider increasing regularisation. Duality gap: 2.280e+05, tolerance: 5.757e+04\n",
      "  model = cd_fast.enet_coordinate_descent(\n",
      "C:\\Users\\bi4372\\.conda\\envs\\pyWATTS-deRSE-2023\\lib\\site-packages\\sklearn\\linear_model\\_coordinate_descent.py:648: ConvergenceWarning: Objective did not converge. You might want to increase the number of iterations, check the scale of the features or consider increasing regularisation. Duality gap: 3.435e+05, tolerance: 9.351e+04\n",
      "  model = cd_fast.enet_coordinate_descent(\n",
      "C:\\Users\\bi4372\\.conda\\envs\\pyWATTS-deRSE-2023\\lib\\site-packages\\sklearn\\linear_model\\_coordinate_descent.py:648: ConvergenceWarning: Objective did not converge. You might want to increase the number of iterations, check the scale of the features or consider increasing regularisation. Duality gap: 1.934e+05, tolerance: 5.168e+04\n",
      "  model = cd_fast.enet_coordinate_descent(\n",
      "C:\\Users\\bi4372\\.conda\\envs\\pyWATTS-deRSE-2023\\lib\\site-packages\\sklearn\\linear_model\\_coordinate_descent.py:648: ConvergenceWarning: Objective did not converge. You might want to increase the number of iterations, check the scale of the features or consider increasing regularisation. Duality gap: 2.754e+01, tolerance: 1.702e-02\n",
      "  model = cd_fast.enet_coordinate_descent(\n",
      "C:\\Users\\bi4372\\.conda\\envs\\pyWATTS-deRSE-2023\\lib\\site-packages\\sklearn\\linear_model\\_coordinate_descent.py:648: ConvergenceWarning: Objective did not converge. You might want to increase the number of iterations, check the scale of the features or consider increasing regularisation. Duality gap: 3.470e+05, tolerance: 9.857e+04\n",
      "  model = cd_fast.enet_coordinate_descent(\n",
      "C:\\Users\\bi4372\\.conda\\envs\\pyWATTS-deRSE-2023\\lib\\site-packages\\sklearn\\linear_model\\_coordinate_descent.py:648: ConvergenceWarning: Objective did not converge. You might want to increase the number of iterations, check the scale of the features or consider increasing regularisation. Duality gap: 2.170e+05, tolerance: 5.465e+04\n",
      "  model = cd_fast.enet_coordinate_descent(\n",
      "C:\\Users\\bi4372\\.conda\\envs\\pyWATTS-deRSE-2023\\lib\\site-packages\\sklearn\\linear_model\\_coordinate_descent.py:648: ConvergenceWarning: Objective did not converge. You might want to increase the number of iterations, check the scale of the features or consider increasing regularisation. Duality gap: 2.735e+01, tolerance: 1.701e-02\n",
      "  model = cd_fast.enet_coordinate_descent(\n",
      "C:\\Users\\bi4372\\.conda\\envs\\pyWATTS-deRSE-2023\\lib\\site-packages\\sklearn\\linear_model\\_coordinate_descent.py:648: ConvergenceWarning: Objective did not converge. You might want to increase the number of iterations, check the scale of the features or consider increasing regularisation. Duality gap: 3.600e+05, tolerance: 1.035e+05\n",
      "  model = cd_fast.enet_coordinate_descent(\n",
      "C:\\Users\\bi4372\\.conda\\envs\\pyWATTS-deRSE-2023\\lib\\site-packages\\sklearn\\linear_model\\_coordinate_descent.py:648: ConvergenceWarning: Objective did not converge. You might want to increase the number of iterations, check the scale of the features or consider increasing regularisation. Duality gap: 2.280e+05, tolerance: 5.757e+04\n",
      "  model = cd_fast.enet_coordinate_descent(\n",
      "C:\\Users\\bi4372\\.conda\\envs\\pyWATTS-deRSE-2023\\lib\\site-packages\\sklearn\\linear_model\\_coordinate_descent.py:648: ConvergenceWarning: Objective did not converge. You might want to increase the number of iterations, check the scale of the features or consider increasing regularisation. Duality gap: 2.956e+01, tolerance: 1.697e-02\n",
      "  model = cd_fast.enet_coordinate_descent(\n",
      "C:\\Users\\bi4372\\.conda\\envs\\pyWATTS-deRSE-2023\\lib\\site-packages\\sklearn\\linear_model\\_coordinate_descent.py:648: ConvergenceWarning: Objective did not converge. You might want to increase the number of iterations, check the scale of the features or consider increasing regularisation. Duality gap: 1.934e+05, tolerance: 5.168e+04\n",
      "  model = cd_fast.enet_coordinate_descent(\n",
      "C:\\Users\\bi4372\\.conda\\envs\\pyWATTS-deRSE-2023\\lib\\site-packages\\sklearn\\linear_model\\_coordinate_descent.py:648: ConvergenceWarning: Objective did not converge. You might want to increase the number of iterations, check the scale of the features or consider increasing regularisation. Duality gap: 3.038e+02, tolerance: 1.703e-01\n",
      "  model = cd_fast.enet_coordinate_descent(\n",
      "C:\\Users\\bi4372\\.conda\\envs\\pyWATTS-deRSE-2023\\lib\\site-packages\\sklearn\\linear_model\\_coordinate_descent.py:648: ConvergenceWarning: Objective did not converge. You might want to increase the number of iterations, check the scale of the features or consider increasing regularisation. Duality gap: 2.170e+05, tolerance: 5.465e+04\n",
      "  model = cd_fast.enet_coordinate_descent(\n",
      "C:\\Users\\bi4372\\.conda\\envs\\pyWATTS-deRSE-2023\\lib\\site-packages\\sklearn\\linear_model\\_coordinate_descent.py:648: ConvergenceWarning: Objective did not converge. You might want to increase the number of iterations, check the scale of the features or consider increasing regularisation. Duality gap: 3.193e+02, tolerance: 1.679e-01\n",
      "  model = cd_fast.enet_coordinate_descent(\n",
      "C:\\Users\\bi4372\\.conda\\envs\\pyWATTS-deRSE-2023\\lib\\site-packages\\sklearn\\linear_model\\_coordinate_descent.py:648: ConvergenceWarning: Objective did not converge. You might want to increase the number of iterations, check the scale of the features or consider increasing regularisation. Duality gap: 2.280e+05, tolerance: 5.757e+04\n",
      "  model = cd_fast.enet_coordinate_descent(\n",
      "C:\\Users\\bi4372\\.conda\\envs\\pyWATTS-deRSE-2023\\lib\\site-packages\\sklearn\\linear_model\\_coordinate_descent.py:648: ConvergenceWarning: Objective did not converge. You might want to increase the number of iterations, check the scale of the features or consider increasing regularisation. Duality gap: 2.986e+02, tolerance: 1.665e-01\n",
      "  model = cd_fast.enet_coordinate_descent(\n",
      "C:\\Users\\bi4372\\.conda\\envs\\pyWATTS-deRSE-2023\\lib\\site-packages\\sklearn\\linear_model\\_coordinate_descent.py:648: ConvergenceWarning: Objective did not converge. You might want to increase the number of iterations, check the scale of the features or consider increasing regularisation. Duality gap: 1.934e+05, tolerance: 5.168e+04\n",
      "  model = cd_fast.enet_coordinate_descent(\n",
      "C:\\Users\\bi4372\\.conda\\envs\\pyWATTS-deRSE-2023\\lib\\site-packages\\sklearn\\linear_model\\_coordinate_descent.py:648: ConvergenceWarning: Objective did not converge. You might want to increase the number of iterations, check the scale of the features or consider increasing regularisation. Duality gap: 3.038e+02, tolerance: 1.703e-01\n",
      "  model = cd_fast.enet_coordinate_descent(\n",
      "C:\\Users\\bi4372\\.conda\\envs\\pyWATTS-deRSE-2023\\lib\\site-packages\\sklearn\\linear_model\\_coordinate_descent.py:648: ConvergenceWarning: Objective did not converge. You might want to increase the number of iterations, check the scale of the features or consider increasing regularisation. Duality gap: 2.170e+05, tolerance: 5.465e+04\n",
      "  model = cd_fast.enet_coordinate_descent(\n",
      "C:\\Users\\bi4372\\.conda\\envs\\pyWATTS-deRSE-2023\\lib\\site-packages\\sklearn\\linear_model\\_coordinate_descent.py:648: ConvergenceWarning: Objective did not converge. You might want to increase the number of iterations, check the scale of the features or consider increasing regularisation. Duality gap: 3.193e+02, tolerance: 1.679e-01\n",
      "  model = cd_fast.enet_coordinate_descent(\n",
      "C:\\Users\\bi4372\\.conda\\envs\\pyWATTS-deRSE-2023\\lib\\site-packages\\sklearn\\linear_model\\_coordinate_descent.py:648: ConvergenceWarning: Objective did not converge. You might want to increase the number of iterations, check the scale of the features or consider increasing regularisation. Duality gap: 2.280e+05, tolerance: 5.757e+04\n",
      "  model = cd_fast.enet_coordinate_descent(\n",
      "C:\\Users\\bi4372\\.conda\\envs\\pyWATTS-deRSE-2023\\lib\\site-packages\\sklearn\\linear_model\\_coordinate_descent.py:648: ConvergenceWarning: Objective did not converge. You might want to increase the number of iterations, check the scale of the features or consider increasing regularisation. Duality gap: 2.986e+02, tolerance: 1.665e-01\n",
      "  model = cd_fast.enet_coordinate_descent(\n",
      "C:\\Users\\bi4372\\.conda\\envs\\pyWATTS-deRSE-2023\\lib\\site-packages\\sklearn\\linear_model\\_coordinate_descent.py:648: ConvergenceWarning: Objective did not converge. You might want to increase the number of iterations, check the scale of the features or consider increasing regularisation. Duality gap: 1.934e+05, tolerance: 5.168e+04\n",
      "  model = cd_fast.enet_coordinate_descent(\n",
      "C:\\Users\\bi4372\\.conda\\envs\\pyWATTS-deRSE-2023\\lib\\site-packages\\sklearn\\linear_model\\_coordinate_descent.py:648: ConvergenceWarning: Objective did not converge. You might want to increase the number of iterations, check the scale of the features or consider increasing regularisation. Duality gap: 3.038e+02, tolerance: 1.703e-01\n",
      "  model = cd_fast.enet_coordinate_descent(\n",
      "C:\\Users\\bi4372\\.conda\\envs\\pyWATTS-deRSE-2023\\lib\\site-packages\\sklearn\\linear_model\\_coordinate_descent.py:648: ConvergenceWarning: Objective did not converge. You might want to increase the number of iterations, check the scale of the features or consider increasing regularisation. Duality gap: 2.170e+05, tolerance: 5.465e+04\n",
      "  model = cd_fast.enet_coordinate_descent(\n",
      "C:\\Users\\bi4372\\.conda\\envs\\pyWATTS-deRSE-2023\\lib\\site-packages\\sklearn\\linear_model\\_coordinate_descent.py:648: ConvergenceWarning: Objective did not converge. You might want to increase the number of iterations, check the scale of the features or consider increasing regularisation. Duality gap: 3.193e+02, tolerance: 1.679e-01\n",
      "  model = cd_fast.enet_coordinate_descent(\n",
      "C:\\Users\\bi4372\\.conda\\envs\\pyWATTS-deRSE-2023\\lib\\site-packages\\sklearn\\linear_model\\_coordinate_descent.py:648: ConvergenceWarning: Objective did not converge. You might want to increase the number of iterations, check the scale of the features or consider increasing regularisation. Duality gap: 2.280e+05, tolerance: 5.757e+04\n",
      "  model = cd_fast.enet_coordinate_descent(\n",
      "C:\\Users\\bi4372\\.conda\\envs\\pyWATTS-deRSE-2023\\lib\\site-packages\\sklearn\\linear_model\\_coordinate_descent.py:648: ConvergenceWarning: Objective did not converge. You might want to increase the number of iterations, check the scale of the features or consider increasing regularisation. Duality gap: 2.986e+02, tolerance: 1.665e-01\n",
      "  model = cd_fast.enet_coordinate_descent(\n",
      "C:\\Users\\bi4372\\.conda\\envs\\pyWATTS-deRSE-2023\\lib\\site-packages\\sklearn\\linear_model\\_coordinate_descent.py:648: ConvergenceWarning: Objective did not converge. You might want to increase the number of iterations, check the scale of the features or consider increasing regularisation. Duality gap: 1.934e+05, tolerance: 5.168e+04\n",
      "  model = cd_fast.enet_coordinate_descent(\n",
      "C:\\Users\\bi4372\\.conda\\envs\\pyWATTS-deRSE-2023\\lib\\site-packages\\sklearn\\linear_model\\_coordinate_descent.py:648: ConvergenceWarning: Objective did not converge. You might want to increase the number of iterations, check the scale of the features or consider increasing regularisation. Duality gap: 5.644e+01, tolerance: 1.702e-02\n",
      "  model = cd_fast.enet_coordinate_descent(\n",
      "C:\\Users\\bi4372\\.conda\\envs\\pyWATTS-deRSE-2023\\lib\\site-packages\\sklearn\\linear_model\\_coordinate_descent.py:648: ConvergenceWarning: Objective did not converge. You might want to increase the number of iterations, check the scale of the features or consider increasing regularisation. Duality gap: 3.038e+02, tolerance: 1.703e-01\n",
      "  model = cd_fast.enet_coordinate_descent(\n",
      "C:\\Users\\bi4372\\.conda\\envs\\pyWATTS-deRSE-2023\\lib\\site-packages\\sklearn\\linear_model\\_coordinate_descent.py:648: ConvergenceWarning: Objective did not converge. You might want to increase the number of iterations, check the scale of the features or consider increasing regularisation. Duality gap: 2.170e+05, tolerance: 5.465e+04\n",
      "  model = cd_fast.enet_coordinate_descent(\n",
      "C:\\Users\\bi4372\\.conda\\envs\\pyWATTS-deRSE-2023\\lib\\site-packages\\sklearn\\linear_model\\_coordinate_descent.py:648: ConvergenceWarning: Objective did not converge. You might want to increase the number of iterations, check the scale of the features or consider increasing regularisation. Duality gap: 5.733e+01, tolerance: 1.701e-02\n",
      "  model = cd_fast.enet_coordinate_descent(\n",
      "C:\\Users\\bi4372\\.conda\\envs\\pyWATTS-deRSE-2023\\lib\\site-packages\\sklearn\\linear_model\\_coordinate_descent.py:648: ConvergenceWarning: Objective did not converge. You might want to increase the number of iterations, check the scale of the features or consider increasing regularisation. Duality gap: 3.193e+02, tolerance: 1.679e-01\n",
      "  model = cd_fast.enet_coordinate_descent(\n",
      "C:\\Users\\bi4372\\.conda\\envs\\pyWATTS-deRSE-2023\\lib\\site-packages\\sklearn\\linear_model\\_coordinate_descent.py:648: ConvergenceWarning: Objective did not converge. You might want to increase the number of iterations, check the scale of the features or consider increasing regularisation. Duality gap: 2.280e+05, tolerance: 5.757e+04\n",
      "  model = cd_fast.enet_coordinate_descent(\n",
      "C:\\Users\\bi4372\\.conda\\envs\\pyWATTS-deRSE-2023\\lib\\site-packages\\sklearn\\linear_model\\_coordinate_descent.py:648: ConvergenceWarning: Objective did not converge. You might want to increase the number of iterations, check the scale of the features or consider increasing regularisation. Duality gap: 5.690e+01, tolerance: 1.697e-02\n",
      "  model = cd_fast.enet_coordinate_descent(\n",
      "C:\\Users\\bi4372\\.conda\\envs\\pyWATTS-deRSE-2023\\lib\\site-packages\\sklearn\\linear_model\\_coordinate_descent.py:648: ConvergenceWarning: Objective did not converge. You might want to increase the number of iterations, check the scale of the features or consider increasing regularisation. Duality gap: 2.986e+02, tolerance: 1.665e-01\n",
      "  model = cd_fast.enet_coordinate_descent(\n",
      "C:\\Users\\bi4372\\.conda\\envs\\pyWATTS-deRSE-2023\\lib\\site-packages\\sklearn\\linear_model\\_coordinate_descent.py:648: ConvergenceWarning: Objective did not converge. You might want to increase the number of iterations, check the scale of the features or consider increasing regularisation. Duality gap: 3.435e+05, tolerance: 9.351e+04\n",
      "  model = cd_fast.enet_coordinate_descent(\n",
      "C:\\Users\\bi4372\\.conda\\envs\\pyWATTS-deRSE-2023\\lib\\site-packages\\sklearn\\linear_model\\_coordinate_descent.py:648: ConvergenceWarning: Objective did not converge. You might want to increase the number of iterations, check the scale of the features or consider increasing regularisation. Duality gap: 1.934e+05, tolerance: 5.168e+04\n",
      "  model = cd_fast.enet_coordinate_descent(\n",
      "C:\\Users\\bi4372\\.conda\\envs\\pyWATTS-deRSE-2023\\lib\\site-packages\\sklearn\\linear_model\\_coordinate_descent.py:648: ConvergenceWarning: Objective did not converge. You might want to increase the number of iterations, check the scale of the features or consider increasing regularisation. Duality gap: 3.038e+02, tolerance: 1.703e-01\n",
      "  model = cd_fast.enet_coordinate_descent(\n",
      "C:\\Users\\bi4372\\.conda\\envs\\pyWATTS-deRSE-2023\\lib\\site-packages\\sklearn\\linear_model\\_coordinate_descent.py:648: ConvergenceWarning: Objective did not converge. You might want to increase the number of iterations, check the scale of the features or consider increasing regularisation. Duality gap: 3.470e+05, tolerance: 9.857e+04\n",
      "  model = cd_fast.enet_coordinate_descent(\n",
      "C:\\Users\\bi4372\\.conda\\envs\\pyWATTS-deRSE-2023\\lib\\site-packages\\sklearn\\linear_model\\_coordinate_descent.py:648: ConvergenceWarning: Objective did not converge. You might want to increase the number of iterations, check the scale of the features or consider increasing regularisation. Duality gap: 2.170e+05, tolerance: 5.465e+04\n",
      "  model = cd_fast.enet_coordinate_descent(\n",
      "C:\\Users\\bi4372\\.conda\\envs\\pyWATTS-deRSE-2023\\lib\\site-packages\\sklearn\\linear_model\\_coordinate_descent.py:648: ConvergenceWarning: Objective did not converge. You might want to increase the number of iterations, check the scale of the features or consider increasing regularisation. Duality gap: 3.193e+02, tolerance: 1.679e-01\n",
      "  model = cd_fast.enet_coordinate_descent(\n",
      "C:\\Users\\bi4372\\.conda\\envs\\pyWATTS-deRSE-2023\\lib\\site-packages\\sklearn\\linear_model\\_coordinate_descent.py:648: ConvergenceWarning: Objective did not converge. You might want to increase the number of iterations, check the scale of the features or consider increasing regularisation. Duality gap: 3.600e+05, tolerance: 1.035e+05\n",
      "  model = cd_fast.enet_coordinate_descent(\n",
      "C:\\Users\\bi4372\\.conda\\envs\\pyWATTS-deRSE-2023\\lib\\site-packages\\sklearn\\linear_model\\_coordinate_descent.py:648: ConvergenceWarning: Objective did not converge. You might want to increase the number of iterations, check the scale of the features or consider increasing regularisation. Duality gap: 2.280e+05, tolerance: 5.757e+04\n",
      "  model = cd_fast.enet_coordinate_descent(\n",
      "C:\\Users\\bi4372\\.conda\\envs\\pyWATTS-deRSE-2023\\lib\\site-packages\\sklearn\\linear_model\\_coordinate_descent.py:648: ConvergenceWarning: Objective did not converge. You might want to increase the number of iterations, check the scale of the features or consider increasing regularisation. Duality gap: 2.986e+02, tolerance: 1.665e-01\n",
      "  model = cd_fast.enet_coordinate_descent(\n",
      "C:\\Users\\bi4372\\.conda\\envs\\pyWATTS-deRSE-2023\\lib\\site-packages\\sklearn\\linear_model\\_coordinate_descent.py:648: ConvergenceWarning: Objective did not converge. You might want to increase the number of iterations, check the scale of the features or consider increasing regularisation. Duality gap: 3.435e+05, tolerance: 9.351e+04\n",
      "  model = cd_fast.enet_coordinate_descent(\n",
      "C:\\Users\\bi4372\\.conda\\envs\\pyWATTS-deRSE-2023\\lib\\site-packages\\sklearn\\linear_model\\_coordinate_descent.py:648: ConvergenceWarning: Objective did not converge. You might want to increase the number of iterations, check the scale of the features or consider increasing regularisation. Duality gap: 1.934e+05, tolerance: 5.168e+04\n",
      "  model = cd_fast.enet_coordinate_descent(\n",
      "C:\\Users\\bi4372\\.conda\\envs\\pyWATTS-deRSE-2023\\lib\\site-packages\\sklearn\\linear_model\\_coordinate_descent.py:648: ConvergenceWarning: Objective did not converge. You might want to increase the number of iterations, check the scale of the features or consider increasing regularisation. Duality gap: 2.754e+01, tolerance: 1.702e-02\n",
      "  model = cd_fast.enet_coordinate_descent(\n",
      "C:\\Users\\bi4372\\.conda\\envs\\pyWATTS-deRSE-2023\\lib\\site-packages\\sklearn\\linear_model\\_coordinate_descent.py:648: ConvergenceWarning: Objective did not converge. You might want to increase the number of iterations, check the scale of the features or consider increasing regularisation. Duality gap: 3.038e+02, tolerance: 1.703e-01\n",
      "  model = cd_fast.enet_coordinate_descent(\n",
      "C:\\Users\\bi4372\\.conda\\envs\\pyWATTS-deRSE-2023\\lib\\site-packages\\sklearn\\linear_model\\_coordinate_descent.py:648: ConvergenceWarning: Objective did not converge. You might want to increase the number of iterations, check the scale of the features or consider increasing regularisation. Duality gap: 3.470e+05, tolerance: 9.857e+04\n",
      "  model = cd_fast.enet_coordinate_descent(\n",
      "C:\\Users\\bi4372\\.conda\\envs\\pyWATTS-deRSE-2023\\lib\\site-packages\\sklearn\\linear_model\\_coordinate_descent.py:648: ConvergenceWarning: Objective did not converge. You might want to increase the number of iterations, check the scale of the features or consider increasing regularisation. Duality gap: 2.170e+05, tolerance: 5.465e+04\n",
      "  model = cd_fast.enet_coordinate_descent(\n",
      "C:\\Users\\bi4372\\.conda\\envs\\pyWATTS-deRSE-2023\\lib\\site-packages\\sklearn\\linear_model\\_coordinate_descent.py:648: ConvergenceWarning: Objective did not converge. You might want to increase the number of iterations, check the scale of the features or consider increasing regularisation. Duality gap: 2.735e+01, tolerance: 1.701e-02\n",
      "  model = cd_fast.enet_coordinate_descent(\n",
      "C:\\Users\\bi4372\\.conda\\envs\\pyWATTS-deRSE-2023\\lib\\site-packages\\sklearn\\linear_model\\_coordinate_descent.py:648: ConvergenceWarning: Objective did not converge. You might want to increase the number of iterations, check the scale of the features or consider increasing regularisation. Duality gap: 3.193e+02, tolerance: 1.679e-01\n",
      "  model = cd_fast.enet_coordinate_descent(\n",
      "C:\\Users\\bi4372\\.conda\\envs\\pyWATTS-deRSE-2023\\lib\\site-packages\\sklearn\\linear_model\\_coordinate_descent.py:648: ConvergenceWarning: Objective did not converge. You might want to increase the number of iterations, check the scale of the features or consider increasing regularisation. Duality gap: 3.600e+05, tolerance: 1.035e+05\n",
      "  model = cd_fast.enet_coordinate_descent(\n",
      "C:\\Users\\bi4372\\.conda\\envs\\pyWATTS-deRSE-2023\\lib\\site-packages\\sklearn\\linear_model\\_coordinate_descent.py:648: ConvergenceWarning: Objective did not converge. You might want to increase the number of iterations, check the scale of the features or consider increasing regularisation. Duality gap: 2.280e+05, tolerance: 5.757e+04\n",
      "  model = cd_fast.enet_coordinate_descent(\n",
      "C:\\Users\\bi4372\\.conda\\envs\\pyWATTS-deRSE-2023\\lib\\site-packages\\sklearn\\linear_model\\_coordinate_descent.py:648: ConvergenceWarning: Objective did not converge. You might want to increase the number of iterations, check the scale of the features or consider increasing regularisation. Duality gap: 2.956e+01, tolerance: 1.697e-02\n",
      "  model = cd_fast.enet_coordinate_descent(\n",
      "C:\\Users\\bi4372\\.conda\\envs\\pyWATTS-deRSE-2023\\lib\\site-packages\\sklearn\\linear_model\\_coordinate_descent.py:648: ConvergenceWarning: Objective did not converge. You might want to increase the number of iterations, check the scale of the features or consider increasing regularisation. Duality gap: 2.986e+02, tolerance: 1.665e-01\n",
      "  model = cd_fast.enet_coordinate_descent(\n",
      "C:\\Users\\bi4372\\.conda\\envs\\pyWATTS-deRSE-2023\\lib\\site-packages\\sklearn\\linear_model\\_coordinate_descent.py:648: ConvergenceWarning: Objective did not converge. You might want to increase the number of iterations, check the scale of the features or consider increasing regularisation. Duality gap: 3.997e+02, tolerance: 1.843e-01\n",
      "  model = cd_fast.enet_coordinate_descent(\n",
      "C:\\Users\\bi4372\\.conda\\envs\\pyWATTS-deRSE-2023\\lib\\site-packages\\sklearn\\linear_model\\_coordinate_descent.py:648: ConvergenceWarning: Objective did not converge. You might want to increase the number of iterations, check the scale of the features or consider increasing regularisation. Duality gap: 3.997e+02, tolerance: 1.843e-01\n",
      "  model = cd_fast.enet_coordinate_descent(\n"
     ]
    },
    {
     "data": {
      "text/plain": "ForecastingGridSearchCV(cv=SlidingWindowSplitter(fh=[1, 2, 3, 4, 5, 6, 7, 8, 9,\n                                                     10, 11, 12],\n                                                 step_length=4,\n                                                 window_length=171),\n                        error_score='raise',\n                        forecaster=Pipeline(steps=[{'edges': {'X': 'X__realgdp_realdpi_unemp'},\n                                                    'kwargs': {},\n                                                    'method': None,\n                                                    'name': 'scaler',\n                                                    'skobject': TabularToSeriesAdaptor(transformer=StandardScaler())},\n                                                   {'edges': {'X': 'X__realgdp_realdpi'},\n                                                    'kwa...\n                                    'forecaster_inflation__edges__X': [['forecaster_unemp'],\n                                                                       ['forecaster_unemp',\n                                                                        'forecaster_dpi']],\n                                    'forecaster_inflation__skobject__selected_forecaster': ['ridge',\n                                                                                            'lasso'],\n                                    'forecaster_unemp__edges__X': [[],\n                                                                   ['forecaster_dpi'],\n                                                                   ['forecaster_gdp',\n                                                                    'forecaster_dpi']],\n                                    'forecaster_unemp__skobject__selected_forecaster': ['ridge',\n                                                                                        'lasso']},\n                        scoring=<function mean_absolute_error at 0x00000229820A81F0>)",
      "text/html": "<style>#sk-f93e85c1-bf6c-4b58-aad8-6324cecd8694 {color: black;background-color: white;}#sk-f93e85c1-bf6c-4b58-aad8-6324cecd8694 pre{padding: 0;}#sk-f93e85c1-bf6c-4b58-aad8-6324cecd8694 div.sk-toggleable {background-color: white;}#sk-f93e85c1-bf6c-4b58-aad8-6324cecd8694 label.sk-toggleable__label {cursor: pointer;display: block;width: 100%;margin-bottom: 0;padding: 0.3em;box-sizing: border-box;text-align: center;}#sk-f93e85c1-bf6c-4b58-aad8-6324cecd8694 label.sk-toggleable__label-arrow:before {content: \"▸\";float: left;margin-right: 0.25em;color: #696969;}#sk-f93e85c1-bf6c-4b58-aad8-6324cecd8694 label.sk-toggleable__label-arrow:hover:before {color: black;}#sk-f93e85c1-bf6c-4b58-aad8-6324cecd8694 div.sk-estimator:hover label.sk-toggleable__label-arrow:before {color: black;}#sk-f93e85c1-bf6c-4b58-aad8-6324cecd8694 div.sk-toggleable__content {max-height: 0;max-width: 0;overflow: hidden;text-align: left;background-color: #f0f8ff;}#sk-f93e85c1-bf6c-4b58-aad8-6324cecd8694 div.sk-toggleable__content pre {margin: 0.2em;color: black;border-radius: 0.25em;background-color: #f0f8ff;}#sk-f93e85c1-bf6c-4b58-aad8-6324cecd8694 input.sk-toggleable__control:checked~div.sk-toggleable__content {max-height: 200px;max-width: 100%;overflow: auto;}#sk-f93e85c1-bf6c-4b58-aad8-6324cecd8694 input.sk-toggleable__control:checked~label.sk-toggleable__label-arrow:before {content: \"▾\";}#sk-f93e85c1-bf6c-4b58-aad8-6324cecd8694 div.sk-estimator input.sk-toggleable__control:checked~label.sk-toggleable__label {background-color: #d4ebff;}#sk-f93e85c1-bf6c-4b58-aad8-6324cecd8694 div.sk-label input.sk-toggleable__control:checked~label.sk-toggleable__label {background-color: #d4ebff;}#sk-f93e85c1-bf6c-4b58-aad8-6324cecd8694 input.sk-hidden--visually {border: 0;clip: rect(1px 1px 1px 1px);clip: rect(1px, 1px, 1px, 1px);height: 1px;margin: -1px;overflow: hidden;padding: 0;position: absolute;width: 1px;}#sk-f93e85c1-bf6c-4b58-aad8-6324cecd8694 div.sk-estimator {font-family: monospace;background-color: #f0f8ff;border: 1px dotted black;border-radius: 0.25em;box-sizing: border-box;margin-bottom: 0.5em;}#sk-f93e85c1-bf6c-4b58-aad8-6324cecd8694 div.sk-estimator:hover {background-color: #d4ebff;}#sk-f93e85c1-bf6c-4b58-aad8-6324cecd8694 div.sk-parallel-item::after {content: \"\";width: 100%;border-bottom: 1px solid gray;flex-grow: 1;}#sk-f93e85c1-bf6c-4b58-aad8-6324cecd8694 div.sk-label:hover label.sk-toggleable__label {background-color: #d4ebff;}#sk-f93e85c1-bf6c-4b58-aad8-6324cecd8694 div.sk-serial::before {content: \"\";position: absolute;border-left: 1px solid gray;box-sizing: border-box;top: 2em;bottom: 0;left: 50%;}#sk-f93e85c1-bf6c-4b58-aad8-6324cecd8694 div.sk-serial {display: flex;flex-direction: column;align-items: center;background-color: white;padding-right: 0.2em;padding-left: 0.2em;}#sk-f93e85c1-bf6c-4b58-aad8-6324cecd8694 div.sk-item {z-index: 1;}#sk-f93e85c1-bf6c-4b58-aad8-6324cecd8694 div.sk-parallel {display: flex;align-items: stretch;justify-content: center;background-color: white;}#sk-f93e85c1-bf6c-4b58-aad8-6324cecd8694 div.sk-parallel::before {content: \"\";position: absolute;border-left: 1px solid gray;box-sizing: border-box;top: 2em;bottom: 0;left: 50%;}#sk-f93e85c1-bf6c-4b58-aad8-6324cecd8694 div.sk-parallel-item {display: flex;flex-direction: column;position: relative;background-color: white;}#sk-f93e85c1-bf6c-4b58-aad8-6324cecd8694 div.sk-parallel-item:first-child::after {align-self: flex-end;width: 50%;}#sk-f93e85c1-bf6c-4b58-aad8-6324cecd8694 div.sk-parallel-item:last-child::after {align-self: flex-start;width: 50%;}#sk-f93e85c1-bf6c-4b58-aad8-6324cecd8694 div.sk-parallel-item:only-child::after {width: 0;}#sk-f93e85c1-bf6c-4b58-aad8-6324cecd8694 div.sk-dashed-wrapped {border: 1px dashed gray;margin: 0 0.4em 0.5em 0.4em;box-sizing: border-box;padding-bottom: 0.4em;background-color: white;position: relative;}#sk-f93e85c1-bf6c-4b58-aad8-6324cecd8694 div.sk-label label {font-family: monospace;font-weight: bold;background-color: white;display: inline-block;line-height: 1.2em;}#sk-f93e85c1-bf6c-4b58-aad8-6324cecd8694 div.sk-label-container {position: relative;z-index: 2;text-align: center;}#sk-f93e85c1-bf6c-4b58-aad8-6324cecd8694 div.sk-container {/* jupyter's `normalize.less` sets `[hidden] { display: none; }` but bootstrap.min.css set `[hidden] { display: none !important; }` so we also need the `!important` here to be able to override the default hidden behavior on the sphinx rendered scikit-learn.org. See: https://github.com/scikit-learn/scikit-learn/issues/21755 */display: inline-block !important;position: relative;}#sk-f93e85c1-bf6c-4b58-aad8-6324cecd8694 div.sk-text-repr-fallback {display: none;}</style><div id='sk-f93e85c1-bf6c-4b58-aad8-6324cecd8694' class=\"sk-top-container\"><div class=\"sk-text-repr-fallback\"><pre>ForecastingGridSearchCV(cv=SlidingWindowSplitter(fh=[1, 2, 3, 4, 5, 6, 7, 8, 9,\n                                                     10, 11, 12],\n                                                 step_length=4,\n                                                 window_length=171),\n                        error_score=&#x27;raise&#x27;,\n                        forecaster=Pipeline(steps=[{&#x27;edges&#x27;: {&#x27;X&#x27;: &#x27;X__realgdp_realdpi_unemp&#x27;},\n                                                    &#x27;kwargs&#x27;: {},\n                                                    &#x27;method&#x27;: None,\n                                                    &#x27;name&#x27;: &#x27;scaler&#x27;,\n                                                    &#x27;skobject&#x27;: TabularToSeriesAdaptor(transformer=StandardScaler())},\n                                                   {&#x27;edges&#x27;: {&#x27;X&#x27;: &#x27;X__realgdp_realdpi&#x27;},\n                                                    &#x27;kwa...\n                                    &#x27;forecaster_inflation__edges__X&#x27;: [[&#x27;forecaster_unemp&#x27;],\n                                                                       [&#x27;forecaster_unemp&#x27;,\n                                                                        &#x27;forecaster_dpi&#x27;]],\n                                    &#x27;forecaster_inflation__skobject__selected_forecaster&#x27;: [&#x27;ridge&#x27;,\n                                                                                            &#x27;lasso&#x27;],\n                                    &#x27;forecaster_unemp__edges__X&#x27;: [[],\n                                                                   [&#x27;forecaster_dpi&#x27;],\n                                                                   [&#x27;forecaster_gdp&#x27;,\n                                                                    &#x27;forecaster_dpi&#x27;]],\n                                    &#x27;forecaster_unemp__skobject__selected_forecaster&#x27;: [&#x27;ridge&#x27;,\n                                                                                        &#x27;lasso&#x27;]},\n                        scoring=&lt;function mean_absolute_error at 0x00000229820A81F0&gt;)</pre><b>Please rerun this cell to show the HTML repr or trust the notebook.</b></div><div class=\"sk-container\" hidden><div class=\"sk-item sk-dashed-wrapped\"><div class='sk-label-container'><div class=\"sk-label sk-toggleable\"><input class=\"sk-toggleable__control sk-hidden--visually\" id=UUID('914540c6-96c1-42e0-b770-b9797c4223cf') type=\"checkbox\" ><label for=UUID('914540c6-96c1-42e0-b770-b9797c4223cf') class='sk-toggleable__label sk-toggleable__label-arrow'>ForecastingGridSearchCV</label><div class=\"sk-toggleable__content\"><pre>ForecastingGridSearchCV(cv=SlidingWindowSplitter(fh=[1, 2, 3, 4, 5, 6, 7, 8, 9,\n                                                     10, 11, 12],\n                                                 step_length=4,\n                                                 window_length=171),\n                        error_score=&#x27;raise&#x27;,\n                        forecaster=Pipeline(steps=[{&#x27;edges&#x27;: {&#x27;X&#x27;: &#x27;X__realgdp_realdpi_unemp&#x27;},\n                                                    &#x27;kwargs&#x27;: {},\n                                                    &#x27;method&#x27;: None,\n                                                    &#x27;name&#x27;: &#x27;scaler&#x27;,\n                                                    &#x27;skobject&#x27;: TabularToSeriesAdaptor(transformer=StandardScaler())},\n                                                   {&#x27;edges&#x27;: {&#x27;X&#x27;: &#x27;X__realgdp_realdpi&#x27;},\n                                                    &#x27;kwa...\n                                    &#x27;forecaster_inflation__edges__X&#x27;: [[&#x27;forecaster_unemp&#x27;],\n                                                                       [&#x27;forecaster_unemp&#x27;,\n                                                                        &#x27;forecaster_dpi&#x27;]],\n                                    &#x27;forecaster_inflation__skobject__selected_forecaster&#x27;: [&#x27;ridge&#x27;,\n                                                                                            &#x27;lasso&#x27;],\n                                    &#x27;forecaster_unemp__edges__X&#x27;: [[],\n                                                                   [&#x27;forecaster_dpi&#x27;],\n                                                                   [&#x27;forecaster_gdp&#x27;,\n                                                                    &#x27;forecaster_dpi&#x27;]],\n                                    &#x27;forecaster_unemp__skobject__selected_forecaster&#x27;: [&#x27;ridge&#x27;,\n                                                                                        &#x27;lasso&#x27;]},\n                        scoring=&lt;function mean_absolute_error at 0x00000229820A81F0&gt;)</pre></div></div></div><div class=\"sk-parallel\"><div class=\"sk-parallel-item\"><div class=\"sk-item\"><div class=\"sk-serial\"><div class='sk-item'><div class=\"sk-estimator sk-toggleable\"><input class=\"sk-toggleable__control sk-hidden--visually\" id=UUID('58fc7628-76f7-4f57-9da5-2107115361e5') type=\"checkbox\" ><label for=UUID('58fc7628-76f7-4f57-9da5-2107115361e5') class='sk-toggleable__label sk-toggleable__label-arrow'>SlidingWindowSplitter</label><div class=\"sk-toggleable__content\"><pre>SlidingWindowSplitter(fh=[1, 2, 3, 4, 5, 6, 7, 8, 9, 10, 11, 12], step_length=4,\n                      window_length=171)</pre></div></div></div></div></div></div><div class=\"sk-parallel-item\"><div class=\"sk-item\"><div class=\"sk-serial\"><div class='sk-item'><div class=\"sk-estimator sk-toggleable\"><input class=\"sk-toggleable__control sk-hidden--visually\" id=UUID('5edcc986-49c1-4269-819a-3171e6da4215') type=\"checkbox\" ><label for=UUID('5edcc986-49c1-4269-819a-3171e6da4215') class='sk-toggleable__label sk-toggleable__label-arrow'>Pipeline</label><div class=\"sk-toggleable__content\"><pre>Pipeline(steps=[{&#x27;edges&#x27;: {&#x27;X&#x27;: &#x27;X__realgdp_realdpi_unemp&#x27;}, &#x27;kwargs&#x27;: {},\n                 &#x27;method&#x27;: None, &#x27;name&#x27;: &#x27;scaler&#x27;,\n                 &#x27;skobject&#x27;: TabularToSeriesAdaptor(transformer=StandardScaler())},\n                {&#x27;edges&#x27;: {&#x27;X&#x27;: &#x27;X__realgdp_realdpi&#x27;}, &#x27;kwargs&#x27;: {},\n                 &#x27;method&#x27;: None, &#x27;name&#x27;: &#x27;deseasonalizer&#x27;,\n                 &#x27;skobject&#x27;: Deseasonalizer(sp=4)},\n                {&#x27;edges&#x27;: {&#x27;y&#x27;: &#x27;deseasonalizer__realgdp&#x27;}, &#x27;kwargs&#x27;: {},\n                 &#x27;method&#x27;: None...\n                {&#x27;edges&#x27;: {&#x27;X&#x27;: [&#x27;forecaster_unemp&#x27;, &#x27;forecaster_dpi&#x27;],\n                           &#x27;y&#x27;: &#x27;y&#x27;},\n                 &#x27;kwargs&#x27;: {}, &#x27;method&#x27;: None, &#x27;name&#x27;: &#x27;forecaster_inflation&#x27;,\n                 &#x27;skobject&#x27;: MultiplexForecaster(forecasters=[(&#x27;ridge&#x27;,\n                                                               RecursiveTabularRegressionForecaster(estimator=Ridge(),\n                                                                                                    window_length=5)),\n                                                              (&#x27;lasso&#x27;,\n                                                               RecursiveTabularRegressionForecaster(estimator=Lasso(),\n                                                                                                    window_length=5))],\n                                                 selected_forecaster=&#x27;lasso&#x27;)}])</pre></div></div></div></div></div></div></div></div></div></div>"
     },
     "execution_count": 13,
     "metadata": {},
     "output_type": "execute_result"
    }
   ],
   "source": [
    "gridcv.fit(y=y_train, X=X_train)"
   ],
   "metadata": {
    "collapsed": false
   }
  },
  {
   "cell_type": "code",
   "execution_count": 14,
   "outputs": [
    {
     "data": {
      "text/plain": "     mean_test__DynamicForecastingErrorMetric  mean_fit_time  mean_pred_time  \\\n0                                    1.539329       0.384369        0.050073   \n1                                    1.720565       0.127456        0.048370   \n2                                    1.394329       0.172980        0.079596   \n3                                    1.942051       0.102454        0.054941   \n4                                    2.033714       0.105911        0.055400   \n..                                        ...            ...             ...   \n187                                  1.329079       0.084203        0.044186   \n188                                  1.329079       0.084229        0.044309   \n189                                  1.329079       0.078202        0.040972   \n190                                  1.329079       0.086378        0.048652   \n191                                  1.329079       0.091787        0.052784   \n\n                                                params  \\\n0    {'deseasonalizer__edges__X': 'X__realgdp_reald...   \n1    {'deseasonalizer__edges__X': 'X__realgdp_reald...   \n2    {'deseasonalizer__edges__X': 'X__realgdp_reald...   \n3    {'deseasonalizer__edges__X': 'X__realgdp_reald...   \n4    {'deseasonalizer__edges__X': 'X__realgdp_reald...   \n..                                                 ...   \n187  {'deseasonalizer__edges__X': 'scaler__realgdp_...   \n188  {'deseasonalizer__edges__X': 'scaler__realgdp_...   \n189  {'deseasonalizer__edges__X': 'scaler__realgdp_...   \n190  {'deseasonalizer__edges__X': 'scaler__realgdp_...   \n191  {'deseasonalizer__edges__X': 'scaler__realgdp_...   \n\n     rank_test__DynamicForecastingErrorMetric  \n0                                       107.5  \n1                                       119.5  \n2                                        97.5  \n3                                       129.5  \n4                                       136.0  \n..                                        ...  \n187                                      48.5  \n188                                      48.5  \n189                                      48.5  \n190                                      48.5  \n191                                      48.5  \n\n[192 rows x 5 columns]",
      "text/html": "<div>\n<style scoped>\n    .dataframe tbody tr th:only-of-type {\n        vertical-align: middle;\n    }\n\n    .dataframe tbody tr th {\n        vertical-align: top;\n    }\n\n    .dataframe thead th {\n        text-align: right;\n    }\n</style>\n<table border=\"1\" class=\"dataframe\">\n  <thead>\n    <tr style=\"text-align: right;\">\n      <th></th>\n      <th>mean_test__DynamicForecastingErrorMetric</th>\n      <th>mean_fit_time</th>\n      <th>mean_pred_time</th>\n      <th>params</th>\n      <th>rank_test__DynamicForecastingErrorMetric</th>\n    </tr>\n  </thead>\n  <tbody>\n    <tr>\n      <th>0</th>\n      <td>1.539329</td>\n      <td>0.384369</td>\n      <td>0.050073</td>\n      <td>{'deseasonalizer__edges__X': 'X__realgdp_reald...</td>\n      <td>107.5</td>\n    </tr>\n    <tr>\n      <th>1</th>\n      <td>1.720565</td>\n      <td>0.127456</td>\n      <td>0.048370</td>\n      <td>{'deseasonalizer__edges__X': 'X__realgdp_reald...</td>\n      <td>119.5</td>\n    </tr>\n    <tr>\n      <th>2</th>\n      <td>1.394329</td>\n      <td>0.172980</td>\n      <td>0.079596</td>\n      <td>{'deseasonalizer__edges__X': 'X__realgdp_reald...</td>\n      <td>97.5</td>\n    </tr>\n    <tr>\n      <th>3</th>\n      <td>1.942051</td>\n      <td>0.102454</td>\n      <td>0.054941</td>\n      <td>{'deseasonalizer__edges__X': 'X__realgdp_reald...</td>\n      <td>129.5</td>\n    </tr>\n    <tr>\n      <th>4</th>\n      <td>2.033714</td>\n      <td>0.105911</td>\n      <td>0.055400</td>\n      <td>{'deseasonalizer__edges__X': 'X__realgdp_reald...</td>\n      <td>136.0</td>\n    </tr>\n    <tr>\n      <th>...</th>\n      <td>...</td>\n      <td>...</td>\n      <td>...</td>\n      <td>...</td>\n      <td>...</td>\n    </tr>\n    <tr>\n      <th>187</th>\n      <td>1.329079</td>\n      <td>0.084203</td>\n      <td>0.044186</td>\n      <td>{'deseasonalizer__edges__X': 'scaler__realgdp_...</td>\n      <td>48.5</td>\n    </tr>\n    <tr>\n      <th>188</th>\n      <td>1.329079</td>\n      <td>0.084229</td>\n      <td>0.044309</td>\n      <td>{'deseasonalizer__edges__X': 'scaler__realgdp_...</td>\n      <td>48.5</td>\n    </tr>\n    <tr>\n      <th>189</th>\n      <td>1.329079</td>\n      <td>0.078202</td>\n      <td>0.040972</td>\n      <td>{'deseasonalizer__edges__X': 'scaler__realgdp_...</td>\n      <td>48.5</td>\n    </tr>\n    <tr>\n      <th>190</th>\n      <td>1.329079</td>\n      <td>0.086378</td>\n      <td>0.048652</td>\n      <td>{'deseasonalizer__edges__X': 'scaler__realgdp_...</td>\n      <td>48.5</td>\n    </tr>\n    <tr>\n      <th>191</th>\n      <td>1.329079</td>\n      <td>0.091787</td>\n      <td>0.052784</td>\n      <td>{'deseasonalizer__edges__X': 'scaler__realgdp_...</td>\n      <td>48.5</td>\n    </tr>\n  </tbody>\n</table>\n<p>192 rows × 5 columns</p>\n</div>"
     },
     "execution_count": 14,
     "metadata": {},
     "output_type": "execute_result"
    }
   ],
   "source": [
    "gridcv.cv_results_"
   ],
   "metadata": {
    "collapsed": false
   }
  },
  {
   "cell_type": "code",
   "execution_count": 26,
   "outputs": [
    {
     "data": {
      "text/plain": "            infl\nPeriod          \n2006Q4  2.188182\n2007Q1  2.124281\n2007Q2  1.045280\n2007Q3  1.857716\n2007Q4  1.790664\n2008Q1  1.649457\n2008Q2  1.874361\n2008Q3  1.855627\n2008Q4  1.858207\n2009Q1  1.909693\n2009Q2  1.905106\n2009Q3  1.910452",
      "text/html": "<div>\n<style scoped>\n    .dataframe tbody tr th:only-of-type {\n        vertical-align: middle;\n    }\n\n    .dataframe tbody tr th {\n        vertical-align: top;\n    }\n\n    .dataframe thead th {\n        text-align: right;\n    }\n</style>\n<table border=\"1\" class=\"dataframe\">\n  <thead>\n    <tr style=\"text-align: right;\">\n      <th></th>\n      <th>infl</th>\n    </tr>\n    <tr>\n      <th>Period</th>\n      <th></th>\n    </tr>\n  </thead>\n  <tbody>\n    <tr>\n      <th>2006Q4</th>\n      <td>2.188182</td>\n    </tr>\n    <tr>\n      <th>2007Q1</th>\n      <td>2.124281</td>\n    </tr>\n    <tr>\n      <th>2007Q2</th>\n      <td>1.045280</td>\n    </tr>\n    <tr>\n      <th>2007Q3</th>\n      <td>1.857716</td>\n    </tr>\n    <tr>\n      <th>2007Q4</th>\n      <td>1.790664</td>\n    </tr>\n    <tr>\n      <th>2008Q1</th>\n      <td>1.649457</td>\n    </tr>\n    <tr>\n      <th>2008Q2</th>\n      <td>1.874361</td>\n    </tr>\n    <tr>\n      <th>2008Q3</th>\n      <td>1.855627</td>\n    </tr>\n    <tr>\n      <th>2008Q4</th>\n      <td>1.858207</td>\n    </tr>\n    <tr>\n      <th>2009Q1</th>\n      <td>1.909693</td>\n    </tr>\n    <tr>\n      <th>2009Q2</th>\n      <td>1.905106</td>\n    </tr>\n    <tr>\n      <th>2009Q3</th>\n      <td>1.910452</td>\n    </tr>\n  </tbody>\n</table>\n</div>"
     },
     "execution_count": 26,
     "metadata": {},
     "output_type": "execute_result"
    }
   ],
   "source": [
    "result = gridcv.predict(X=None, fh=y_test.index)\n",
    "result"
   ],
   "metadata": {
    "collapsed": false
   }
  },
  {
   "cell_type": "code",
   "execution_count": 27,
   "outputs": [
    {
     "data": {
      "text/plain": "infl    18.648824\ndtype: float64"
     },
     "execution_count": 27,
     "metadata": {},
     "output_type": "execute_result"
    }
   ],
   "source": [
    "((result - y_test) ** 2).mean()"
   ],
   "metadata": {
    "collapsed": false
   }
  },
  {
   "cell_type": "code",
   "execution_count": 16,
   "outputs": [
    {
     "data": {
      "text/plain": "{'deseasonalizer__edges__X': 'X__realgdp_realdpi',\n 'forecaster_dpi__skobject__selected_forecaster': 'ridge',\n 'forecaster_gdp__skobject__selected_forecaster': 'ridge',\n 'forecaster_inflation__edges__X': ['forecaster_unemp', 'forecaster_dpi'],\n 'forecaster_inflation__skobject__selected_forecaster': 'lasso',\n 'forecaster_unemp__edges__X': [],\n 'forecaster_unemp__skobject__selected_forecaster': 'ridge'}"
     },
     "execution_count": 16,
     "metadata": {},
     "output_type": "execute_result"
    }
   ],
   "source": [
    "gridcv.best_params_"
   ],
   "metadata": {
    "collapsed": false
   }
  },
  {
   "cell_type": "code",
   "execution_count": 17,
   "outputs": [
    {
     "data": {
      "text/plain": "1.323560033949483"
     },
     "execution_count": 17,
     "metadata": {},
     "output_type": "execute_result"
    }
   ],
   "source": [
    "gridcv.best_score_"
   ],
   "metadata": {
    "collapsed": false
   }
  },
  {
   "cell_type": "markdown",
   "source": [
    "### How to implement a bit simpler version of the pipeline above by nesting sequential pipelines\n",
    "* Simplifcation: The forecasting of the unemployment rate is not dependent on the GDP and DPI.\n",
    "<img src=\"img/graphical_pipeline_simplified.png\" width=750 />\n",
    "\n"
   ],
   "metadata": {
    "collapsed": false
   }
  },
  {
   "cell_type": "markdown",
   "source": [
    "Create sequential pipelines for forecasting the GDP, DPI and unemployment rate."
   ],
   "metadata": {
    "collapsed": false
   }
  },
  {
   "cell_type": "code",
   "execution_count": 18,
   "outputs": [],
   "source": [
    "forecasting_pipeline_gdp = (\n",
    "    ColumnSelect([\"realgdp\"])  # To train the forecaster only on the realgdp column\n",
    "    * Deseasonalizer()\n",
    "    * MultiplexForecaster(\n",
    "        [\n",
    "            (\n",
    "                \"ridge\",\n",
    "                make_reduction(Ridge(), windows_identical=False, window_length=5),\n",
    "            ),\n",
    "            (\n",
    "                \"lasso\",\n",
    "                make_reduction(Lasso(), windows_identical=False, window_length=5),\n",
    "            ),\n",
    "        ]\n",
    "    )\n",
    ")\n",
    "forecasting_pipeline_dpi = (\n",
    "    ColumnSelect([\"realdpi\"])\n",
    "    * Deseasonalizer()\n",
    "    * MultiplexForecaster(\n",
    "        [\n",
    "            (\n",
    "                \"ridge\",\n",
    "                make_reduction(Ridge(), windows_identical=False, window_length=5),\n",
    "            ),\n",
    "            (\n",
    "                \"lasso\",\n",
    "                make_reduction(Lasso(), windows_identical=False, window_length=5),\n",
    "            ),\n",
    "        ]\n",
    "    )\n",
    ")\n",
    "\n",
    "forecasting_pipeline_unemp = (\n",
    "    ColumnSelect([\"unemp\"])\n",
    "    * Deseasonalizer()\n",
    "    * MultiplexForecaster(\n",
    "        [\n",
    "            (\n",
    "                \"ridge\",\n",
    "                make_reduction(Ridge(), windows_identical=False, window_length=5),\n",
    "            ),\n",
    "            (\n",
    "                \"lasso\",\n",
    "                make_reduction(Lasso(), windows_identical=False, window_length=5),\n",
    "            ),\n",
    "        ]\n",
    "    )\n",
    ")"
   ],
   "metadata": {
    "collapsed": false
   }
  },
  {
   "cell_type": "markdown",
   "source": [
    "Use ColunmEnsembleForecaster to combine the forecasts of the DPI, GDP, UNEMP. (Union of forecasts)"
   ],
   "metadata": {
    "collapsed": false
   }
  },
  {
   "cell_type": "code",
   "execution_count": 19,
   "outputs": [],
   "source": [
    "input_inflation_forecast = ColumnEnsembleForecaster(\n",
    "    [\n",
    "        (\"realdpi\", forecasting_pipeline_dpi, \"realdpi\"),\n",
    "        (\"realgdp\", forecasting_pipeline_gdp, \"realgdp\"),\n",
    "        (\"unemp\", forecasting_pipeline_unemp, \"unemp\"),\n",
    "    ]\n",
    ")"
   ],
   "metadata": {
    "collapsed": false
   }
  },
  {
   "cell_type": "markdown",
   "source": [
    "Create the inflation forecaster."
   ],
   "metadata": {
    "collapsed": false
   }
  },
  {
   "cell_type": "code",
   "execution_count": 20,
   "outputs": [],
   "source": [
    "inflation_forecast = ForecastX(\n",
    "    MultiplexForecaster(\n",
    "        [\n",
    "            (\n",
    "                \"ridge\",\n",
    "                make_reduction(Ridge(), windows_identical=False, window_length=5),\n",
    "            ),\n",
    "            (\n",
    "                \"lasso\",\n",
    "                make_reduction(Lasso(), windows_identical=False, window_length=5),\n",
    "            ),\n",
    "        ]\n",
    "    ),\n",
    "    input_inflation_forecast,\n",
    ")"
   ],
   "metadata": {
    "collapsed": false
   }
  },
  {
   "cell_type": "code",
   "execution_count": 21,
   "outputs": [
    {
     "data": {
      "text/plain": "ForecastX(forecaster_X=ColumnEnsembleForecaster(forecasters=[('realdpi',\n                                                              TransformedTargetForecaster(steps=[ColumnSelect(columns=['realdpi']),\n                                                                                                 Deseasonalizer(),\n                                                                                                 MultiplexForecaster(forecasters=[('ridge',\n                                                                                                                                   RecursiveTabularRegressionForecaster(estimator=Ridge(),\n                                                                                                                                                                        window_length=5)),\n                                                                                                                                  ('lasso',\n                                                                                                                                   RecursiveTabularRegressionForecaster(estimator=Lasso(),\n                                                                                                                                                                        window_length...\n                                                                                                                                   RecursiveTabularRegressionForecaster(estimator=Ridge(),\n                                                                                                                                                                        window_length=5)),\n                                                                                                                                  ('lasso',\n                                                                                                                                   RecursiveTabularRegressionForecaster(estimator=Lasso(),\n                                                                                                                                                                        window_length=5))])]),\n                                                              'unemp')]),\n          forecaster_y=MultiplexForecaster(forecasters=[('ridge',\n                                                         RecursiveTabularRegressionForecaster(estimator=Ridge(),\n                                                                                              window_length=5)),\n                                                        ('lasso',\n                                                         RecursiveTabularRegressionForecaster(estimator=Lasso(),\n                                                                                              window_length=5))]))",
      "text/html": "<style>#sk-b018136c-3c7e-45b9-944e-0223eee522d5 {color: black;background-color: white;}#sk-b018136c-3c7e-45b9-944e-0223eee522d5 pre{padding: 0;}#sk-b018136c-3c7e-45b9-944e-0223eee522d5 div.sk-toggleable {background-color: white;}#sk-b018136c-3c7e-45b9-944e-0223eee522d5 label.sk-toggleable__label {cursor: pointer;display: block;width: 100%;margin-bottom: 0;padding: 0.3em;box-sizing: border-box;text-align: center;}#sk-b018136c-3c7e-45b9-944e-0223eee522d5 label.sk-toggleable__label-arrow:before {content: \"▸\";float: left;margin-right: 0.25em;color: #696969;}#sk-b018136c-3c7e-45b9-944e-0223eee522d5 label.sk-toggleable__label-arrow:hover:before {color: black;}#sk-b018136c-3c7e-45b9-944e-0223eee522d5 div.sk-estimator:hover label.sk-toggleable__label-arrow:before {color: black;}#sk-b018136c-3c7e-45b9-944e-0223eee522d5 div.sk-toggleable__content {max-height: 0;max-width: 0;overflow: hidden;text-align: left;background-color: #f0f8ff;}#sk-b018136c-3c7e-45b9-944e-0223eee522d5 div.sk-toggleable__content pre {margin: 0.2em;color: black;border-radius: 0.25em;background-color: #f0f8ff;}#sk-b018136c-3c7e-45b9-944e-0223eee522d5 input.sk-toggleable__control:checked~div.sk-toggleable__content {max-height: 200px;max-width: 100%;overflow: auto;}#sk-b018136c-3c7e-45b9-944e-0223eee522d5 input.sk-toggleable__control:checked~label.sk-toggleable__label-arrow:before {content: \"▾\";}#sk-b018136c-3c7e-45b9-944e-0223eee522d5 div.sk-estimator input.sk-toggleable__control:checked~label.sk-toggleable__label {background-color: #d4ebff;}#sk-b018136c-3c7e-45b9-944e-0223eee522d5 div.sk-label input.sk-toggleable__control:checked~label.sk-toggleable__label {background-color: #d4ebff;}#sk-b018136c-3c7e-45b9-944e-0223eee522d5 input.sk-hidden--visually {border: 0;clip: rect(1px 1px 1px 1px);clip: rect(1px, 1px, 1px, 1px);height: 1px;margin: -1px;overflow: hidden;padding: 0;position: absolute;width: 1px;}#sk-b018136c-3c7e-45b9-944e-0223eee522d5 div.sk-estimator {font-family: monospace;background-color: #f0f8ff;border: 1px dotted black;border-radius: 0.25em;box-sizing: border-box;margin-bottom: 0.5em;}#sk-b018136c-3c7e-45b9-944e-0223eee522d5 div.sk-estimator:hover {background-color: #d4ebff;}#sk-b018136c-3c7e-45b9-944e-0223eee522d5 div.sk-parallel-item::after {content: \"\";width: 100%;border-bottom: 1px solid gray;flex-grow: 1;}#sk-b018136c-3c7e-45b9-944e-0223eee522d5 div.sk-label:hover label.sk-toggleable__label {background-color: #d4ebff;}#sk-b018136c-3c7e-45b9-944e-0223eee522d5 div.sk-serial::before {content: \"\";position: absolute;border-left: 1px solid gray;box-sizing: border-box;top: 2em;bottom: 0;left: 50%;}#sk-b018136c-3c7e-45b9-944e-0223eee522d5 div.sk-serial {display: flex;flex-direction: column;align-items: center;background-color: white;padding-right: 0.2em;padding-left: 0.2em;}#sk-b018136c-3c7e-45b9-944e-0223eee522d5 div.sk-item {z-index: 1;}#sk-b018136c-3c7e-45b9-944e-0223eee522d5 div.sk-parallel {display: flex;align-items: stretch;justify-content: center;background-color: white;}#sk-b018136c-3c7e-45b9-944e-0223eee522d5 div.sk-parallel::before {content: \"\";position: absolute;border-left: 1px solid gray;box-sizing: border-box;top: 2em;bottom: 0;left: 50%;}#sk-b018136c-3c7e-45b9-944e-0223eee522d5 div.sk-parallel-item {display: flex;flex-direction: column;position: relative;background-color: white;}#sk-b018136c-3c7e-45b9-944e-0223eee522d5 div.sk-parallel-item:first-child::after {align-self: flex-end;width: 50%;}#sk-b018136c-3c7e-45b9-944e-0223eee522d5 div.sk-parallel-item:last-child::after {align-self: flex-start;width: 50%;}#sk-b018136c-3c7e-45b9-944e-0223eee522d5 div.sk-parallel-item:only-child::after {width: 0;}#sk-b018136c-3c7e-45b9-944e-0223eee522d5 div.sk-dashed-wrapped {border: 1px dashed gray;margin: 0 0.4em 0.5em 0.4em;box-sizing: border-box;padding-bottom: 0.4em;background-color: white;position: relative;}#sk-b018136c-3c7e-45b9-944e-0223eee522d5 div.sk-label label {font-family: monospace;font-weight: bold;background-color: white;display: inline-block;line-height: 1.2em;}#sk-b018136c-3c7e-45b9-944e-0223eee522d5 div.sk-label-container {position: relative;z-index: 2;text-align: center;}#sk-b018136c-3c7e-45b9-944e-0223eee522d5 div.sk-container {/* jupyter's `normalize.less` sets `[hidden] { display: none; }` but bootstrap.min.css set `[hidden] { display: none !important; }` so we also need the `!important` here to be able to override the default hidden behavior on the sphinx rendered scikit-learn.org. See: https://github.com/scikit-learn/scikit-learn/issues/21755 */display: inline-block !important;position: relative;}#sk-b018136c-3c7e-45b9-944e-0223eee522d5 div.sk-text-repr-fallback {display: none;}</style><div id='sk-b018136c-3c7e-45b9-944e-0223eee522d5' class=\"sk-top-container\"><div class=\"sk-text-repr-fallback\"><pre>ForecastX(forecaster_X=ColumnEnsembleForecaster(forecasters=[(&#x27;realdpi&#x27;,\n                                                              TransformedTargetForecaster(steps=[ColumnSelect(columns=[&#x27;realdpi&#x27;]),\n                                                                                                 Deseasonalizer(),\n                                                                                                 MultiplexForecaster(forecasters=[(&#x27;ridge&#x27;,\n                                                                                                                                   RecursiveTabularRegressionForecaster(estimator=Ridge(),\n                                                                                                                                                                        window_length=5)),\n                                                                                                                                  (&#x27;lasso&#x27;,\n                                                                                                                                   RecursiveTabularRegressionForecaster(estimator=Lasso(),\n                                                                                                                                                                        window_length...\n                                                                                                                                   RecursiveTabularRegressionForecaster(estimator=Ridge(),\n                                                                                                                                                                        window_length=5)),\n                                                                                                                                  (&#x27;lasso&#x27;,\n                                                                                                                                   RecursiveTabularRegressionForecaster(estimator=Lasso(),\n                                                                                                                                                                        window_length=5))])]),\n                                                              &#x27;unemp&#x27;)]),\n          forecaster_y=MultiplexForecaster(forecasters=[(&#x27;ridge&#x27;,\n                                                         RecursiveTabularRegressionForecaster(estimator=Ridge(),\n                                                                                              window_length=5)),\n                                                        (&#x27;lasso&#x27;,\n                                                         RecursiveTabularRegressionForecaster(estimator=Lasso(),\n                                                                                              window_length=5))]))</pre><b>Please rerun this cell to show the HTML repr or trust the notebook.</b></div><div class=\"sk-container\" hidden><div class=\"sk-item sk-dashed-wrapped\"><div class='sk-label-container'><div class=\"sk-label sk-toggleable\"><input class=\"sk-toggleable__control sk-hidden--visually\" id=UUID('06a1fa18-3cc1-4c75-8235-734e6978c934') type=\"checkbox\" ><label for=UUID('06a1fa18-3cc1-4c75-8235-734e6978c934') class='sk-toggleable__label sk-toggleable__label-arrow'>ForecastX</label><div class=\"sk-toggleable__content\"><pre>ForecastX(forecaster_X=ColumnEnsembleForecaster(forecasters=[(&#x27;realdpi&#x27;,\n                                                              TransformedTargetForecaster(steps=[ColumnSelect(columns=[&#x27;realdpi&#x27;]),\n                                                                                                 Deseasonalizer(),\n                                                                                                 MultiplexForecaster(forecasters=[(&#x27;ridge&#x27;,\n                                                                                                                                   RecursiveTabularRegressionForecaster(estimator=Ridge(),\n                                                                                                                                                                        window_length=5)),\n                                                                                                                                  (&#x27;lasso&#x27;,\n                                                                                                                                   RecursiveTabularRegressionForecaster(estimator=Lasso(),\n                                                                                                                                                                        window_length...\n                                                                                                                                   RecursiveTabularRegressionForecaster(estimator=Ridge(),\n                                                                                                                                                                        window_length=5)),\n                                                                                                                                  (&#x27;lasso&#x27;,\n                                                                                                                                   RecursiveTabularRegressionForecaster(estimator=Lasso(),\n                                                                                                                                                                        window_length=5))])]),\n                                                              &#x27;unemp&#x27;)]),\n          forecaster_y=MultiplexForecaster(forecasters=[(&#x27;ridge&#x27;,\n                                                         RecursiveTabularRegressionForecaster(estimator=Ridge(),\n                                                                                              window_length=5)),\n                                                        (&#x27;lasso&#x27;,\n                                                         RecursiveTabularRegressionForecaster(estimator=Lasso(),\n                                                                                              window_length=5))]))</pre></div></div></div><div class=\"sk-parallel\"><div class=\"sk-parallel-item\"><div class=\"sk-item\"><div class=\"sk-serial\"><div class=\"sk-item sk-dashed-wrapped\"><div class=\"sk-parallel\"><div class=\"sk-parallel-item\"><div class=\"sk-item\"><div class=\"sk-serial\"><div class=\"sk-item sk-dashed-wrapped\"><div class=\"sk-parallel\"><div class=\"sk-parallel-item\"><div class=\"sk-item\"><div class=\"sk-serial\"><div class='sk-item'><div class=\"sk-estimator sk-toggleable\"><input class=\"sk-toggleable__control sk-hidden--visually\" id=UUID('5095e7e6-3c97-4452-9d98-2eefbaa59d4a') type=\"checkbox\" ><label for=UUID('5095e7e6-3c97-4452-9d98-2eefbaa59d4a') class='sk-toggleable__label sk-toggleable__label-arrow'>ColumnSelect</label><div class=\"sk-toggleable__content\"><pre>ColumnSelect(columns=[&#x27;realdpi&#x27;])</pre></div></div></div></div></div></div><div class=\"sk-parallel-item\"><div class=\"sk-item\"><div class=\"sk-serial\"><div class='sk-item'><div class=\"sk-estimator sk-toggleable\"><input class=\"sk-toggleable__control sk-hidden--visually\" id=UUID('a8e4a3fa-d905-4147-ba13-bd9c3351d851') type=\"checkbox\" ><label for=UUID('a8e4a3fa-d905-4147-ba13-bd9c3351d851') class='sk-toggleable__label sk-toggleable__label-arrow'>Deseasonalizer</label><div class=\"sk-toggleable__content\"><pre>Deseasonalizer()</pre></div></div></div></div></div></div><div class=\"sk-parallel-item\"><div class=\"sk-item\"><div class=\"sk-serial\"><div class=\"sk-item sk-dashed-wrapped\"><div class=\"sk-parallel\"><div class=\"sk-parallel-item\"><div class=\"sk-item\"><div class=\"sk-serial\"><div class=\"sk-item sk-dashed-wrapped\"><div class=\"sk-parallel\"><div class=\"sk-parallel-item\"><div class=\"sk-item\"><div class=\"sk-serial\"><div class='sk-item'><div class=\"sk-estimator sk-toggleable\"><input class=\"sk-toggleable__control sk-hidden--visually\" id=UUID('e066ef64-539a-4b51-983d-6563fd47d871') type=\"checkbox\" ><label for=UUID('e066ef64-539a-4b51-983d-6563fd47d871') class='sk-toggleable__label sk-toggleable__label-arrow'>Ridge</label><div class=\"sk-toggleable__content\"><pre>Ridge()</pre></div></div></div></div></div></div></div></div></div></div></div><div class=\"sk-parallel-item\"><div class=\"sk-item\"><div class=\"sk-serial\"><div class=\"sk-item sk-dashed-wrapped\"><div class=\"sk-parallel\"><div class=\"sk-parallel-item\"><div class=\"sk-item\"><div class=\"sk-serial\"><div class='sk-item'><div class=\"sk-estimator sk-toggleable\"><input class=\"sk-toggleable__control sk-hidden--visually\" id=UUID('4a93df7b-9513-49bf-9b28-b5348be205da') type=\"checkbox\" ><label for=UUID('4a93df7b-9513-49bf-9b28-b5348be205da') class='sk-toggleable__label sk-toggleable__label-arrow'>Lasso</label><div class=\"sk-toggleable__content\"><pre>Lasso()</pre></div></div></div></div></div></div></div></div></div></div></div></div></div></div></div></div></div></div></div></div></div><div class=\"sk-parallel-item\"><div class=\"sk-item\"><div class=\"sk-serial\"><div class=\"sk-item sk-dashed-wrapped\"><div class=\"sk-parallel\"><div class=\"sk-parallel-item\"><div class=\"sk-item\"><div class=\"sk-serial\"><div class='sk-item'><div class=\"sk-estimator sk-toggleable\"><input class=\"sk-toggleable__control sk-hidden--visually\" id=UUID('9a0b4c63-9438-46b6-8285-626a4db1dcaa') type=\"checkbox\" ><label for=UUID('9a0b4c63-9438-46b6-8285-626a4db1dcaa') class='sk-toggleable__label sk-toggleable__label-arrow'>ColumnSelect</label><div class=\"sk-toggleable__content\"><pre>ColumnSelect(columns=[&#x27;realgdp&#x27;])</pre></div></div></div></div></div></div><div class=\"sk-parallel-item\"><div class=\"sk-item\"><div class=\"sk-serial\"><div class='sk-item'><div class=\"sk-estimator sk-toggleable\"><input class=\"sk-toggleable__control sk-hidden--visually\" id=UUID('8f7ebfae-69d3-4e6f-b481-459382b9097d') type=\"checkbox\" ><label for=UUID('8f7ebfae-69d3-4e6f-b481-459382b9097d') class='sk-toggleable__label sk-toggleable__label-arrow'>Deseasonalizer</label><div class=\"sk-toggleable__content\"><pre>Deseasonalizer()</pre></div></div></div></div></div></div><div class=\"sk-parallel-item\"><div class=\"sk-item\"><div class=\"sk-serial\"><div class=\"sk-item sk-dashed-wrapped\"><div class=\"sk-parallel\"><div class=\"sk-parallel-item\"><div class=\"sk-item\"><div class=\"sk-serial\"><div class=\"sk-item sk-dashed-wrapped\"><div class=\"sk-parallel\"><div class=\"sk-parallel-item\"><div class=\"sk-item\"><div class=\"sk-serial\"><div class='sk-item'><div class=\"sk-estimator sk-toggleable\"><input class=\"sk-toggleable__control sk-hidden--visually\" id=UUID('5682ae92-f35d-406d-a831-af389cf55d3d') type=\"checkbox\" ><label for=UUID('5682ae92-f35d-406d-a831-af389cf55d3d') class='sk-toggleable__label sk-toggleable__label-arrow'>Ridge</label><div class=\"sk-toggleable__content\"><pre>Ridge()</pre></div></div></div></div></div></div></div></div></div></div></div><div class=\"sk-parallel-item\"><div class=\"sk-item\"><div class=\"sk-serial\"><div class=\"sk-item sk-dashed-wrapped\"><div class=\"sk-parallel\"><div class=\"sk-parallel-item\"><div class=\"sk-item\"><div class=\"sk-serial\"><div class='sk-item'><div class=\"sk-estimator sk-toggleable\"><input class=\"sk-toggleable__control sk-hidden--visually\" id=UUID('b7c21dea-7ba7-40a7-96f5-914e229bc003') type=\"checkbox\" ><label for=UUID('b7c21dea-7ba7-40a7-96f5-914e229bc003') class='sk-toggleable__label sk-toggleable__label-arrow'>Lasso</label><div class=\"sk-toggleable__content\"><pre>Lasso()</pre></div></div></div></div></div></div></div></div></div></div></div></div></div></div></div></div></div></div></div></div></div><div class=\"sk-parallel-item\"><div class=\"sk-item\"><div class=\"sk-serial\"><div class=\"sk-item sk-dashed-wrapped\"><div class=\"sk-parallel\"><div class=\"sk-parallel-item\"><div class=\"sk-item\"><div class=\"sk-serial\"><div class='sk-item'><div class=\"sk-estimator sk-toggleable\"><input class=\"sk-toggleable__control sk-hidden--visually\" id=UUID('79ef5579-f53f-4bd6-8cff-b3976100f96d') type=\"checkbox\" ><label for=UUID('79ef5579-f53f-4bd6-8cff-b3976100f96d') class='sk-toggleable__label sk-toggleable__label-arrow'>ColumnSelect</label><div class=\"sk-toggleable__content\"><pre>ColumnSelect(columns=[&#x27;unemp&#x27;])</pre></div></div></div></div></div></div><div class=\"sk-parallel-item\"><div class=\"sk-item\"><div class=\"sk-serial\"><div class='sk-item'><div class=\"sk-estimator sk-toggleable\"><input class=\"sk-toggleable__control sk-hidden--visually\" id=UUID('2883ba31-90f2-4fd7-953a-3b39c951b2ac') type=\"checkbox\" ><label for=UUID('2883ba31-90f2-4fd7-953a-3b39c951b2ac') class='sk-toggleable__label sk-toggleable__label-arrow'>Deseasonalizer</label><div class=\"sk-toggleable__content\"><pre>Deseasonalizer()</pre></div></div></div></div></div></div><div class=\"sk-parallel-item\"><div class=\"sk-item\"><div class=\"sk-serial\"><div class=\"sk-item sk-dashed-wrapped\"><div class=\"sk-parallel\"><div class=\"sk-parallel-item\"><div class=\"sk-item\"><div class=\"sk-serial\"><div class=\"sk-item sk-dashed-wrapped\"><div class=\"sk-parallel\"><div class=\"sk-parallel-item\"><div class=\"sk-item\"><div class=\"sk-serial\"><div class='sk-item'><div class=\"sk-estimator sk-toggleable\"><input class=\"sk-toggleable__control sk-hidden--visually\" id=UUID('48a1e4b3-2bcb-419b-9dc5-03afb6643708') type=\"checkbox\" ><label for=UUID('48a1e4b3-2bcb-419b-9dc5-03afb6643708') class='sk-toggleable__label sk-toggleable__label-arrow'>Ridge</label><div class=\"sk-toggleable__content\"><pre>Ridge()</pre></div></div></div></div></div></div></div></div></div></div></div><div class=\"sk-parallel-item\"><div class=\"sk-item\"><div class=\"sk-serial\"><div class=\"sk-item sk-dashed-wrapped\"><div class=\"sk-parallel\"><div class=\"sk-parallel-item\"><div class=\"sk-item\"><div class=\"sk-serial\"><div class='sk-item'><div class=\"sk-estimator sk-toggleable\"><input class=\"sk-toggleable__control sk-hidden--visually\" id=UUID('33594320-66e6-4c9a-8b78-2dc19f485234') type=\"checkbox\" ><label for=UUID('33594320-66e6-4c9a-8b78-2dc19f485234') class='sk-toggleable__label sk-toggleable__label-arrow'>Lasso</label><div class=\"sk-toggleable__content\"><pre>Lasso()</pre></div></div></div></div></div></div></div></div></div></div></div></div></div></div></div></div></div></div></div></div></div></div></div></div></div></div><div class=\"sk-parallel-item\"><div class=\"sk-item\"><div class=\"sk-serial\"><div class=\"sk-item sk-dashed-wrapped\"><div class=\"sk-parallel\"><div class=\"sk-parallel-item\"><div class=\"sk-item\"><div class=\"sk-serial\"><div class=\"sk-item sk-dashed-wrapped\"><div class=\"sk-parallel\"><div class=\"sk-parallel-item\"><div class=\"sk-item\"><div class=\"sk-serial\"><div class='sk-item'><div class=\"sk-estimator sk-toggleable\"><input class=\"sk-toggleable__control sk-hidden--visually\" id=UUID('8e9bf09e-e512-4f89-a893-c0b3798429fe') type=\"checkbox\" ><label for=UUID('8e9bf09e-e512-4f89-a893-c0b3798429fe') class='sk-toggleable__label sk-toggleable__label-arrow'>Ridge</label><div class=\"sk-toggleable__content\"><pre>Ridge()</pre></div></div></div></div></div></div></div></div></div></div></div><div class=\"sk-parallel-item\"><div class=\"sk-item\"><div class=\"sk-serial\"><div class=\"sk-item sk-dashed-wrapped\"><div class=\"sk-parallel\"><div class=\"sk-parallel-item\"><div class=\"sk-item\"><div class=\"sk-serial\"><div class='sk-item'><div class=\"sk-estimator sk-toggleable\"><input class=\"sk-toggleable__control sk-hidden--visually\" id=UUID('f54ebc5b-0379-49d0-89e2-27173c0a45fc') type=\"checkbox\" ><label for=UUID('f54ebc5b-0379-49d0-89e2-27173c0a45fc') class='sk-toggleable__label sk-toggleable__label-arrow'>Lasso</label><div class=\"sk-toggleable__content\"><pre>Lasso()</pre></div></div></div></div></div></div></div></div></div></div></div></div></div></div></div></div></div></div></div></div>"
     },
     "execution_count": 21,
     "metadata": {},
     "output_type": "execute_result"
    }
   ],
   "source": [
    "inflation_forecast.fit(y=y_train, X=X_train, fh=fh)"
   ],
   "metadata": {
    "collapsed": false
   }
  },
  {
   "cell_type": "code",
   "execution_count": 22,
   "outputs": [
    {
     "data": {
      "text/plain": "            infl\n2006Q4  3.979318\n2007Q1  2.347512\n2007Q2  1.443598\n2007Q3  3.914533\n2007Q4  2.533117\n2008Q1  3.278010\n2008Q2  3.861517\n2008Q3  3.487510\n2008Q4  4.195074\n2009Q1  4.294984\n2009Q2  4.433578\n2009Q3  4.858610",
      "text/html": "<div>\n<style scoped>\n    .dataframe tbody tr th:only-of-type {\n        vertical-align: middle;\n    }\n\n    .dataframe tbody tr th {\n        vertical-align: top;\n    }\n\n    .dataframe thead th {\n        text-align: right;\n    }\n</style>\n<table border=\"1\" class=\"dataframe\">\n  <thead>\n    <tr style=\"text-align: right;\">\n      <th></th>\n      <th>infl</th>\n    </tr>\n  </thead>\n  <tbody>\n    <tr>\n      <th>2006Q4</th>\n      <td>3.979318</td>\n    </tr>\n    <tr>\n      <th>2007Q1</th>\n      <td>2.347512</td>\n    </tr>\n    <tr>\n      <th>2007Q2</th>\n      <td>1.443598</td>\n    </tr>\n    <tr>\n      <th>2007Q3</th>\n      <td>3.914533</td>\n    </tr>\n    <tr>\n      <th>2007Q4</th>\n      <td>2.533117</td>\n    </tr>\n    <tr>\n      <th>2008Q1</th>\n      <td>3.278010</td>\n    </tr>\n    <tr>\n      <th>2008Q2</th>\n      <td>3.861517</td>\n    </tr>\n    <tr>\n      <th>2008Q3</th>\n      <td>3.487510</td>\n    </tr>\n    <tr>\n      <th>2008Q4</th>\n      <td>4.195074</td>\n    </tr>\n    <tr>\n      <th>2009Q1</th>\n      <td>4.294984</td>\n    </tr>\n    <tr>\n      <th>2009Q2</th>\n      <td>4.433578</td>\n    </tr>\n    <tr>\n      <th>2009Q3</th>\n      <td>4.858610</td>\n    </tr>\n  </tbody>\n</table>\n</div>"
     },
     "execution_count": 22,
     "metadata": {},
     "output_type": "execute_result"
    }
   ],
   "source": [
    "inflation_forecast.predict()"
   ],
   "metadata": {
    "collapsed": false
   }
  },
  {
   "cell_type": "code",
   "execution_count": 23,
   "outputs": [
    {
     "data": {
      "text/plain": "{'behaviour': 'update',\n 'columns': None,\n 'fh_X': None,\n 'forecaster_X': ColumnEnsembleForecaster(forecasters=[('realdpi',\n                                        TransformedTargetForecaster(steps=[ColumnSelect(columns=['realdpi']),\n                                                                           Deseasonalizer(),\n                                                                           MultiplexForecaster(forecasters=[('ridge',\n                                                                                                             RecursiveTabularRegressionForecaster(estimator=Ridge(),\n                                                                                                                                                  window_length=5)),\n                                                                                                            ('lasso',\n                                                                                                             RecursiveTabularRegressionForecaster(estimator=Lasso(),\n                                                                                                                                                  window_length=5))])]),\n                                        'realdpi'),\n                                       ('r...\n                                                                                                             RecursiveTabularRegressionForecaster(estimator=Lasso(),\n                                                                                                                                                  window_length=5))])]),\n                                        'realgdp'),\n                                       ('unemp',\n                                        TransformedTargetForecaster(steps=[ColumnSelect(columns=['unemp']),\n                                                                           Deseasonalizer(),\n                                                                           MultiplexForecaster(forecasters=[('ridge',\n                                                                                                             RecursiveTabularRegressionForecaster(estimator=Ridge(),\n                                                                                                                                                  window_length=5)),\n                                                                                                            ('lasso',\n                                                                                                             RecursiveTabularRegressionForecaster(estimator=Lasso(),\n                                                                                                                                                  window_length=5))])]),\n                                        'unemp')]),\n 'forecaster_y': MultiplexForecaster(forecasters=[('ridge',\n                                   RecursiveTabularRegressionForecaster(estimator=Ridge(),\n                                                                        window_length=5)),\n                                  ('lasso',\n                                   RecursiveTabularRegressionForecaster(estimator=Lasso(),\n                                                                        window_length=5))]),\n 'forecaster_X__forecasters': [('realdpi',\n   TransformedTargetForecaster(steps=[ColumnSelect(columns=['realdpi']),\n                                      Deseasonalizer(),\n                                      MultiplexForecaster(forecasters=[('ridge',\n                                                                        RecursiveTabularRegressionForecaster(estimator=Ridge(),\n                                                                                                             window_length=5)),\n                                                                       ('lasso',\n                                                                        RecursiveTabularRegressionForecaster(estimator=Lasso(),\n                                                                                                             window_length=5))])]),\n   'realdpi'),\n  ('realgdp',\n   TransformedTargetForecaster(steps=[ColumnSelect(columns=['realgdp']),\n                                      Deseasonalizer(),\n                                      MultiplexForecaster(forecasters=[('ridge',\n                                                                        RecursiveTabularRegressionForecaster(estimator=Ridge(),\n                                                                                                             window_length=5)),\n                                                                       ('lasso',\n                                                                        RecursiveTabularRegressionForecaster(estimator=Lasso(),\n                                                                                                             window_length=5))])]),\n   'realgdp'),\n  ('unemp',\n   TransformedTargetForecaster(steps=[ColumnSelect(columns=['unemp']),\n                                      Deseasonalizer(),\n                                      MultiplexForecaster(forecasters=[('ridge',\n                                                                        RecursiveTabularRegressionForecaster(estimator=Ridge(),\n                                                                                                             window_length=5)),\n                                                                       ('lasso',\n                                                                        RecursiveTabularRegressionForecaster(estimator=Lasso(),\n                                                                                                             window_length=5))])]),\n   'unemp')],\n 'forecaster_X__realdpi': TransformedTargetForecaster(steps=[ColumnSelect(columns=['realdpi']),\n                                    Deseasonalizer(),\n                                    MultiplexForecaster(forecasters=[('ridge',\n                                                                      RecursiveTabularRegressionForecaster(estimator=Ridge(),\n                                                                                                           window_length=5)),\n                                                                     ('lasso',\n                                                                      RecursiveTabularRegressionForecaster(estimator=Lasso(),\n                                                                                                           window_length=5))])]),\n 'forecaster_X__realgdp': TransformedTargetForecaster(steps=[ColumnSelect(columns=['realgdp']),\n                                    Deseasonalizer(),\n                                    MultiplexForecaster(forecasters=[('ridge',\n                                                                      RecursiveTabularRegressionForecaster(estimator=Ridge(),\n                                                                                                           window_length=5)),\n                                                                     ('lasso',\n                                                                      RecursiveTabularRegressionForecaster(estimator=Lasso(),\n                                                                                                           window_length=5))])]),\n 'forecaster_X__unemp': TransformedTargetForecaster(steps=[ColumnSelect(columns=['unemp']),\n                                    Deseasonalizer(),\n                                    MultiplexForecaster(forecasters=[('ridge',\n                                                                      RecursiveTabularRegressionForecaster(estimator=Ridge(),\n                                                                                                           window_length=5)),\n                                                                     ('lasso',\n                                                                      RecursiveTabularRegressionForecaster(estimator=Lasso(),\n                                                                                                           window_length=5))])]),\n 'forecaster_X__realdpi__steps': [ColumnSelect(columns=['realdpi']),\n  Deseasonalizer(),\n  MultiplexForecaster(forecasters=[('ridge',\n                                    RecursiveTabularRegressionForecaster(estimator=Ridge(),\n                                                                         window_length=5)),\n                                   ('lasso',\n                                    RecursiveTabularRegressionForecaster(estimator=Lasso(),\n                                                                         window_length=5))])],\n 'forecaster_X__realdpi__ColumnSelect': ColumnSelect(columns=['realdpi']),\n 'forecaster_X__realdpi__Deseasonalizer': Deseasonalizer(),\n 'forecaster_X__realdpi__MultiplexForecaster': MultiplexForecaster(forecasters=[('ridge',\n                                   RecursiveTabularRegressionForecaster(estimator=Ridge(),\n                                                                        window_length=5)),\n                                  ('lasso',\n                                   RecursiveTabularRegressionForecaster(estimator=Lasso(),\n                                                                        window_length=5))]),\n 'forecaster_X__realdpi__ColumnSelect__columns': ['realdpi'],\n 'forecaster_X__realdpi__ColumnSelect__index_treatment': 'remove',\n 'forecaster_X__realdpi__ColumnSelect__integer_treatment': 'col',\n 'forecaster_X__realdpi__Deseasonalizer__model': 'additive',\n 'forecaster_X__realdpi__Deseasonalizer__sp': 1,\n 'forecaster_X__realdpi__MultiplexForecaster__forecasters': [('ridge',\n   RecursiveTabularRegressionForecaster(estimator=Ridge(), window_length=5)),\n  ('lasso',\n   RecursiveTabularRegressionForecaster(estimator=Lasso(), window_length=5))],\n 'forecaster_X__realdpi__MultiplexForecaster__selected_forecaster': None,\n 'forecaster_X__realdpi__MultiplexForecaster__ridge': RecursiveTabularRegressionForecaster(estimator=Ridge(), window_length=5),\n 'forecaster_X__realdpi__MultiplexForecaster__lasso': RecursiveTabularRegressionForecaster(estimator=Lasso(), window_length=5),\n 'forecaster_X__realdpi__MultiplexForecaster__ridge__estimator': Ridge(),\n 'forecaster_X__realdpi__MultiplexForecaster__ridge__pooling': 'local',\n 'forecaster_X__realdpi__MultiplexForecaster__ridge__transformers': None,\n 'forecaster_X__realdpi__MultiplexForecaster__ridge__window_length': 5,\n 'forecaster_X__realdpi__MultiplexForecaster__ridge__estimator__alpha': 1.0,\n 'forecaster_X__realdpi__MultiplexForecaster__ridge__estimator__copy_X': True,\n 'forecaster_X__realdpi__MultiplexForecaster__ridge__estimator__fit_intercept': True,\n 'forecaster_X__realdpi__MultiplexForecaster__ridge__estimator__max_iter': None,\n 'forecaster_X__realdpi__MultiplexForecaster__ridge__estimator__normalize': 'deprecated',\n 'forecaster_X__realdpi__MultiplexForecaster__ridge__estimator__positive': False,\n 'forecaster_X__realdpi__MultiplexForecaster__ridge__estimator__random_state': None,\n 'forecaster_X__realdpi__MultiplexForecaster__ridge__estimator__solver': 'auto',\n 'forecaster_X__realdpi__MultiplexForecaster__ridge__estimator__tol': 0.001,\n 'forecaster_X__realdpi__MultiplexForecaster__lasso__estimator': Lasso(),\n 'forecaster_X__realdpi__MultiplexForecaster__lasso__pooling': 'local',\n 'forecaster_X__realdpi__MultiplexForecaster__lasso__transformers': None,\n 'forecaster_X__realdpi__MultiplexForecaster__lasso__window_length': 5,\n 'forecaster_X__realdpi__MultiplexForecaster__lasso__estimator__alpha': 1.0,\n 'forecaster_X__realdpi__MultiplexForecaster__lasso__estimator__copy_X': True,\n 'forecaster_X__realdpi__MultiplexForecaster__lasso__estimator__fit_intercept': True,\n 'forecaster_X__realdpi__MultiplexForecaster__lasso__estimator__max_iter': 1000,\n 'forecaster_X__realdpi__MultiplexForecaster__lasso__estimator__normalize': 'deprecated',\n 'forecaster_X__realdpi__MultiplexForecaster__lasso__estimator__positive': False,\n 'forecaster_X__realdpi__MultiplexForecaster__lasso__estimator__precompute': False,\n 'forecaster_X__realdpi__MultiplexForecaster__lasso__estimator__random_state': None,\n 'forecaster_X__realdpi__MultiplexForecaster__lasso__estimator__selection': 'cyclic',\n 'forecaster_X__realdpi__MultiplexForecaster__lasso__estimator__tol': 0.0001,\n 'forecaster_X__realdpi__MultiplexForecaster__lasso__estimator__warm_start': False,\n 'forecaster_X__realgdp__steps': [ColumnSelect(columns=['realgdp']),\n  Deseasonalizer(),\n  MultiplexForecaster(forecasters=[('ridge',\n                                    RecursiveTabularRegressionForecaster(estimator=Ridge(),\n                                                                         window_length=5)),\n                                   ('lasso',\n                                    RecursiveTabularRegressionForecaster(estimator=Lasso(),\n                                                                         window_length=5))])],\n 'forecaster_X__realgdp__ColumnSelect': ColumnSelect(columns=['realgdp']),\n 'forecaster_X__realgdp__Deseasonalizer': Deseasonalizer(),\n 'forecaster_X__realgdp__MultiplexForecaster': MultiplexForecaster(forecasters=[('ridge',\n                                   RecursiveTabularRegressionForecaster(estimator=Ridge(),\n                                                                        window_length=5)),\n                                  ('lasso',\n                                   RecursiveTabularRegressionForecaster(estimator=Lasso(),\n                                                                        window_length=5))]),\n 'forecaster_X__realgdp__ColumnSelect__columns': ['realgdp'],\n 'forecaster_X__realgdp__ColumnSelect__index_treatment': 'remove',\n 'forecaster_X__realgdp__ColumnSelect__integer_treatment': 'col',\n 'forecaster_X__realgdp__Deseasonalizer__model': 'additive',\n 'forecaster_X__realgdp__Deseasonalizer__sp': 1,\n 'forecaster_X__realgdp__MultiplexForecaster__forecasters': [('ridge',\n   RecursiveTabularRegressionForecaster(estimator=Ridge(), window_length=5)),\n  ('lasso',\n   RecursiveTabularRegressionForecaster(estimator=Lasso(), window_length=5))],\n 'forecaster_X__realgdp__MultiplexForecaster__selected_forecaster': None,\n 'forecaster_X__realgdp__MultiplexForecaster__ridge': RecursiveTabularRegressionForecaster(estimator=Ridge(), window_length=5),\n 'forecaster_X__realgdp__MultiplexForecaster__lasso': RecursiveTabularRegressionForecaster(estimator=Lasso(), window_length=5),\n 'forecaster_X__realgdp__MultiplexForecaster__ridge__estimator': Ridge(),\n 'forecaster_X__realgdp__MultiplexForecaster__ridge__pooling': 'local',\n 'forecaster_X__realgdp__MultiplexForecaster__ridge__transformers': None,\n 'forecaster_X__realgdp__MultiplexForecaster__ridge__window_length': 5,\n 'forecaster_X__realgdp__MultiplexForecaster__ridge__estimator__alpha': 1.0,\n 'forecaster_X__realgdp__MultiplexForecaster__ridge__estimator__copy_X': True,\n 'forecaster_X__realgdp__MultiplexForecaster__ridge__estimator__fit_intercept': True,\n 'forecaster_X__realgdp__MultiplexForecaster__ridge__estimator__max_iter': None,\n 'forecaster_X__realgdp__MultiplexForecaster__ridge__estimator__normalize': 'deprecated',\n 'forecaster_X__realgdp__MultiplexForecaster__ridge__estimator__positive': False,\n 'forecaster_X__realgdp__MultiplexForecaster__ridge__estimator__random_state': None,\n 'forecaster_X__realgdp__MultiplexForecaster__ridge__estimator__solver': 'auto',\n 'forecaster_X__realgdp__MultiplexForecaster__ridge__estimator__tol': 0.001,\n 'forecaster_X__realgdp__MultiplexForecaster__lasso__estimator': Lasso(),\n 'forecaster_X__realgdp__MultiplexForecaster__lasso__pooling': 'local',\n 'forecaster_X__realgdp__MultiplexForecaster__lasso__transformers': None,\n 'forecaster_X__realgdp__MultiplexForecaster__lasso__window_length': 5,\n 'forecaster_X__realgdp__MultiplexForecaster__lasso__estimator__alpha': 1.0,\n 'forecaster_X__realgdp__MultiplexForecaster__lasso__estimator__copy_X': True,\n 'forecaster_X__realgdp__MultiplexForecaster__lasso__estimator__fit_intercept': True,\n 'forecaster_X__realgdp__MultiplexForecaster__lasso__estimator__max_iter': 1000,\n 'forecaster_X__realgdp__MultiplexForecaster__lasso__estimator__normalize': 'deprecated',\n 'forecaster_X__realgdp__MultiplexForecaster__lasso__estimator__positive': False,\n 'forecaster_X__realgdp__MultiplexForecaster__lasso__estimator__precompute': False,\n 'forecaster_X__realgdp__MultiplexForecaster__lasso__estimator__random_state': None,\n 'forecaster_X__realgdp__MultiplexForecaster__lasso__estimator__selection': 'cyclic',\n 'forecaster_X__realgdp__MultiplexForecaster__lasso__estimator__tol': 0.0001,\n 'forecaster_X__realgdp__MultiplexForecaster__lasso__estimator__warm_start': False,\n 'forecaster_X__unemp__steps': [ColumnSelect(columns=['unemp']),\n  Deseasonalizer(),\n  MultiplexForecaster(forecasters=[('ridge',\n                                    RecursiveTabularRegressionForecaster(estimator=Ridge(),\n                                                                         window_length=5)),\n                                   ('lasso',\n                                    RecursiveTabularRegressionForecaster(estimator=Lasso(),\n                                                                         window_length=5))])],\n 'forecaster_X__unemp__ColumnSelect': ColumnSelect(columns=['unemp']),\n 'forecaster_X__unemp__Deseasonalizer': Deseasonalizer(),\n 'forecaster_X__unemp__MultiplexForecaster': MultiplexForecaster(forecasters=[('ridge',\n                                   RecursiveTabularRegressionForecaster(estimator=Ridge(),\n                                                                        window_length=5)),\n                                  ('lasso',\n                                   RecursiveTabularRegressionForecaster(estimator=Lasso(),\n                                                                        window_length=5))]),\n 'forecaster_X__unemp__ColumnSelect__columns': ['unemp'],\n 'forecaster_X__unemp__ColumnSelect__index_treatment': 'remove',\n 'forecaster_X__unemp__ColumnSelect__integer_treatment': 'col',\n 'forecaster_X__unemp__Deseasonalizer__model': 'additive',\n 'forecaster_X__unemp__Deseasonalizer__sp': 1,\n 'forecaster_X__unemp__MultiplexForecaster__forecasters': [('ridge',\n   RecursiveTabularRegressionForecaster(estimator=Ridge(), window_length=5)),\n  ('lasso',\n   RecursiveTabularRegressionForecaster(estimator=Lasso(), window_length=5))],\n 'forecaster_X__unemp__MultiplexForecaster__selected_forecaster': None,\n 'forecaster_X__unemp__MultiplexForecaster__ridge': RecursiveTabularRegressionForecaster(estimator=Ridge(), window_length=5),\n 'forecaster_X__unemp__MultiplexForecaster__lasso': RecursiveTabularRegressionForecaster(estimator=Lasso(), window_length=5),\n 'forecaster_X__unemp__MultiplexForecaster__ridge__estimator': Ridge(),\n 'forecaster_X__unemp__MultiplexForecaster__ridge__pooling': 'local',\n 'forecaster_X__unemp__MultiplexForecaster__ridge__transformers': None,\n 'forecaster_X__unemp__MultiplexForecaster__ridge__window_length': 5,\n 'forecaster_X__unemp__MultiplexForecaster__ridge__estimator__alpha': 1.0,\n 'forecaster_X__unemp__MultiplexForecaster__ridge__estimator__copy_X': True,\n 'forecaster_X__unemp__MultiplexForecaster__ridge__estimator__fit_intercept': True,\n 'forecaster_X__unemp__MultiplexForecaster__ridge__estimator__max_iter': None,\n 'forecaster_X__unemp__MultiplexForecaster__ridge__estimator__normalize': 'deprecated',\n 'forecaster_X__unemp__MultiplexForecaster__ridge__estimator__positive': False,\n 'forecaster_X__unemp__MultiplexForecaster__ridge__estimator__random_state': None,\n 'forecaster_X__unemp__MultiplexForecaster__ridge__estimator__solver': 'auto',\n 'forecaster_X__unemp__MultiplexForecaster__ridge__estimator__tol': 0.001,\n 'forecaster_X__unemp__MultiplexForecaster__lasso__estimator': Lasso(),\n 'forecaster_X__unemp__MultiplexForecaster__lasso__pooling': 'local',\n 'forecaster_X__unemp__MultiplexForecaster__lasso__transformers': None,\n 'forecaster_X__unemp__MultiplexForecaster__lasso__window_length': 5,\n 'forecaster_X__unemp__MultiplexForecaster__lasso__estimator__alpha': 1.0,\n 'forecaster_X__unemp__MultiplexForecaster__lasso__estimator__copy_X': True,\n 'forecaster_X__unemp__MultiplexForecaster__lasso__estimator__fit_intercept': True,\n 'forecaster_X__unemp__MultiplexForecaster__lasso__estimator__max_iter': 1000,\n 'forecaster_X__unemp__MultiplexForecaster__lasso__estimator__normalize': 'deprecated',\n 'forecaster_X__unemp__MultiplexForecaster__lasso__estimator__positive': False,\n 'forecaster_X__unemp__MultiplexForecaster__lasso__estimator__precompute': False,\n 'forecaster_X__unemp__MultiplexForecaster__lasso__estimator__random_state': None,\n 'forecaster_X__unemp__MultiplexForecaster__lasso__estimator__selection': 'cyclic',\n 'forecaster_X__unemp__MultiplexForecaster__lasso__estimator__tol': 0.0001,\n 'forecaster_X__unemp__MultiplexForecaster__lasso__estimator__warm_start': False,\n 'forecaster_y__forecasters': [('ridge',\n   RecursiveTabularRegressionForecaster(estimator=Ridge(), window_length=5)),\n  ('lasso',\n   RecursiveTabularRegressionForecaster(estimator=Lasso(), window_length=5))],\n 'forecaster_y__selected_forecaster': None,\n 'forecaster_y__ridge': RecursiveTabularRegressionForecaster(estimator=Ridge(), window_length=5),\n 'forecaster_y__lasso': RecursiveTabularRegressionForecaster(estimator=Lasso(), window_length=5),\n 'forecaster_y__ridge__estimator': Ridge(),\n 'forecaster_y__ridge__pooling': 'local',\n 'forecaster_y__ridge__transformers': None,\n 'forecaster_y__ridge__window_length': 5,\n 'forecaster_y__ridge__estimator__alpha': 1.0,\n 'forecaster_y__ridge__estimator__copy_X': True,\n 'forecaster_y__ridge__estimator__fit_intercept': True,\n 'forecaster_y__ridge__estimator__max_iter': None,\n 'forecaster_y__ridge__estimator__normalize': 'deprecated',\n 'forecaster_y__ridge__estimator__positive': False,\n 'forecaster_y__ridge__estimator__random_state': None,\n 'forecaster_y__ridge__estimator__solver': 'auto',\n 'forecaster_y__ridge__estimator__tol': 0.001,\n 'forecaster_y__lasso__estimator': Lasso(),\n 'forecaster_y__lasso__pooling': 'local',\n 'forecaster_y__lasso__transformers': None,\n 'forecaster_y__lasso__window_length': 5,\n 'forecaster_y__lasso__estimator__alpha': 1.0,\n 'forecaster_y__lasso__estimator__copy_X': True,\n 'forecaster_y__lasso__estimator__fit_intercept': True,\n 'forecaster_y__lasso__estimator__max_iter': 1000,\n 'forecaster_y__lasso__estimator__normalize': 'deprecated',\n 'forecaster_y__lasso__estimator__positive': False,\n 'forecaster_y__lasso__estimator__precompute': False,\n 'forecaster_y__lasso__estimator__random_state': None,\n 'forecaster_y__lasso__estimator__selection': 'cyclic',\n 'forecaster_y__lasso__estimator__tol': 0.0001,\n 'forecaster_y__lasso__estimator__warm_start': False}"
     },
     "execution_count": 23,
     "metadata": {},
     "output_type": "execute_result"
    }
   ],
   "source": [
    "inflation_forecast.get_params(True)"
   ],
   "metadata": {
    "collapsed": false
   }
  },
  {
   "cell_type": "markdown",
   "source": [
    "# Comparison graphical pipeline with nesting of sequential pipelines\n",
    "\n",
    "### Advantages of graphical pipelines\n",
    "* Enable an easy implementation of complex pipelines\n",
    "    * By nesting sequential pipelines, even a simplified version of the graphical pipeline is very complicat to implement.\n",
    "    * By nesting sequential pipelines, some graphical pipelines are not possible to implement (e.g., the example with coupled ForecastX).\n",
    "* Preprocessing steps can not be shared between the different forecasters.\n",
    "* The parameter structure can be very complex for the sequential pipelines.\n",
    "* In a complex scenario, how would you fine-tune the edges?\n",
    "\n",
    "### Advantages of sequential pipelines\n",
    "* Constructing simple pipelines is very easy.\n",
    "* Inverse operations are automatically applied.\n",
    "* This is a mature feature compared to the experimental graphical pipeline.\n"
   ],
   "metadata": {
    "collapsed": false
   }
  },
  {
   "cell_type": "code",
   "execution_count": 23,
   "outputs": [],
   "source": [],
   "metadata": {
    "collapsed": false
   }
  }
 ],
 "metadata": {
  "kernelspec": {
   "display_name": "Python 3",
   "language": "python",
   "name": "python3"
  },
  "language_info": {
   "codemirror_mode": {
    "name": "ipython",
    "version": 2
   },
   "file_extension": ".py",
   "mimetype": "text/x-python",
   "name": "python",
   "nbconvert_exporter": "python",
   "pygments_lexer": "ipython2",
   "version": "2.7.6"
  }
 },
 "nbformat": 4,
 "nbformat_minor": 0
}
