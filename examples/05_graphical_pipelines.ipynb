{
 "cells": [
  {
   "cell_type": "markdown",
   "source": [
    "# Graphical Pipelines\n",
    "\n",
    "### Content of this Notebook:\n",
    "* Understanding what are graphical pipelines\n",
    "* Understanding the API of graphical pipelines\n",
    "* Examples of simple pipelines and how they can be implemented with graphical pipelines.\n",
    "* More complex graphical pipeline\n",
    "    * Forecasting\n",
    "* Grid search with a graphical pipeline\n",
    "\n",
    "\n",
    "The previously presented pipelines are sequential pipelines. I.e., the steps in the pipeline are sequentially ordered.\n",
    "\n",
    "<img src=\"img/sequential_pipeline.png\" width=750 />\n",
    "\n",
    "Many tasks are non sequential. To solve this two possibilities exist:\n",
    "1. Nesting Sequential Pipelines.\n",
    "2. Using Graphical Pipelines.\n",
    "\n",
    "\n",
    "Thus, there is the generalised graphial pipeline.\n",
    "* Graphical means that different steps may share the same predecessor or provide their outputs to the same successor (the dataflows can branch and merge).\n",
    "<img src=\"img/graphical_pipeline.png\" width=750 />\n",
    "\n",
    "\n",
    "* Generalised means that the pipeline can be used for multiple tasks (e.g. forecasting, classification, ...).\n",
    "\n",
    "**Note**\n",
    "\n",
    "The graphical pipeline is still experimental. Thus, this graphical should not used in production. However, we would be happy to get feedback on the graphical pipeline.\n",
    "\n",
    "\n",
    "\n",
    "### Potential Use-Cases\n",
    "There exist various potential use-case for the graphical pipeline. In the following, we focus on a forecasting and a classification pipeline.\n",
    "#### Forecasting Use-Case for Graphical Pipelines\n",
    "\n",
    "\n",
    "In forecasting tasks, the input of forecasters might depend on the output of other forecasters, which same the same input. I.e., there is a branching of the data flow since the same input is used for different forecasters and a merging of data flow since the forcasters' outputs are combined.\n",
    "<img src=\"img/graphical_pipeline_example.png\" width=750 />\n",
    "\n",
    "This can be easily realised using the graphical pipeline.\n",
    "\n",
    "#### Classification Use-Case for Graphical Pipelines\n",
    "\n",
    "\n",
    "In classification taks, the input of classifier may rely on different features. Potentially, not all of these features are always observable. Thus, a soft sensor is required. Such a soft-sensor could be realised using a regressor.\n",
    "\n",
    "<img src=\"img/graphical_pipeline_softsensor.png\" width=750 />\n",
    "\n",
    "For such a scenario, the graphical pipeline is a natural fit since it enables the combination of different tasks in one pipeline.\n",
    "Note that in the current experimental state of the graphical pipeline, this use-case is not fully supported. However, we are working on this.\n",
    "\n",
    "### Credits\n",
    "The graphical pipeline was first developed by pyWATTS and was then adapted for sktime. The original implementation can be found [here](). pyWATTS is a open source library developed at the Institute of Applied Informatics and Automation at the KIT.\n"
   ],
   "metadata": {
    "collapsed": false
   }
  },
  {
   "cell_type": "code",
   "execution_count": 21,
   "metadata": {
    "collapsed": true
   },
   "outputs": [],
   "source": [
    "from sklearn.linear_model import Lasso, Ridge\n",
    "from sklearn.preprocessing import StandardScaler\n",
    "from transformations.series.subset import ColumnSelect\n",
    "\n",
    "from sktime.classification.distance_based import KNeighborsTimeSeriesClassifier\n",
    "from sktime.datasets import load_arrow_head, load_longley, load_macroeconomic\n",
    "from sktime.forecasting.base import ForecastingHorizon\n",
    "from sktime.forecasting.compose import (\n",
    "    ColumnEnsembleForecaster,\n",
    "    ForecastX,\n",
    "    MultiplexForecaster,\n",
    "    make_reduction,\n",
    ")\n",
    "from sktime.forecasting.model_selection import (\n",
    "    ForecastingGridSearchCV,\n",
    "    SlidingWindowSplitter,\n",
    "    temporal_train_test_split,\n",
    ")\n",
    "from sktime.forecasting.sarimax import SARIMAX\n",
    "from sktime.performance_metrics.forecasting import mean_absolute_error\n",
    "from sktime.pipeline.pipeline import Pipeline\n",
    "from sktime.transformations.series.adapt import TabularToSeriesAdaptor\n",
    "from sktime.transformations.series.detrend import Deseasonalizer, Detrender\n",
    "from sktime.transformations.series.difference import Differencer\n",
    "from sktime.transformations.series.exponent import ExponentTransformer"
   ]
  },
  {
   "cell_type": "markdown",
   "source": [
    "## How to build a Graphical Pipeline\n",
    "Two ways to build a graphical pipeline:\n",
    "\n",
    "1. Pass all steps to the pipeline during initialisation as for the sequential pipelines.\n",
    "\n",
    "```python\n",
    "pipeline = Pipeline([\n",
    "    {\"skobject\": skobject1, \"name\": \"bar\", \"edges\": {\"X\": \"y\"}},\n",
    "    {\n",
    "        \"skobject\": skobject2,\n",
    "        \"name\": \"foo\",\n",
    "        \"edges\": {\"X\": \"X\", \"y\": \"bar\"},\n",
    "    },\n",
    "    {\n",
    "        \"skobject\": skobject1,\n",
    "        \"name\": \"bar_inverse\",\n",
    "        \"edges\": {\"X\": \"foo\"},\n",
    "        \"method\": \"inverse_transform\",\n",
    "    },\n",
    "])\n",
    "```\n",
    "\n",
    "2. Create a pipeline object and add the steps one by one.\n",
    "\n",
    "```python\n",
    "\n",
    "pipeline = Pipeline()\n",
    "pipeline = pipeline.add_step(skobject1, \"bar\", edges={\"X\": \"y\"})\n",
    "pipeline = pipeline.add_step(skobject2, \"foo\", edges={\"X\": \"X\", \"y\": \"bar\"})\n",
    "pipeline = pipeline.add_step(\n",
    "    skobject1, \"bar_inverse\", edges={\"X\": \"foo\"}, method=\"inverse_transform\"\n",
    ")\n",
    "```\n",
    "\n",
    "Thereby the `add_step` or the dicts in the step list during initialisation have the following parameters:\n",
    "\n",
    "* skobject: The sktime object that should be added to the pipeline\n",
    "* name: The name of the step\n",
    "* edges: A dictionary that specifies the edges of the graph. The keys of the dictionary are the input arguments of the sktime object and the values are the names of the steps that should be connected to the input argument.\n",
    "* method: The method of the sktime object that should be called. If no method is specified, the default method would be inferred based on the added skobject. This parameter is used for the inverse_transform method. Optional.\n",
    "* kwargs: Additional keyword arguments that should be passed to the sktime object. Optional.\n",
    "\n",
    "In the following, we show a few simple examples of the graphical pipeline, before we show more complex ones."
   ],
   "metadata": {
    "collapsed": false
   }
  },
  {
   "cell_type": "markdown",
   "source": [
    "## Examples\n",
    "### Forecasting Pipeline\n",
    "In the following, we show how a simple forecasting pipeline could be implemented using the graphical pipeline. The pipeline consists of the following steps:\n"
   ],
   "metadata": {
    "collapsed": false
   }
  },
  {
   "cell_type": "code",
   "execution_count": 2,
   "outputs": [],
   "source": [
    "general_pipeline = Pipeline()\n",
    "differencer = Differencer()\n",
    "\n",
    "general_pipeline = general_pipeline.add_step(\n",
    "    differencer, \"differencer\", edges={\"X\": \"y\"}\n",
    ")\n",
    "general_pipeline = general_pipeline.add_step(\n",
    "    SARIMAX(), \"sarimax\", edges={\"X\": \"X\", \"y\": \"differencer\"}\n",
    ")\n",
    "general_pipeline = general_pipeline.add_step(\n",
    "    differencer, \"differencer_inv\", edges={\"X\": \"sarimax\"}, method=\"inverse_transform\"\n",
    ")"
   ],
   "metadata": {
    "collapsed": false
   }
  },
  {
   "cell_type": "markdown",
   "source": [
    "The pipeline can be visualised as follows:\n",
    "<img src=\"img/forecasting_pipeline.png\" width=750 />\n",
    "\n"
   ],
   "metadata": {
    "collapsed": false
   }
  },
  {
   "cell_type": "code",
   "execution_count": 3,
   "outputs": [
    {
     "data": {
      "text/plain": "1959    67213.735360\n1960    68328.076304\n1961    68737.861389\n1962    71322.894013\nFreq: A-DEC, Name: TOTEMP, dtype: float64"
     },
     "execution_count": 3,
     "metadata": {},
     "output_type": "execute_result"
    }
   ],
   "source": [
    "y, X = load_longley()\n",
    "y_train, y_test, X_train, X_test = temporal_train_test_split(y, X)\n",
    "\n",
    "general_pipeline.fit(y=y_train, X=X_train, fh=[1, 2, 3, 4])\n",
    "general_pipeline.predict(X=X_test)"
   ],
   "metadata": {
    "collapsed": false
   }
  },
  {
   "cell_type": "markdown",
   "source": [
    "**Alternative Way in Defining the Pipeline**\n",
    "An alternative to define a graphical pipeline would be to pass a list of steps to the Pipeline during creation. This would look as follows:"
   ],
   "metadata": {
    "collapsed": false
   }
  },
  {
   "cell_type": "code",
   "execution_count": 4,
   "outputs": [],
   "source": [
    "differencer = Differencer()\n",
    "\n",
    "general_pipeline = Pipeline(\n",
    "    [\n",
    "        {\"skobject\": differencer, \"name\": \"differencer\", \"edges\": {\"X\": \"y\"}},\n",
    "        {\n",
    "            \"skobject\": SARIMAX(),\n",
    "            \"name\": \"sarimax\",\n",
    "            \"edges\": {\"X\": \"X\", \"y\": \"differencer\"},\n",
    "        },\n",
    "        {\n",
    "            \"skobject\": differencer,\n",
    "            \"name\": \"differencer_inv\",\n",
    "            \"edges\": {\"X\": \"sarimax\"},\n",
    "            \"method\": \"inverse_transform\",\n",
    "        },\n",
    "    ]\n",
    ")"
   ],
   "metadata": {
    "collapsed": false
   }
  },
  {
   "cell_type": "markdown",
   "source": [
    "### Classification Pipeline\n",
    "In the following, we show how a simple classification pipeline could be implemented using the graphical pipeline. The pipeline consists of the following steps:"
   ],
   "metadata": {
    "collapsed": false
   }
  },
  {
   "cell_type": "code",
   "execution_count": 5,
   "outputs": [],
   "source": [
    "general_pipeline = Pipeline()\n",
    "general_pipeline = general_pipeline.add_step(\n",
    "    ExponentTransformer(), \"exponent\", edges={\"X\": \"X\"}\n",
    ")\n",
    "general_pipeline = general_pipeline.add_step(\n",
    "    KNeighborsTimeSeriesClassifier(), \"classifier\", edges={\"X\": \"exponent\", \"y\": \"y\"}\n",
    ")"
   ],
   "metadata": {
    "collapsed": false
   }
  },
  {
   "cell_type": "markdown",
   "source": [
    "This pipeline can be visualised as follows:\n",
    "\n",
    "<img src=\"img/classification_pipeline.png\" width=750 />\n"
   ],
   "metadata": {
    "collapsed": false
   }
  },
  {
   "cell_type": "code",
   "execution_count": 6,
   "outputs": [
    {
     "data": {
      "text/plain": "array(['0', '1', '2', '0', '1', '2', '0', '1', '2', '0', '1', '2', '0',\n       '1', '2', '0', '1', '2', '0', '1', '2', '0', '1', '2', '0', '1',\n       '2', '0', '1', '2', '0', '1', '2', '0', '1', '2'], dtype='<U1')"
     },
     "execution_count": 6,
     "metadata": {},
     "output_type": "execute_result"
    }
   ],
   "source": [
    "X, y = load_arrow_head(split=\"train\", return_X_y=True)\n",
    "general_pipeline.fit(X=X, y=y)\n",
    "general_pipeline.predict(X=X)"
   ],
   "metadata": {
    "collapsed": false
   }
  },
  {
   "cell_type": "markdown",
   "source": [
    "## A more Complex Example with Grid Search\n",
    "\n",
    "The considered use-case is to forecast the inflation using forecasts of the real gross domestic product, real disposable personal income, and the unemployment rate. Furthermore the unemployment rate is forecasted using the same features except the unemployment rate itself.\n",
    "\n",
    "<img src=\"img/graphical_pipeline_example.png\" width=750 />\n",
    "\n",
    "\n",
    "The data is taken from the macrodata dataset from the statsmodels package.\n"
   ],
   "metadata": {
    "collapsed": false
   }
  },
  {
   "cell_type": "markdown",
   "source": [
    "#### Pipeline Definition"
   ],
   "metadata": {
    "collapsed": false
   }
  },
  {
   "cell_type": "code",
   "execution_count": 7,
   "outputs": [],
   "source": [
    "pipeline = Pipeline()\n",
    "sklearn_scaler = StandardScaler()\n",
    "sktime_scaler = TabularToSeriesAdaptor(sklearn_scaler)\n",
    "deseasonalizer = Deseasonalizer(sp=4)\n",
    "detrender = Detrender()\n",
    "\n",
    "pipeline = pipeline.add_step(\n",
    "    sktime_scaler, name=\"scaler\", edges={\"X\": \"X__realgdp_realdpi_unemp\"}\n",
    ")\n",
    "pipeline = pipeline.add_step(\n",
    "    detrender, name=\"deseasonalizer\", edges={\"X\": \"X__realgdp_realdpi\"}\n",
    ")\n",
    "\n",
    "pipeline = pipeline.add_step(\n",
    "    MultiplexForecaster(\n",
    "        [\n",
    "            (\n",
    "                \"ridge\",\n",
    "                make_reduction(Ridge(), windows_identical=False, window_length=5),\n",
    "            ),\n",
    "            (\n",
    "                \"lasso\",\n",
    "                make_reduction(Lasso(), windows_identical=False, window_length=5),\n",
    "            ),\n",
    "        ]\n",
    "    ),\n",
    "    name=\"forecaster_gdp\",\n",
    "    edges={\"y\": \"deseasonalizer__realgdp\"},\n",
    ")\n",
    "\n",
    "pipeline = pipeline.add_step(\n",
    "    MultiplexForecaster(\n",
    "        [\n",
    "            (\n",
    "                \"ridge\",\n",
    "                make_reduction(Ridge(), windows_identical=False, window_length=5),\n",
    "            ),\n",
    "            (\n",
    "                \"lasso\",\n",
    "                make_reduction(Lasso(), windows_identical=False, window_length=5),\n",
    "            ),\n",
    "        ]\n",
    "    ),\n",
    "    name=\"forecaster_dpi\",\n",
    "    edges={\"y\": \"deseasonalizer__realdpi\"},\n",
    ")\n",
    "\n",
    "pipeline = pipeline.add_step(\n",
    "    MultiplexForecaster(\n",
    "        [\n",
    "            (\n",
    "                \"ridge\",\n",
    "                make_reduction(Ridge(), windows_identical=False, window_length=5),\n",
    "            ),\n",
    "            (\n",
    "                \"lasso\",\n",
    "                make_reduction(Lasso(), windows_identical=False, window_length=5),\n",
    "            ),\n",
    "        ]\n",
    "    ),\n",
    "    name=\"forecaster_unemp\",\n",
    "    edges={\n",
    "        \"y\": \"scaler__unemp\",\n",
    "        \"X\": [\n",
    "            \"forecaster_gdp\",\n",
    "            \"forecaster_dpi\",\n",
    "        ],\n",
    "    },\n",
    ")\n",
    "\n",
    "pipeline = pipeline.add_step(\n",
    "    MultiplexForecaster(\n",
    "        [\n",
    "            (\n",
    "                \"ridge\",\n",
    "                make_reduction(Ridge(), windows_identical=False, window_length=5),\n",
    "            ),\n",
    "            (\n",
    "                \"lasso\",\n",
    "                make_reduction(Lasso(), windows_identical=False, window_length=5),\n",
    "            ),\n",
    "        ]\n",
    "    ),\n",
    "    name=\"forecaster_inflation\",\n",
    "    edges={\"X\": [\"forecaster_dpi\", \"forecaster_unemp\"], \"y\": \"y\"},\n",
    ")"
   ],
   "metadata": {
    "collapsed": false
   }
  },
  {
   "cell_type": "code",
   "execution_count": 8,
   "outputs": [
    {
     "data": {
      "text/plain": "          realgdp  realdpi  unemp\nPeriod                           \n1959Q1   2710.349   1886.9    5.8\n1959Q2   2778.801   1919.7    5.1\n1959Q3   2775.488   1916.4    5.3\n1959Q4   2785.204   1931.3    5.6\n1960Q1   2847.699   1955.5    5.2\n...           ...      ...    ...\n2005Q3  12683.153   9308.0    5.0\n2005Q4  12748.699   9358.7    4.9\n2006Q1  12915.938   9533.8    4.7\n2006Q2  12962.462   9617.3    4.7\n2006Q3  12965.916   9662.5    4.7\n\n[191 rows x 3 columns]",
      "text/html": "<div>\n<style scoped>\n    .dataframe tbody tr th:only-of-type {\n        vertical-align: middle;\n    }\n\n    .dataframe tbody tr th {\n        vertical-align: top;\n    }\n\n    .dataframe thead th {\n        text-align: right;\n    }\n</style>\n<table border=\"1\" class=\"dataframe\">\n  <thead>\n    <tr style=\"text-align: right;\">\n      <th></th>\n      <th>realgdp</th>\n      <th>realdpi</th>\n      <th>unemp</th>\n    </tr>\n    <tr>\n      <th>Period</th>\n      <th></th>\n      <th></th>\n      <th></th>\n    </tr>\n  </thead>\n  <tbody>\n    <tr>\n      <th>1959Q1</th>\n      <td>2710.349</td>\n      <td>1886.9</td>\n      <td>5.8</td>\n    </tr>\n    <tr>\n      <th>1959Q2</th>\n      <td>2778.801</td>\n      <td>1919.7</td>\n      <td>5.1</td>\n    </tr>\n    <tr>\n      <th>1959Q3</th>\n      <td>2775.488</td>\n      <td>1916.4</td>\n      <td>5.3</td>\n    </tr>\n    <tr>\n      <th>1959Q4</th>\n      <td>2785.204</td>\n      <td>1931.3</td>\n      <td>5.6</td>\n    </tr>\n    <tr>\n      <th>1960Q1</th>\n      <td>2847.699</td>\n      <td>1955.5</td>\n      <td>5.2</td>\n    </tr>\n    <tr>\n      <th>...</th>\n      <td>...</td>\n      <td>...</td>\n      <td>...</td>\n    </tr>\n    <tr>\n      <th>2005Q3</th>\n      <td>12683.153</td>\n      <td>9308.0</td>\n      <td>5.0</td>\n    </tr>\n    <tr>\n      <th>2005Q4</th>\n      <td>12748.699</td>\n      <td>9358.7</td>\n      <td>4.9</td>\n    </tr>\n    <tr>\n      <th>2006Q1</th>\n      <td>12915.938</td>\n      <td>9533.8</td>\n      <td>4.7</td>\n    </tr>\n    <tr>\n      <th>2006Q2</th>\n      <td>12962.462</td>\n      <td>9617.3</td>\n      <td>4.7</td>\n    </tr>\n    <tr>\n      <th>2006Q3</th>\n      <td>12965.916</td>\n      <td>9662.5</td>\n      <td>4.7</td>\n    </tr>\n  </tbody>\n</table>\n<p>191 rows × 3 columns</p>\n</div>"
     },
     "execution_count": 8,
     "metadata": {},
     "output_type": "execute_result"
    }
   ],
   "source": [
    "data = load_macroeconomic()\n",
    "\n",
    "X = data[[\"realgdp\", \"realdpi\", \"unemp\"]]\n",
    "y = data[[\"infl\"]]\n",
    "fh = ForecastingHorizon([1, 2, 3, 4, 5, 6, 7, 8, 9, 10, 11, 12])\n",
    "\n",
    "y_train, y_test, X_train, X_test = temporal_train_test_split(y, X=X, fh=fh)\n",
    "X_train"
   ],
   "metadata": {
    "collapsed": false
   }
  },
  {
   "cell_type": "code",
   "execution_count": 9,
   "outputs": [
    {
     "data": {
      "text/plain": "infl    18.041837\ndtype: float64"
     },
     "execution_count": 9,
     "metadata": {},
     "output_type": "execute_result"
    }
   ],
   "source": [
    "pipeline.fit(y=y_train, X=X_train, fh=fh)\n",
    "result = pipeline.predict(X=None, fh=y_test.index)\n",
    "((result - y_test) ** 2).mean()"
   ],
   "metadata": {
    "collapsed": false
   }
  },
  {
   "cell_type": "code",
   "execution_count": 10,
   "outputs": [
    {
     "data": {
      "text/plain": "infl    19.608558\ndtype: float64"
     },
     "execution_count": 10,
     "metadata": {},
     "output_type": "execute_result"
    }
   ],
   "source": [
    "ridge = make_reduction(Ridge(), windows_identical=False, window_length=5)\n",
    "ridge.fit(y=y_train, fh=fh)\n",
    "((ridge.predict() - y_test) ** 2).mean()"
   ],
   "metadata": {
    "collapsed": false
   }
  },
  {
   "cell_type": "markdown",
   "source": [
    "#### Grid Search\n",
    "\n",
    "This pipeline has multiple parameters that might be tested to find the configurations. These parameters include:\n",
    "* which forecaster should be used for which variable -> `MultiplexForecaster`\n",
    "* what should be the hyperparameters of the forecaster\n",
    "* which features should be used for the different forecasters -> Tune the edges of the graphical pipeline!\n",
    "\n",
    "<img src=\"img/graphical_pipeline_example_grid.png\" width=750 />\n",
    "\n",
    "Since we do forecasting, we use the ForecastingGridSearchCV.\n",
    "\n",
    "1. Specify the parameter grid:\n",
    "\n",
    "The keys of the dictionary are the names of the steps in the pipeline and the values are the different configurations that should be tested for the step. Thus, to change the parameters of a skobject in the pipeline the key looks like: `step_name__skobject_name__parameter_name`. To change the inputs you need to vary the edges. This can be done with keys following the following scheme: `step_name_edges_Xory`\n"
   ],
   "metadata": {
    "collapsed": false
   }
  },
  {
   "cell_type": "code",
   "execution_count": 11,
   "outputs": [],
   "source": [
    "param_grid = {\n",
    "    \"forecaster_inflation__skobject__selected_forecaster\": [\"ridge\", \"lasso\"],\n",
    "    \"forecaster_unemp__skobject__selected_forecaster\": [\"ridge\", \"lasso\"],\n",
    "    \"forecaster_dpi__skobject__selected_forecaster\": [\"ridge\", \"lasso\"],\n",
    "    \"forecaster_gdp__skobject__selected_forecaster\": [\"ridge\", \"lasso\"],\n",
    "    \"forecaster_inflation__edges__X\": [\n",
    "        [\"forecaster_unemp\"],\n",
    "        [\"forecaster_unemp\", \"forecaster_dpi\"],\n",
    "    ],\n",
    "    \"forecaster_unemp__edges__X\": [\n",
    "        [],\n",
    "        [\"forecaster_dpi\"],\n",
    "        [\"forecaster_gdp\", \"forecaster_dpi\"],\n",
    "    ],\n",
    "}"
   ],
   "metadata": {
    "collapsed": false
   }
  },
  {
   "cell_type": "markdown",
   "source": [],
   "metadata": {
    "collapsed": false
   }
  },
  {
   "cell_type": "markdown",
   "source": [
    "Initialise the gridsearch using pipeline, crossvalidation strategy, scoringm and param_grid.\n"
   ],
   "metadata": {
    "collapsed": false
   }
  },
  {
   "cell_type": "code",
   "execution_count": 12,
   "outputs": [],
   "source": [
    "gridcv = ForecastingGridSearchCV(\n",
    "    pipeline,\n",
    "    cv=SlidingWindowSplitter(\n",
    "        window_length=len(X_train) - 20,\n",
    "        step_length=4,\n",
    "        fh=[1, 2, 3, 4, 5, 6, 7, 8, 9, 10, 11, 12],\n",
    "    ),\n",
    "    scoring=mean_absolute_error,\n",
    "    # refit=False,\n",
    "    error_score=\"raise\",\n",
    "    param_grid=param_grid,\n",
    ")"
   ],
   "metadata": {
    "collapsed": false
   }
  },
  {
   "cell_type": "markdown",
   "source": [
    "Call fit on the gridsearch object."
   ],
   "metadata": {
    "collapsed": false
   }
  },
  {
   "cell_type": "code",
   "execution_count": 13,
   "outputs": [
    {
     "name": "stderr",
     "output_type": "stream",
     "text": [
      "C:\\Users\\bi4372\\.conda\\envs\\pyWATTS-deRSE-2023\\lib\\site-packages\\sklearn\\linear_model\\_coordinate_descent.py:648: ConvergenceWarning: Objective did not converge. You might want to increase the number of iterations, check the scale of the features or consider increasing regularisation. Duality gap: 3.336e+03, tolerance: 2.727e+03\n",
      "  model = cd_fast.enet_coordinate_descent(\n",
      "C:\\Users\\bi4372\\.conda\\envs\\pyWATTS-deRSE-2023\\lib\\site-packages\\sklearn\\linear_model\\_coordinate_descent.py:648: ConvergenceWarning: Objective did not converge. You might want to increase the number of iterations, check the scale of the features or consider increasing regularisation. Duality gap: 6.676e+03, tolerance: 2.996e+03\n",
      "  model = cd_fast.enet_coordinate_descent(\n",
      "C:\\Users\\bi4372\\.conda\\envs\\pyWATTS-deRSE-2023\\lib\\site-packages\\sklearn\\linear_model\\_coordinate_descent.py:648: ConvergenceWarning: Objective did not converge. You might want to increase the number of iterations, check the scale of the features or consider increasing regularisation. Duality gap: 3.336e+03, tolerance: 2.727e+03\n",
      "  model = cd_fast.enet_coordinate_descent(\n",
      "C:\\Users\\bi4372\\.conda\\envs\\pyWATTS-deRSE-2023\\lib\\site-packages\\sklearn\\linear_model\\_coordinate_descent.py:648: ConvergenceWarning: Objective did not converge. You might want to increase the number of iterations, check the scale of the features or consider increasing regularisation. Duality gap: 6.676e+03, tolerance: 2.996e+03\n",
      "  model = cd_fast.enet_coordinate_descent(\n",
      "C:\\Users\\bi4372\\.conda\\envs\\pyWATTS-deRSE-2023\\lib\\site-packages\\sklearn\\linear_model\\_coordinate_descent.py:648: ConvergenceWarning: Objective did not converge. You might want to increase the number of iterations, check the scale of the features or consider increasing regularisation. Duality gap: 3.336e+03, tolerance: 2.727e+03\n",
      "  model = cd_fast.enet_coordinate_descent(\n",
      "C:\\Users\\bi4372\\.conda\\envs\\pyWATTS-deRSE-2023\\lib\\site-packages\\sklearn\\linear_model\\_coordinate_descent.py:648: ConvergenceWarning: Objective did not converge. You might want to increase the number of iterations, check the scale of the features or consider increasing regularisation. Duality gap: 6.676e+03, tolerance: 2.996e+03\n",
      "  model = cd_fast.enet_coordinate_descent(\n",
      "C:\\Users\\bi4372\\.conda\\envs\\pyWATTS-deRSE-2023\\lib\\site-packages\\sklearn\\linear_model\\_coordinate_descent.py:648: ConvergenceWarning: Objective did not converge. You might want to increase the number of iterations, check the scale of the features or consider increasing regularisation. Duality gap: 3.336e+03, tolerance: 2.727e+03\n",
      "  model = cd_fast.enet_coordinate_descent(\n",
      "C:\\Users\\bi4372\\.conda\\envs\\pyWATTS-deRSE-2023\\lib\\site-packages\\sklearn\\linear_model\\_coordinate_descent.py:648: ConvergenceWarning: Objective did not converge. You might want to increase the number of iterations, check the scale of the features or consider increasing regularisation. Duality gap: 6.676e+03, tolerance: 2.996e+03\n",
      "  model = cd_fast.enet_coordinate_descent(\n",
      "C:\\Users\\bi4372\\.conda\\envs\\pyWATTS-deRSE-2023\\lib\\site-packages\\sklearn\\linear_model\\_coordinate_descent.py:648: ConvergenceWarning: Objective did not converge. You might want to increase the number of iterations, check the scale of the features or consider increasing regularisation. Duality gap: 3.336e+03, tolerance: 2.727e+03\n",
      "  model = cd_fast.enet_coordinate_descent(\n",
      "C:\\Users\\bi4372\\.conda\\envs\\pyWATTS-deRSE-2023\\lib\\site-packages\\sklearn\\linear_model\\_coordinate_descent.py:648: ConvergenceWarning: Objective did not converge. You might want to increase the number of iterations, check the scale of the features or consider increasing regularisation. Duality gap: 6.676e+03, tolerance: 2.996e+03\n",
      "  model = cd_fast.enet_coordinate_descent(\n",
      "C:\\Users\\bi4372\\.conda\\envs\\pyWATTS-deRSE-2023\\lib\\site-packages\\sklearn\\linear_model\\_coordinate_descent.py:648: ConvergenceWarning: Objective did not converge. You might want to increase the number of iterations, check the scale of the features or consider increasing regularisation. Duality gap: 3.336e+03, tolerance: 2.727e+03\n",
      "  model = cd_fast.enet_coordinate_descent(\n",
      "C:\\Users\\bi4372\\.conda\\envs\\pyWATTS-deRSE-2023\\lib\\site-packages\\sklearn\\linear_model\\_coordinate_descent.py:648: ConvergenceWarning: Objective did not converge. You might want to increase the number of iterations, check the scale of the features or consider increasing regularisation. Duality gap: 6.676e+03, tolerance: 2.996e+03\n",
      "  model = cd_fast.enet_coordinate_descent(\n",
      "C:\\Users\\bi4372\\.conda\\envs\\pyWATTS-deRSE-2023\\lib\\site-packages\\sklearn\\linear_model\\_coordinate_descent.py:648: ConvergenceWarning: Objective did not converge. You might want to increase the number of iterations, check the scale of the features or consider increasing regularisation. Duality gap: 3.336e+03, tolerance: 2.727e+03\n",
      "  model = cd_fast.enet_coordinate_descent(\n",
      "C:\\Users\\bi4372\\.conda\\envs\\pyWATTS-deRSE-2023\\lib\\site-packages\\sklearn\\linear_model\\_coordinate_descent.py:648: ConvergenceWarning: Objective did not converge. You might want to increase the number of iterations, check the scale of the features or consider increasing regularisation. Duality gap: 6.676e+03, tolerance: 2.996e+03\n",
      "  model = cd_fast.enet_coordinate_descent(\n",
      "C:\\Users\\bi4372\\.conda\\envs\\pyWATTS-deRSE-2023\\lib\\site-packages\\sklearn\\linear_model\\_coordinate_descent.py:648: ConvergenceWarning: Objective did not converge. You might want to increase the number of iterations, check the scale of the features or consider increasing regularisation. Duality gap: 3.336e+03, tolerance: 2.727e+03\n",
      "  model = cd_fast.enet_coordinate_descent(\n",
      "C:\\Users\\bi4372\\.conda\\envs\\pyWATTS-deRSE-2023\\lib\\site-packages\\sklearn\\linear_model\\_coordinate_descent.py:648: ConvergenceWarning: Objective did not converge. You might want to increase the number of iterations, check the scale of the features or consider increasing regularisation. Duality gap: 6.676e+03, tolerance: 2.996e+03\n",
      "  model = cd_fast.enet_coordinate_descent(\n",
      "C:\\Users\\bi4372\\.conda\\envs\\pyWATTS-deRSE-2023\\lib\\site-packages\\sklearn\\linear_model\\_coordinate_descent.py:648: ConvergenceWarning: Objective did not converge. You might want to increase the number of iterations, check the scale of the features or consider increasing regularisation. Duality gap: 3.336e+03, tolerance: 2.727e+03\n",
      "  model = cd_fast.enet_coordinate_descent(\n",
      "C:\\Users\\bi4372\\.conda\\envs\\pyWATTS-deRSE-2023\\lib\\site-packages\\sklearn\\linear_model\\_coordinate_descent.py:648: ConvergenceWarning: Objective did not converge. You might want to increase the number of iterations, check the scale of the features or consider increasing regularisation. Duality gap: 6.676e+03, tolerance: 2.996e+03\n",
      "  model = cd_fast.enet_coordinate_descent(\n",
      "C:\\Users\\bi4372\\.conda\\envs\\pyWATTS-deRSE-2023\\lib\\site-packages\\sklearn\\linear_model\\_coordinate_descent.py:648: ConvergenceWarning: Objective did not converge. You might want to increase the number of iterations, check the scale of the features or consider increasing regularisation. Duality gap: 3.336e+03, tolerance: 2.727e+03\n",
      "  model = cd_fast.enet_coordinate_descent(\n",
      "C:\\Users\\bi4372\\.conda\\envs\\pyWATTS-deRSE-2023\\lib\\site-packages\\sklearn\\linear_model\\_coordinate_descent.py:648: ConvergenceWarning: Objective did not converge. You might want to increase the number of iterations, check the scale of the features or consider increasing regularisation. Duality gap: 6.676e+03, tolerance: 2.996e+03\n",
      "  model = cd_fast.enet_coordinate_descent(\n",
      "C:\\Users\\bi4372\\.conda\\envs\\pyWATTS-deRSE-2023\\lib\\site-packages\\sklearn\\linear_model\\_coordinate_descent.py:648: ConvergenceWarning: Objective did not converge. You might want to increase the number of iterations, check the scale of the features or consider increasing regularisation. Duality gap: 3.336e+03, tolerance: 2.727e+03\n",
      "  model = cd_fast.enet_coordinate_descent(\n",
      "C:\\Users\\bi4372\\.conda\\envs\\pyWATTS-deRSE-2023\\lib\\site-packages\\sklearn\\linear_model\\_coordinate_descent.py:648: ConvergenceWarning: Objective did not converge. You might want to increase the number of iterations, check the scale of the features or consider increasing regularisation. Duality gap: 6.676e+03, tolerance: 2.996e+03\n",
      "  model = cd_fast.enet_coordinate_descent(\n",
      "C:\\Users\\bi4372\\.conda\\envs\\pyWATTS-deRSE-2023\\lib\\site-packages\\sklearn\\linear_model\\_coordinate_descent.py:648: ConvergenceWarning: Objective did not converge. You might want to increase the number of iterations, check the scale of the features or consider increasing regularisation. Duality gap: 3.336e+03, tolerance: 2.727e+03\n",
      "  model = cd_fast.enet_coordinate_descent(\n",
      "C:\\Users\\bi4372\\.conda\\envs\\pyWATTS-deRSE-2023\\lib\\site-packages\\sklearn\\linear_model\\_coordinate_descent.py:648: ConvergenceWarning: Objective did not converge. You might want to increase the number of iterations, check the scale of the features or consider increasing regularisation. Duality gap: 6.676e+03, tolerance: 2.996e+03\n",
      "  model = cd_fast.enet_coordinate_descent(\n",
      "C:\\Users\\bi4372\\.conda\\envs\\pyWATTS-deRSE-2023\\lib\\site-packages\\sklearn\\linear_model\\_coordinate_descent.py:648: ConvergenceWarning: Objective did not converge. You might want to increase the number of iterations, check the scale of the features or consider increasing regularisation. Duality gap: 3.336e+03, tolerance: 2.727e+03\n",
      "  model = cd_fast.enet_coordinate_descent(\n",
      "C:\\Users\\bi4372\\.conda\\envs\\pyWATTS-deRSE-2023\\lib\\site-packages\\sklearn\\linear_model\\_coordinate_descent.py:648: ConvergenceWarning: Objective did not converge. You might want to increase the number of iterations, check the scale of the features or consider increasing regularisation. Duality gap: 6.676e+03, tolerance: 2.996e+03\n",
      "  model = cd_fast.enet_coordinate_descent(\n",
      "C:\\Users\\bi4372\\.conda\\envs\\pyWATTS-deRSE-2023\\lib\\site-packages\\sklearn\\linear_model\\_coordinate_descent.py:648: ConvergenceWarning: Objective did not converge. You might want to increase the number of iterations, check the scale of the features or consider increasing regularisation. Duality gap: 3.336e+03, tolerance: 2.727e+03\n",
      "  model = cd_fast.enet_coordinate_descent(\n",
      "C:\\Users\\bi4372\\.conda\\envs\\pyWATTS-deRSE-2023\\lib\\site-packages\\sklearn\\linear_model\\_coordinate_descent.py:648: ConvergenceWarning: Objective did not converge. You might want to increase the number of iterations, check the scale of the features or consider increasing regularisation. Duality gap: 6.676e+03, tolerance: 2.996e+03\n",
      "  model = cd_fast.enet_coordinate_descent(\n",
      "C:\\Users\\bi4372\\.conda\\envs\\pyWATTS-deRSE-2023\\lib\\site-packages\\sklearn\\linear_model\\_coordinate_descent.py:648: ConvergenceWarning: Objective did not converge. You might want to increase the number of iterations, check the scale of the features or consider increasing regularisation. Duality gap: 3.336e+03, tolerance: 2.727e+03\n",
      "  model = cd_fast.enet_coordinate_descent(\n",
      "C:\\Users\\bi4372\\.conda\\envs\\pyWATTS-deRSE-2023\\lib\\site-packages\\sklearn\\linear_model\\_coordinate_descent.py:648: ConvergenceWarning: Objective did not converge. You might want to increase the number of iterations, check the scale of the features or consider increasing regularisation. Duality gap: 6.676e+03, tolerance: 2.996e+03\n",
      "  model = cd_fast.enet_coordinate_descent(\n",
      "C:\\Users\\bi4372\\.conda\\envs\\pyWATTS-deRSE-2023\\lib\\site-packages\\sklearn\\linear_model\\_coordinate_descent.py:648: ConvergenceWarning: Objective did not converge. You might want to increase the number of iterations, check the scale of the features or consider increasing regularisation. Duality gap: 3.336e+03, tolerance: 2.727e+03\n",
      "  model = cd_fast.enet_coordinate_descent(\n",
      "C:\\Users\\bi4372\\.conda\\envs\\pyWATTS-deRSE-2023\\lib\\site-packages\\sklearn\\linear_model\\_coordinate_descent.py:648: ConvergenceWarning: Objective did not converge. You might want to increase the number of iterations, check the scale of the features or consider increasing regularisation. Duality gap: 6.676e+03, tolerance: 2.996e+03\n",
      "  model = cd_fast.enet_coordinate_descent(\n"
     ]
    },
    {
     "data": {
      "text/plain": "ForecastingGridSearchCV(cv=SlidingWindowSplitter(fh=[1, 2, 3, 4, 5, 6, 7, 8, 9,\n                                                     10, 11, 12],\n                                                 step_length=4,\n                                                 window_length=171),\n                        error_score='raise',\n                        forecaster=Pipeline(steps=[{'edges': {'X': 'X__realgdp_realdpi_unemp'},\n                                                    'kwargs': {},\n                                                    'method': None,\n                                                    'name': 'scaler',\n                                                    'skobject': TabularToSeriesAdaptor(transformer=StandardScaler())},\n                                                   {'edges': {'X': 'X__realgdp_realdpi'},\n                                                    'kwa...\n                                    'forecaster_inflation__edges__X': [['forecaster_unemp'],\n                                                                       ['forecaster_unemp',\n                                                                        'forecaster_dpi']],\n                                    'forecaster_inflation__skobject__selected_forecaster': ['ridge',\n                                                                                            'lasso'],\n                                    'forecaster_unemp__edges__X': [[],\n                                                                   ['forecaster_dpi'],\n                                                                   ['forecaster_gdp',\n                                                                    'forecaster_dpi']],\n                                    'forecaster_unemp__skobject__selected_forecaster': ['ridge',\n                                                                                        'lasso']},\n                        scoring=<function mean_absolute_error at 0x00000254DB71EC10>)",
      "text/html": "<style>#sk-2f8426eb-7e9a-4522-96fb-2615e0cc5110 {color: black;background-color: white;}#sk-2f8426eb-7e9a-4522-96fb-2615e0cc5110 pre{padding: 0;}#sk-2f8426eb-7e9a-4522-96fb-2615e0cc5110 div.sk-toggleable {background-color: white;}#sk-2f8426eb-7e9a-4522-96fb-2615e0cc5110 label.sk-toggleable__label {cursor: pointer;display: block;width: 100%;margin-bottom: 0;padding: 0.3em;box-sizing: border-box;text-align: center;}#sk-2f8426eb-7e9a-4522-96fb-2615e0cc5110 label.sk-toggleable__label-arrow:before {content: \"▸\";float: left;margin-right: 0.25em;color: #696969;}#sk-2f8426eb-7e9a-4522-96fb-2615e0cc5110 label.sk-toggleable__label-arrow:hover:before {color: black;}#sk-2f8426eb-7e9a-4522-96fb-2615e0cc5110 div.sk-estimator:hover label.sk-toggleable__label-arrow:before {color: black;}#sk-2f8426eb-7e9a-4522-96fb-2615e0cc5110 div.sk-toggleable__content {max-height: 0;max-width: 0;overflow: hidden;text-align: left;background-color: #f0f8ff;}#sk-2f8426eb-7e9a-4522-96fb-2615e0cc5110 div.sk-toggleable__content pre {margin: 0.2em;color: black;border-radius: 0.25em;background-color: #f0f8ff;}#sk-2f8426eb-7e9a-4522-96fb-2615e0cc5110 input.sk-toggleable__control:checked~div.sk-toggleable__content {max-height: 200px;max-width: 100%;overflow: auto;}#sk-2f8426eb-7e9a-4522-96fb-2615e0cc5110 input.sk-toggleable__control:checked~label.sk-toggleable__label-arrow:before {content: \"▾\";}#sk-2f8426eb-7e9a-4522-96fb-2615e0cc5110 div.sk-estimator input.sk-toggleable__control:checked~label.sk-toggleable__label {background-color: #d4ebff;}#sk-2f8426eb-7e9a-4522-96fb-2615e0cc5110 div.sk-label input.sk-toggleable__control:checked~label.sk-toggleable__label {background-color: #d4ebff;}#sk-2f8426eb-7e9a-4522-96fb-2615e0cc5110 input.sk-hidden--visually {border: 0;clip: rect(1px 1px 1px 1px);clip: rect(1px, 1px, 1px, 1px);height: 1px;margin: -1px;overflow: hidden;padding: 0;position: absolute;width: 1px;}#sk-2f8426eb-7e9a-4522-96fb-2615e0cc5110 div.sk-estimator {font-family: monospace;background-color: #f0f8ff;border: 1px dotted black;border-radius: 0.25em;box-sizing: border-box;margin-bottom: 0.5em;}#sk-2f8426eb-7e9a-4522-96fb-2615e0cc5110 div.sk-estimator:hover {background-color: #d4ebff;}#sk-2f8426eb-7e9a-4522-96fb-2615e0cc5110 div.sk-parallel-item::after {content: \"\";width: 100%;border-bottom: 1px solid gray;flex-grow: 1;}#sk-2f8426eb-7e9a-4522-96fb-2615e0cc5110 div.sk-label:hover label.sk-toggleable__label {background-color: #d4ebff;}#sk-2f8426eb-7e9a-4522-96fb-2615e0cc5110 div.sk-serial::before {content: \"\";position: absolute;border-left: 1px solid gray;box-sizing: border-box;top: 2em;bottom: 0;left: 50%;}#sk-2f8426eb-7e9a-4522-96fb-2615e0cc5110 div.sk-serial {display: flex;flex-direction: column;align-items: center;background-color: white;padding-right: 0.2em;padding-left: 0.2em;}#sk-2f8426eb-7e9a-4522-96fb-2615e0cc5110 div.sk-item {z-index: 1;}#sk-2f8426eb-7e9a-4522-96fb-2615e0cc5110 div.sk-parallel {display: flex;align-items: stretch;justify-content: center;background-color: white;}#sk-2f8426eb-7e9a-4522-96fb-2615e0cc5110 div.sk-parallel::before {content: \"\";position: absolute;border-left: 1px solid gray;box-sizing: border-box;top: 2em;bottom: 0;left: 50%;}#sk-2f8426eb-7e9a-4522-96fb-2615e0cc5110 div.sk-parallel-item {display: flex;flex-direction: column;position: relative;background-color: white;}#sk-2f8426eb-7e9a-4522-96fb-2615e0cc5110 div.sk-parallel-item:first-child::after {align-self: flex-end;width: 50%;}#sk-2f8426eb-7e9a-4522-96fb-2615e0cc5110 div.sk-parallel-item:last-child::after {align-self: flex-start;width: 50%;}#sk-2f8426eb-7e9a-4522-96fb-2615e0cc5110 div.sk-parallel-item:only-child::after {width: 0;}#sk-2f8426eb-7e9a-4522-96fb-2615e0cc5110 div.sk-dashed-wrapped {border: 1px dashed gray;margin: 0 0.4em 0.5em 0.4em;box-sizing: border-box;padding-bottom: 0.4em;background-color: white;position: relative;}#sk-2f8426eb-7e9a-4522-96fb-2615e0cc5110 div.sk-label label {font-family: monospace;font-weight: bold;background-color: white;display: inline-block;line-height: 1.2em;}#sk-2f8426eb-7e9a-4522-96fb-2615e0cc5110 div.sk-label-container {position: relative;z-index: 2;text-align: center;}#sk-2f8426eb-7e9a-4522-96fb-2615e0cc5110 div.sk-container {/* jupyter's `normalize.less` sets `[hidden] { display: none; }` but bootstrap.min.css set `[hidden] { display: none !important; }` so we also need the `!important` here to be able to override the default hidden behavior on the sphinx rendered scikit-learn.org. See: https://github.com/scikit-learn/scikit-learn/issues/21755 */display: inline-block !important;position: relative;}#sk-2f8426eb-7e9a-4522-96fb-2615e0cc5110 div.sk-text-repr-fallback {display: none;}</style><div id='sk-2f8426eb-7e9a-4522-96fb-2615e0cc5110' class=\"sk-top-container\"><div class=\"sk-text-repr-fallback\"><pre>ForecastingGridSearchCV(cv=SlidingWindowSplitter(fh=[1, 2, 3, 4, 5, 6, 7, 8, 9,\n                                                     10, 11, 12],\n                                                 step_length=4,\n                                                 window_length=171),\n                        error_score=&#x27;raise&#x27;,\n                        forecaster=Pipeline(steps=[{&#x27;edges&#x27;: {&#x27;X&#x27;: &#x27;X__realgdp_realdpi_unemp&#x27;},\n                                                    &#x27;kwargs&#x27;: {},\n                                                    &#x27;method&#x27;: None,\n                                                    &#x27;name&#x27;: &#x27;scaler&#x27;,\n                                                    &#x27;skobject&#x27;: TabularToSeriesAdaptor(transformer=StandardScaler())},\n                                                   {&#x27;edges&#x27;: {&#x27;X&#x27;: &#x27;X__realgdp_realdpi&#x27;},\n                                                    &#x27;kwa...\n                                    &#x27;forecaster_inflation__edges__X&#x27;: [[&#x27;forecaster_unemp&#x27;],\n                                                                       [&#x27;forecaster_unemp&#x27;,\n                                                                        &#x27;forecaster_dpi&#x27;]],\n                                    &#x27;forecaster_inflation__skobject__selected_forecaster&#x27;: [&#x27;ridge&#x27;,\n                                                                                            &#x27;lasso&#x27;],\n                                    &#x27;forecaster_unemp__edges__X&#x27;: [[],\n                                                                   [&#x27;forecaster_dpi&#x27;],\n                                                                   [&#x27;forecaster_gdp&#x27;,\n                                                                    &#x27;forecaster_dpi&#x27;]],\n                                    &#x27;forecaster_unemp__skobject__selected_forecaster&#x27;: [&#x27;ridge&#x27;,\n                                                                                        &#x27;lasso&#x27;]},\n                        scoring=&lt;function mean_absolute_error at 0x00000254DB71EC10&gt;)</pre><b>Please rerun this cell to show the HTML repr or trust the notebook.</b></div><div class=\"sk-container\" hidden><div class=\"sk-item sk-dashed-wrapped\"><div class='sk-label-container'><div class=\"sk-label sk-toggleable\"><input class=\"sk-toggleable__control sk-hidden--visually\" id=UUID('e14a89c3-3944-4a67-bfb8-1fad1d29068b') type=\"checkbox\" ><label for=UUID('e14a89c3-3944-4a67-bfb8-1fad1d29068b') class='sk-toggleable__label sk-toggleable__label-arrow'>ForecastingGridSearchCV</label><div class=\"sk-toggleable__content\"><pre>ForecastingGridSearchCV(cv=SlidingWindowSplitter(fh=[1, 2, 3, 4, 5, 6, 7, 8, 9,\n                                                     10, 11, 12],\n                                                 step_length=4,\n                                                 window_length=171),\n                        error_score=&#x27;raise&#x27;,\n                        forecaster=Pipeline(steps=[{&#x27;edges&#x27;: {&#x27;X&#x27;: &#x27;X__realgdp_realdpi_unemp&#x27;},\n                                                    &#x27;kwargs&#x27;: {},\n                                                    &#x27;method&#x27;: None,\n                                                    &#x27;name&#x27;: &#x27;scaler&#x27;,\n                                                    &#x27;skobject&#x27;: TabularToSeriesAdaptor(transformer=StandardScaler())},\n                                                   {&#x27;edges&#x27;: {&#x27;X&#x27;: &#x27;X__realgdp_realdpi&#x27;},\n                                                    &#x27;kwa...\n                                    &#x27;forecaster_inflation__edges__X&#x27;: [[&#x27;forecaster_unemp&#x27;],\n                                                                       [&#x27;forecaster_unemp&#x27;,\n                                                                        &#x27;forecaster_dpi&#x27;]],\n                                    &#x27;forecaster_inflation__skobject__selected_forecaster&#x27;: [&#x27;ridge&#x27;,\n                                                                                            &#x27;lasso&#x27;],\n                                    &#x27;forecaster_unemp__edges__X&#x27;: [[],\n                                                                   [&#x27;forecaster_dpi&#x27;],\n                                                                   [&#x27;forecaster_gdp&#x27;,\n                                                                    &#x27;forecaster_dpi&#x27;]],\n                                    &#x27;forecaster_unemp__skobject__selected_forecaster&#x27;: [&#x27;ridge&#x27;,\n                                                                                        &#x27;lasso&#x27;]},\n                        scoring=&lt;function mean_absolute_error at 0x00000254DB71EC10&gt;)</pre></div></div></div><div class=\"sk-parallel\"><div class=\"sk-parallel-item\"><div class=\"sk-item\"><div class=\"sk-serial\"><div class='sk-item'><div class=\"sk-estimator sk-toggleable\"><input class=\"sk-toggleable__control sk-hidden--visually\" id=UUID('af6f44ff-dd27-4dc6-a1e4-67af04100022') type=\"checkbox\" ><label for=UUID('af6f44ff-dd27-4dc6-a1e4-67af04100022') class='sk-toggleable__label sk-toggleable__label-arrow'>SlidingWindowSplitter</label><div class=\"sk-toggleable__content\"><pre>SlidingWindowSplitter(fh=[1, 2, 3, 4, 5, 6, 7, 8, 9, 10, 11, 12], step_length=4,\n                      window_length=171)</pre></div></div></div></div></div></div><div class=\"sk-parallel-item\"><div class=\"sk-item\"><div class=\"sk-serial\"><div class='sk-item'><div class=\"sk-estimator sk-toggleable\"><input class=\"sk-toggleable__control sk-hidden--visually\" id=UUID('2078596b-2ee3-4283-8ede-82741f5df873') type=\"checkbox\" ><label for=UUID('2078596b-2ee3-4283-8ede-82741f5df873') class='sk-toggleable__label sk-toggleable__label-arrow'>Pipeline</label><div class=\"sk-toggleable__content\"><pre>Pipeline(steps=[{&#x27;edges&#x27;: {&#x27;X&#x27;: &#x27;X__realgdp_realdpi_unemp&#x27;}, &#x27;kwargs&#x27;: {},\n                 &#x27;method&#x27;: None, &#x27;name&#x27;: &#x27;scaler&#x27;,\n                 &#x27;skobject&#x27;: TabularToSeriesAdaptor(transformer=StandardScaler())},\n                {&#x27;edges&#x27;: {&#x27;X&#x27;: &#x27;X__realgdp_realdpi&#x27;}, &#x27;kwargs&#x27;: {},\n                 &#x27;method&#x27;: None, &#x27;name&#x27;: &#x27;deseasonalizer&#x27;,\n                 &#x27;skobject&#x27;: Detrender()},\n                {&#x27;edges&#x27;: {&#x27;y&#x27;: &#x27;deseasonalizer__realgdp&#x27;}, &#x27;kwargs&#x27;: {},\n                 &#x27;method&#x27;: None, &#x27;name&#x27;: &#x27;...\n                                                 selected_forecaster=&#x27;ridge&#x27;)},\n                {&#x27;edges&#x27;: {&#x27;X&#x27;: [&#x27;forecaster_unemp&#x27;], &#x27;y&#x27;: &#x27;y&#x27;}, &#x27;kwargs&#x27;: {},\n                 &#x27;method&#x27;: None, &#x27;name&#x27;: &#x27;forecaster_inflation&#x27;,\n                 &#x27;skobject&#x27;: MultiplexForecaster(forecasters=[(&#x27;ridge&#x27;,\n                                                               RecursiveTabularRegressionForecaster(estimator=Ridge(),\n                                                                                                    window_length=5)),\n                                                              (&#x27;lasso&#x27;,\n                                                               RecursiveTabularRegressionForecaster(estimator=Lasso(),\n                                                                                                    window_length=5))],\n                                                 selected_forecaster=&#x27;ridge&#x27;)}])</pre></div></div></div></div></div></div></div></div></div></div>"
     },
     "execution_count": 13,
     "metadata": {},
     "output_type": "execute_result"
    }
   ],
   "source": [
    "gridcv.fit(y=y_train, X=X_train)"
   ],
   "metadata": {
    "collapsed": false
   }
  },
  {
   "cell_type": "code",
   "execution_count": 14,
   "outputs": [
    {
     "data": {
      "text/plain": "    mean_test__DynamicForecastingErrorMetric  mean_fit_time  mean_pred_time  \\\n0                                   1.539329       0.098928        0.045676   \n1                                   1.720565       0.078510        0.041738   \n2                                   1.311031       0.150897        0.075369   \n3                                   3.116475       0.178225        0.083630   \n4                                   1.851588       0.103475        0.047466   \n..                                       ...            ...             ...   \n91                                  1.443361       0.157408        0.077803   \n92                                  1.443361       0.169744        0.088619   \n93                                  1.443361       0.167966        0.083686   \n94                                  1.443361       0.191664        0.102800   \n95                                  1.443361       0.213009        0.104990   \n\n                                               params  \\\n0   {'forecaster_dpi__skobject__selected_forecaste...   \n1   {'forecaster_dpi__skobject__selected_forecaste...   \n2   {'forecaster_dpi__skobject__selected_forecaste...   \n3   {'forecaster_dpi__skobject__selected_forecaste...   \n4   {'forecaster_dpi__skobject__selected_forecaste...   \n..                                                ...   \n91  {'forecaster_dpi__skobject__selected_forecaste...   \n92  {'forecaster_dpi__skobject__selected_forecaste...   \n93  {'forecaster_dpi__skobject__selected_forecaste...   \n94  {'forecaster_dpi__skobject__selected_forecaste...   \n95  {'forecaster_dpi__skobject__selected_forecaste...   \n\n    rank_test__DynamicForecastingErrorMetric  \n0                                       54.5  \n1                                       58.5  \n2                                        1.5  \n3                                       95.5  \n4                                       65.0  \n..                                       ...  \n91                                      46.5  \n92                                      46.5  \n93                                      46.5  \n94                                      46.5  \n95                                      46.5  \n\n[96 rows x 5 columns]",
      "text/html": "<div>\n<style scoped>\n    .dataframe tbody tr th:only-of-type {\n        vertical-align: middle;\n    }\n\n    .dataframe tbody tr th {\n        vertical-align: top;\n    }\n\n    .dataframe thead th {\n        text-align: right;\n    }\n</style>\n<table border=\"1\" class=\"dataframe\">\n  <thead>\n    <tr style=\"text-align: right;\">\n      <th></th>\n      <th>mean_test__DynamicForecastingErrorMetric</th>\n      <th>mean_fit_time</th>\n      <th>mean_pred_time</th>\n      <th>params</th>\n      <th>rank_test__DynamicForecastingErrorMetric</th>\n    </tr>\n  </thead>\n  <tbody>\n    <tr>\n      <th>0</th>\n      <td>1.539329</td>\n      <td>0.098928</td>\n      <td>0.045676</td>\n      <td>{'forecaster_dpi__skobject__selected_forecaste...</td>\n      <td>54.5</td>\n    </tr>\n    <tr>\n      <th>1</th>\n      <td>1.720565</td>\n      <td>0.078510</td>\n      <td>0.041738</td>\n      <td>{'forecaster_dpi__skobject__selected_forecaste...</td>\n      <td>58.5</td>\n    </tr>\n    <tr>\n      <th>2</th>\n      <td>1.311031</td>\n      <td>0.150897</td>\n      <td>0.075369</td>\n      <td>{'forecaster_dpi__skobject__selected_forecaste...</td>\n      <td>1.5</td>\n    </tr>\n    <tr>\n      <th>3</th>\n      <td>3.116475</td>\n      <td>0.178225</td>\n      <td>0.083630</td>\n      <td>{'forecaster_dpi__skobject__selected_forecaste...</td>\n      <td>95.5</td>\n    </tr>\n    <tr>\n      <th>4</th>\n      <td>1.851588</td>\n      <td>0.103475</td>\n      <td>0.047466</td>\n      <td>{'forecaster_dpi__skobject__selected_forecaste...</td>\n      <td>65.0</td>\n    </tr>\n    <tr>\n      <th>...</th>\n      <td>...</td>\n      <td>...</td>\n      <td>...</td>\n      <td>...</td>\n      <td>...</td>\n    </tr>\n    <tr>\n      <th>91</th>\n      <td>1.443361</td>\n      <td>0.157408</td>\n      <td>0.077803</td>\n      <td>{'forecaster_dpi__skobject__selected_forecaste...</td>\n      <td>46.5</td>\n    </tr>\n    <tr>\n      <th>92</th>\n      <td>1.443361</td>\n      <td>0.169744</td>\n      <td>0.088619</td>\n      <td>{'forecaster_dpi__skobject__selected_forecaste...</td>\n      <td>46.5</td>\n    </tr>\n    <tr>\n      <th>93</th>\n      <td>1.443361</td>\n      <td>0.167966</td>\n      <td>0.083686</td>\n      <td>{'forecaster_dpi__skobject__selected_forecaste...</td>\n      <td>46.5</td>\n    </tr>\n    <tr>\n      <th>94</th>\n      <td>1.443361</td>\n      <td>0.191664</td>\n      <td>0.102800</td>\n      <td>{'forecaster_dpi__skobject__selected_forecaste...</td>\n      <td>46.5</td>\n    </tr>\n    <tr>\n      <th>95</th>\n      <td>1.443361</td>\n      <td>0.213009</td>\n      <td>0.104990</td>\n      <td>{'forecaster_dpi__skobject__selected_forecaste...</td>\n      <td>46.5</td>\n    </tr>\n  </tbody>\n</table>\n<p>96 rows × 5 columns</p>\n</div>"
     },
     "execution_count": 14,
     "metadata": {},
     "output_type": "execute_result"
    }
   ],
   "source": [
    "gridcv.cv_results_"
   ],
   "metadata": {
    "collapsed": false
   }
  },
  {
   "cell_type": "code",
   "execution_count": 15,
   "outputs": [
    {
     "data": {
      "text/plain": "infl    19.244087\ndtype: float64"
     },
     "execution_count": 15,
     "metadata": {},
     "output_type": "execute_result"
    }
   ],
   "source": [
    "result = gridcv.predict(X=None, fh=y_test.index)\n",
    "((result - y_test) ** 2).mean()"
   ],
   "metadata": {
    "collapsed": false
   }
  },
  {
   "cell_type": "code",
   "execution_count": 16,
   "outputs": [
    {
     "data": {
      "text/plain": "{'forecaster_dpi__skobject__selected_forecaster': 'ridge',\n 'forecaster_gdp__skobject__selected_forecaster': 'ridge',\n 'forecaster_inflation__edges__X': ['forecaster_unemp'],\n 'forecaster_inflation__skobject__selected_forecaster': 'ridge',\n 'forecaster_unemp__edges__X': ['forecaster_dpi'],\n 'forecaster_unemp__skobject__selected_forecaster': 'ridge'}"
     },
     "execution_count": 16,
     "metadata": {},
     "output_type": "execute_result"
    }
   ],
   "source": [
    "gridcv.best_params_"
   ],
   "metadata": {
    "collapsed": false
   }
  },
  {
   "cell_type": "code",
   "execution_count": 17,
   "outputs": [
    {
     "data": {
      "text/plain": "1.3110312019415922"
     },
     "execution_count": 17,
     "metadata": {},
     "output_type": "execute_result"
    }
   ],
   "source": [
    "gridcv.best_score_"
   ],
   "metadata": {
    "collapsed": false
   }
  },
  {
   "cell_type": "markdown",
   "source": [
    "### How to implement the pipeline above by nesting sequential pipelines\n"
   ],
   "metadata": {
    "collapsed": false
   }
  },
  {
   "cell_type": "code",
   "execution_count": 18,
   "outputs": [],
   "source": [
    "data = load_macroeconomic()\n",
    "\n",
    "X = data[[\"realgdp\", \"realdpi\", \"unemp\"]]\n",
    "y = data[[\"infl\"]]\n",
    "fh = ForecastingHorizon([1, 2, 3, 4, 5, 6, 7, 8, 9, 10, 11, 12])\n",
    "\n",
    "y_train, y_test, X_train, X_test = temporal_train_test_split(y, X=X, fh=fh)\n",
    "\n",
    "forecasting_pipeline_gdp = (\n",
    "    ColumnSelect([\"realgdp\"])\n",
    "    * Deseasonalizer()\n",
    "    * MultiplexForecaster(\n",
    "        [\n",
    "            (\n",
    "                \"ridge\",\n",
    "                make_reduction(Ridge(), windows_identical=False, window_length=5),\n",
    "            ),\n",
    "            (\n",
    "                \"lasso\",\n",
    "                make_reduction(Lasso(), windows_identical=False, window_length=5),\n",
    "            ),\n",
    "        ]\n",
    "    )\n",
    ")\n",
    "forecasting_pipeline_dpi = (\n",
    "    ColumnSelect([\"realdpi\"])\n",
    "    * Deseasonalizer()\n",
    "    * MultiplexForecaster(\n",
    "        [\n",
    "            (\n",
    "                \"ridge\",\n",
    "                make_reduction(Ridge(), windows_identical=False, window_length=5),\n",
    "            ),\n",
    "            (\n",
    "                \"lasso\",\n",
    "                make_reduction(Lasso(), windows_identical=False, window_length=5),\n",
    "            ),\n",
    "        ]\n",
    "    )\n",
    ")\n",
    "\n",
    "transform_unemp = ColumnSelect([\"unemp\"]) * TabularToSeriesAdaptor(StandardScaler())\n",
    "\n",
    "input_unemp_forecast = ColumnSelect([\"realgdp\", \"realdpi\"]) * ColumnEnsembleForecaster(\n",
    "    [\n",
    "        (\"realgdp\", forecasting_pipeline_gdp, \"realgdp\"),\n",
    "        (\"realdpi\", forecasting_pipeline_dpi, \"realdpi\"),\n",
    "    ]\n",
    ")\n",
    "\n",
    "unemp_forecastt = transform_unemp * ForecastX(\n",
    "    MultiplexForecaster(\n",
    "        [\n",
    "            (\n",
    "                \"ridge\",\n",
    "                make_reduction(Ridge(), windows_identical=False, window_length=5),\n",
    "            ),\n",
    "            (\n",
    "                \"lasso\",\n",
    "                make_reduction(Lasso(), windows_identical=False, window_length=5),\n",
    "            ),\n",
    "        ]\n",
    "    ),\n",
    "    input_unemp_forecast,\n",
    ")\n",
    "\n",
    "input_inflation_forecast = ColumnSelect(\n",
    "    [\"realdpi\", \"unemp\"]\n",
    ") * ColumnEnsembleForecaster(\n",
    "    [\n",
    "        (\"realdpi\", forecasting_pipeline_dpi, \"realdpi\"),\n",
    "        (\"unemp\", unemp_forecastt, \"unemp\"),\n",
    "    ]\n",
    ")\n",
    "inflation_forecast = ForecastX(\n",
    "    MultiplexForecaster(\n",
    "        [\n",
    "            (\n",
    "                \"ridge\",\n",
    "                make_reduction(Ridge(), windows_identical=False, window_length=5),\n",
    "            ),\n",
    "            (\n",
    "                \"lasso\",\n",
    "                make_reduction(Lasso(), windows_identical=False, window_length=5),\n",
    "            ),\n",
    "        ]\n",
    "    ),\n",
    "    input_inflation_forecast,\n",
    ")"
   ],
   "metadata": {
    "collapsed": false
   }
  },
  {
   "cell_type": "code",
   "execution_count": 19,
   "outputs": [
    {
     "data": {
      "text/plain": "ForecastX(forecaster_X=TransformedTargetForecaster(steps=[ColumnSelect(columns=['realdpi',\n                                                                                'unemp']),\n                                                          ColumnEnsembleForecaster(forecasters=[('realdpi',\n                                                                                                 TransformedTargetForecaster(steps=[Deseasonalizer(),\n                                                                                                                                    MultiplexForecaster(forecasters=[('ridge',\n                                                                                                                                                                      RecursiveTabularRegressionForecaster(estimator=Ridge(),\n                                                                                                                                                                                                           window_length=5)),\n                                                                                                                                                                     ('lasso',\n                                                                                                                                                                      RecursiveTabularRegressio...\n                                                                                                                                                                                             RecursiveTabularRegressionForecaster(estimator=Ridge(),\n                                                                                                                                                                                                                                  window_length=5)),\n                                                                                                                                                                                            ('lasso',\n                                                                                                                                                                                             RecursiveTabularRegressionForecaster(estimator=Lasso(),\n                                                                                                                                                                                                                                  window_length=5))]))]),\n                                                                                                 'unemp')])]),\n          forecaster_y=MultiplexForecaster(forecasters=[('ridge',\n                                                         RecursiveTabularRegressionForecaster(estimator=Ridge(),\n                                                                                              window_length=5)),\n                                                        ('lasso',\n                                                         RecursiveTabularRegressionForecaster(estimator=Lasso(),\n                                                                                              window_length=5))]))",
      "text/html": "<style>#sk-e20b3d51-ce5a-4958-9c0c-d34bdb139ddf {color: black;background-color: white;}#sk-e20b3d51-ce5a-4958-9c0c-d34bdb139ddf pre{padding: 0;}#sk-e20b3d51-ce5a-4958-9c0c-d34bdb139ddf div.sk-toggleable {background-color: white;}#sk-e20b3d51-ce5a-4958-9c0c-d34bdb139ddf label.sk-toggleable__label {cursor: pointer;display: block;width: 100%;margin-bottom: 0;padding: 0.3em;box-sizing: border-box;text-align: center;}#sk-e20b3d51-ce5a-4958-9c0c-d34bdb139ddf label.sk-toggleable__label-arrow:before {content: \"▸\";float: left;margin-right: 0.25em;color: #696969;}#sk-e20b3d51-ce5a-4958-9c0c-d34bdb139ddf label.sk-toggleable__label-arrow:hover:before {color: black;}#sk-e20b3d51-ce5a-4958-9c0c-d34bdb139ddf div.sk-estimator:hover label.sk-toggleable__label-arrow:before {color: black;}#sk-e20b3d51-ce5a-4958-9c0c-d34bdb139ddf div.sk-toggleable__content {max-height: 0;max-width: 0;overflow: hidden;text-align: left;background-color: #f0f8ff;}#sk-e20b3d51-ce5a-4958-9c0c-d34bdb139ddf div.sk-toggleable__content pre {margin: 0.2em;color: black;border-radius: 0.25em;background-color: #f0f8ff;}#sk-e20b3d51-ce5a-4958-9c0c-d34bdb139ddf input.sk-toggleable__control:checked~div.sk-toggleable__content {max-height: 200px;max-width: 100%;overflow: auto;}#sk-e20b3d51-ce5a-4958-9c0c-d34bdb139ddf input.sk-toggleable__control:checked~label.sk-toggleable__label-arrow:before {content: \"▾\";}#sk-e20b3d51-ce5a-4958-9c0c-d34bdb139ddf div.sk-estimator input.sk-toggleable__control:checked~label.sk-toggleable__label {background-color: #d4ebff;}#sk-e20b3d51-ce5a-4958-9c0c-d34bdb139ddf div.sk-label input.sk-toggleable__control:checked~label.sk-toggleable__label {background-color: #d4ebff;}#sk-e20b3d51-ce5a-4958-9c0c-d34bdb139ddf input.sk-hidden--visually {border: 0;clip: rect(1px 1px 1px 1px);clip: rect(1px, 1px, 1px, 1px);height: 1px;margin: -1px;overflow: hidden;padding: 0;position: absolute;width: 1px;}#sk-e20b3d51-ce5a-4958-9c0c-d34bdb139ddf div.sk-estimator {font-family: monospace;background-color: #f0f8ff;border: 1px dotted black;border-radius: 0.25em;box-sizing: border-box;margin-bottom: 0.5em;}#sk-e20b3d51-ce5a-4958-9c0c-d34bdb139ddf div.sk-estimator:hover {background-color: #d4ebff;}#sk-e20b3d51-ce5a-4958-9c0c-d34bdb139ddf div.sk-parallel-item::after {content: \"\";width: 100%;border-bottom: 1px solid gray;flex-grow: 1;}#sk-e20b3d51-ce5a-4958-9c0c-d34bdb139ddf div.sk-label:hover label.sk-toggleable__label {background-color: #d4ebff;}#sk-e20b3d51-ce5a-4958-9c0c-d34bdb139ddf div.sk-serial::before {content: \"\";position: absolute;border-left: 1px solid gray;box-sizing: border-box;top: 2em;bottom: 0;left: 50%;}#sk-e20b3d51-ce5a-4958-9c0c-d34bdb139ddf div.sk-serial {display: flex;flex-direction: column;align-items: center;background-color: white;padding-right: 0.2em;padding-left: 0.2em;}#sk-e20b3d51-ce5a-4958-9c0c-d34bdb139ddf div.sk-item {z-index: 1;}#sk-e20b3d51-ce5a-4958-9c0c-d34bdb139ddf div.sk-parallel {display: flex;align-items: stretch;justify-content: center;background-color: white;}#sk-e20b3d51-ce5a-4958-9c0c-d34bdb139ddf div.sk-parallel::before {content: \"\";position: absolute;border-left: 1px solid gray;box-sizing: border-box;top: 2em;bottom: 0;left: 50%;}#sk-e20b3d51-ce5a-4958-9c0c-d34bdb139ddf div.sk-parallel-item {display: flex;flex-direction: column;position: relative;background-color: white;}#sk-e20b3d51-ce5a-4958-9c0c-d34bdb139ddf div.sk-parallel-item:first-child::after {align-self: flex-end;width: 50%;}#sk-e20b3d51-ce5a-4958-9c0c-d34bdb139ddf div.sk-parallel-item:last-child::after {align-self: flex-start;width: 50%;}#sk-e20b3d51-ce5a-4958-9c0c-d34bdb139ddf div.sk-parallel-item:only-child::after {width: 0;}#sk-e20b3d51-ce5a-4958-9c0c-d34bdb139ddf div.sk-dashed-wrapped {border: 1px dashed gray;margin: 0 0.4em 0.5em 0.4em;box-sizing: border-box;padding-bottom: 0.4em;background-color: white;position: relative;}#sk-e20b3d51-ce5a-4958-9c0c-d34bdb139ddf div.sk-label label {font-family: monospace;font-weight: bold;background-color: white;display: inline-block;line-height: 1.2em;}#sk-e20b3d51-ce5a-4958-9c0c-d34bdb139ddf div.sk-label-container {position: relative;z-index: 2;text-align: center;}#sk-e20b3d51-ce5a-4958-9c0c-d34bdb139ddf div.sk-container {/* jupyter's `normalize.less` sets `[hidden] { display: none; }` but bootstrap.min.css set `[hidden] { display: none !important; }` so we also need the `!important` here to be able to override the default hidden behavior on the sphinx rendered scikit-learn.org. See: https://github.com/scikit-learn/scikit-learn/issues/21755 */display: inline-block !important;position: relative;}#sk-e20b3d51-ce5a-4958-9c0c-d34bdb139ddf div.sk-text-repr-fallback {display: none;}</style><div id='sk-e20b3d51-ce5a-4958-9c0c-d34bdb139ddf' class=\"sk-top-container\"><div class=\"sk-text-repr-fallback\"><pre>ForecastX(forecaster_X=TransformedTargetForecaster(steps=[ColumnSelect(columns=[&#x27;realdpi&#x27;,\n                                                                                &#x27;unemp&#x27;]),\n                                                          ColumnEnsembleForecaster(forecasters=[(&#x27;realdpi&#x27;,\n                                                                                                 TransformedTargetForecaster(steps=[Deseasonalizer(),\n                                                                                                                                    MultiplexForecaster(forecasters=[(&#x27;ridge&#x27;,\n                                                                                                                                                                      RecursiveTabularRegressionForecaster(estimator=Ridge(),\n                                                                                                                                                                                                           window_length=5)),\n                                                                                                                                                                     (&#x27;lasso&#x27;,\n                                                                                                                                                                      RecursiveTabularRegressio...\n                                                                                                                                                                                             RecursiveTabularRegressionForecaster(estimator=Ridge(),\n                                                                                                                                                                                                                                  window_length=5)),\n                                                                                                                                                                                            (&#x27;lasso&#x27;,\n                                                                                                                                                                                             RecursiveTabularRegressionForecaster(estimator=Lasso(),\n                                                                                                                                                                                                                                  window_length=5))]))]),\n                                                                                                 &#x27;unemp&#x27;)])]),\n          forecaster_y=MultiplexForecaster(forecasters=[(&#x27;ridge&#x27;,\n                                                         RecursiveTabularRegressionForecaster(estimator=Ridge(),\n                                                                                              window_length=5)),\n                                                        (&#x27;lasso&#x27;,\n                                                         RecursiveTabularRegressionForecaster(estimator=Lasso(),\n                                                                                              window_length=5))]))</pre><b>Please rerun this cell to show the HTML repr or trust the notebook.</b></div><div class=\"sk-container\" hidden><div class=\"sk-item sk-dashed-wrapped\"><div class='sk-label-container'><div class=\"sk-label sk-toggleable\"><input class=\"sk-toggleable__control sk-hidden--visually\" id=UUID('5aec4496-33a6-400a-98a9-995b8d8203e4') type=\"checkbox\" ><label for=UUID('5aec4496-33a6-400a-98a9-995b8d8203e4') class='sk-toggleable__label sk-toggleable__label-arrow'>ForecastX</label><div class=\"sk-toggleable__content\"><pre>ForecastX(forecaster_X=TransformedTargetForecaster(steps=[ColumnSelect(columns=[&#x27;realdpi&#x27;,\n                                                                                &#x27;unemp&#x27;]),\n                                                          ColumnEnsembleForecaster(forecasters=[(&#x27;realdpi&#x27;,\n                                                                                                 TransformedTargetForecaster(steps=[Deseasonalizer(),\n                                                                                                                                    MultiplexForecaster(forecasters=[(&#x27;ridge&#x27;,\n                                                                                                                                                                      RecursiveTabularRegressionForecaster(estimator=Ridge(),\n                                                                                                                                                                                                           window_length=5)),\n                                                                                                                                                                     (&#x27;lasso&#x27;,\n                                                                                                                                                                      RecursiveTabularRegressio...\n                                                                                                                                                                                             RecursiveTabularRegressionForecaster(estimator=Ridge(),\n                                                                                                                                                                                                                                  window_length=5)),\n                                                                                                                                                                                            (&#x27;lasso&#x27;,\n                                                                                                                                                                                             RecursiveTabularRegressionForecaster(estimator=Lasso(),\n                                                                                                                                                                                                                                  window_length=5))]))]),\n                                                                                                 &#x27;unemp&#x27;)])]),\n          forecaster_y=MultiplexForecaster(forecasters=[(&#x27;ridge&#x27;,\n                                                         RecursiveTabularRegressionForecaster(estimator=Ridge(),\n                                                                                              window_length=5)),\n                                                        (&#x27;lasso&#x27;,\n                                                         RecursiveTabularRegressionForecaster(estimator=Lasso(),\n                                                                                              window_length=5))]))</pre></div></div></div><div class=\"sk-parallel\"><div class=\"sk-parallel-item\"><div class=\"sk-item\"><div class=\"sk-serial\"><div class=\"sk-item sk-dashed-wrapped\"><div class=\"sk-parallel\"><div class=\"sk-parallel-item\"><div class=\"sk-item\"><div class=\"sk-serial\"><div class='sk-item'><div class=\"sk-estimator sk-toggleable\"><input class=\"sk-toggleable__control sk-hidden--visually\" id=UUID('1a85c8be-f68a-4ad3-a61a-2d7e080f02bb') type=\"checkbox\" ><label for=UUID('1a85c8be-f68a-4ad3-a61a-2d7e080f02bb') class='sk-toggleable__label sk-toggleable__label-arrow'>ColumnSelect</label><div class=\"sk-toggleable__content\"><pre>ColumnSelect(columns=[&#x27;realdpi&#x27;, &#x27;unemp&#x27;])</pre></div></div></div></div></div></div><div class=\"sk-parallel-item\"><div class=\"sk-item\"><div class=\"sk-serial\"><div class=\"sk-item sk-dashed-wrapped\"><div class=\"sk-parallel\"><div class=\"sk-parallel-item\"><div class=\"sk-item\"><div class=\"sk-serial\"><div class=\"sk-item sk-dashed-wrapped\"><div class=\"sk-parallel\"><div class=\"sk-parallel-item\"><div class=\"sk-item\"><div class=\"sk-serial\"><div class='sk-item'><div class=\"sk-estimator sk-toggleable\"><input class=\"sk-toggleable__control sk-hidden--visually\" id=UUID('24f8b0bf-9751-4b81-b272-91b62c704a96') type=\"checkbox\" ><label for=UUID('24f8b0bf-9751-4b81-b272-91b62c704a96') class='sk-toggleable__label sk-toggleable__label-arrow'>Deseasonalizer</label><div class=\"sk-toggleable__content\"><pre>Deseasonalizer()</pre></div></div></div></div></div></div><div class=\"sk-parallel-item\"><div class=\"sk-item\"><div class=\"sk-serial\"><div class=\"sk-item sk-dashed-wrapped\"><div class=\"sk-parallel\"><div class=\"sk-parallel-item\"><div class=\"sk-item\"><div class=\"sk-serial\"><div class=\"sk-item sk-dashed-wrapped\"><div class=\"sk-parallel\"><div class=\"sk-parallel-item\"><div class=\"sk-item\"><div class=\"sk-serial\"><div class='sk-item'><div class=\"sk-estimator sk-toggleable\"><input class=\"sk-toggleable__control sk-hidden--visually\" id=UUID('dab4b83d-5835-4710-9651-6d48da3eeb7b') type=\"checkbox\" ><label for=UUID('dab4b83d-5835-4710-9651-6d48da3eeb7b') class='sk-toggleable__label sk-toggleable__label-arrow'>Ridge</label><div class=\"sk-toggleable__content\"><pre>Ridge()</pre></div></div></div></div></div></div></div></div></div></div></div><div class=\"sk-parallel-item\"><div class=\"sk-item\"><div class=\"sk-serial\"><div class=\"sk-item sk-dashed-wrapped\"><div class=\"sk-parallel\"><div class=\"sk-parallel-item\"><div class=\"sk-item\"><div class=\"sk-serial\"><div class='sk-item'><div class=\"sk-estimator sk-toggleable\"><input class=\"sk-toggleable__control sk-hidden--visually\" id=UUID('ed223866-92be-4375-ac98-65420afeda4c') type=\"checkbox\" ><label for=UUID('ed223866-92be-4375-ac98-65420afeda4c') class='sk-toggleable__label sk-toggleable__label-arrow'>Lasso</label><div class=\"sk-toggleable__content\"><pre>Lasso()</pre></div></div></div></div></div></div></div></div></div></div></div></div></div></div></div></div></div></div></div></div></div><div class=\"sk-parallel-item\"><div class=\"sk-item\"><div class=\"sk-serial\"><div class=\"sk-item sk-dashed-wrapped\"><div class=\"sk-parallel\"><div class=\"sk-parallel-item\"><div class=\"sk-item\"><div class=\"sk-serial\"><div class=\"sk-item sk-dashed-wrapped\"><div class=\"sk-parallel\"><div class=\"sk-parallel-item\"><div class=\"sk-item\"><div class=\"sk-serial\"><div class='sk-item'><div class=\"sk-estimator sk-toggleable\"><input class=\"sk-toggleable__control sk-hidden--visually\" id=UUID('5d574cbe-a346-454e-8cac-289bc92ec06f') type=\"checkbox\" ><label for=UUID('5d574cbe-a346-454e-8cac-289bc92ec06f') class='sk-toggleable__label sk-toggleable__label-arrow'>StandardScaler</label><div class=\"sk-toggleable__content\"><pre>StandardScaler()</pre></div></div></div></div></div></div></div></div></div></div></div><div class=\"sk-parallel-item\"><div class=\"sk-item\"><div class=\"sk-serial\"><div class=\"sk-item sk-dashed-wrapped\"><div class=\"sk-parallel\"><div class=\"sk-parallel-item\"><div class=\"sk-item\"><div class=\"sk-serial\"><div class=\"sk-item sk-dashed-wrapped\"><div class=\"sk-parallel\"><div class=\"sk-parallel-item\"><div class=\"sk-item\"><div class=\"sk-serial\"><div class='sk-item'><div class=\"sk-estimator sk-toggleable\"><input class=\"sk-toggleable__control sk-hidden--visually\" id=UUID('3e7add85-f176-454d-8040-4d234ced919c') type=\"checkbox\" ><label for=UUID('3e7add85-f176-454d-8040-4d234ced919c') class='sk-toggleable__label sk-toggleable__label-arrow'>ColumnSelect</label><div class=\"sk-toggleable__content\"><pre>ColumnSelect(columns=[&#x27;realgdp&#x27;, &#x27;realdpi&#x27;])</pre></div></div></div></div></div></div><div class=\"sk-parallel-item\"><div class=\"sk-item\"><div class=\"sk-serial\"><div class=\"sk-item sk-dashed-wrapped\"><div class=\"sk-parallel\"><div class=\"sk-parallel-item\"><div class=\"sk-item\"><div class=\"sk-serial\"><div class=\"sk-item sk-dashed-wrapped\"><div class=\"sk-parallel\"><div class=\"sk-parallel-item\"><div class=\"sk-item\"><div class=\"sk-serial\"><div class='sk-item'><div class=\"sk-estimator sk-toggleable\"><input class=\"sk-toggleable__control sk-hidden--visually\" id=UUID('b2fbb2f2-8e53-4097-b447-a04550a21830') type=\"checkbox\" ><label for=UUID('b2fbb2f2-8e53-4097-b447-a04550a21830') class='sk-toggleable__label sk-toggleable__label-arrow'>Deseasonalizer</label><div class=\"sk-toggleable__content\"><pre>Deseasonalizer()</pre></div></div></div></div></div></div><div class=\"sk-parallel-item\"><div class=\"sk-item\"><div class=\"sk-serial\"><div class=\"sk-item sk-dashed-wrapped\"><div class=\"sk-parallel\"><div class=\"sk-parallel-item\"><div class=\"sk-item\"><div class=\"sk-serial\"><div class=\"sk-item sk-dashed-wrapped\"><div class=\"sk-parallel\"><div class=\"sk-parallel-item\"><div class=\"sk-item\"><div class=\"sk-serial\"><div class='sk-item'><div class=\"sk-estimator sk-toggleable\"><input class=\"sk-toggleable__control sk-hidden--visually\" id=UUID('5b78b70a-79d3-4015-8e77-0a43289d51b9') type=\"checkbox\" ><label for=UUID('5b78b70a-79d3-4015-8e77-0a43289d51b9') class='sk-toggleable__label sk-toggleable__label-arrow'>Ridge</label><div class=\"sk-toggleable__content\"><pre>Ridge()</pre></div></div></div></div></div></div></div></div></div></div></div><div class=\"sk-parallel-item\"><div class=\"sk-item\"><div class=\"sk-serial\"><div class=\"sk-item sk-dashed-wrapped\"><div class=\"sk-parallel\"><div class=\"sk-parallel-item\"><div class=\"sk-item\"><div class=\"sk-serial\"><div class='sk-item'><div class=\"sk-estimator sk-toggleable\"><input class=\"sk-toggleable__control sk-hidden--visually\" id=UUID('785c4c21-6b69-46b4-9c1c-f68e0b9706dd') type=\"checkbox\" ><label for=UUID('785c4c21-6b69-46b4-9c1c-f68e0b9706dd') class='sk-toggleable__label sk-toggleable__label-arrow'>Lasso</label><div class=\"sk-toggleable__content\"><pre>Lasso()</pre></div></div></div></div></div></div></div></div></div></div></div></div></div></div></div></div></div></div></div></div></div><div class=\"sk-parallel-item\"><div class=\"sk-item\"><div class=\"sk-serial\"><div class=\"sk-item sk-dashed-wrapped\"><div class=\"sk-parallel\"><div class=\"sk-parallel-item\"><div class=\"sk-item\"><div class=\"sk-serial\"><div class='sk-item'><div class=\"sk-estimator sk-toggleable\"><input class=\"sk-toggleable__control sk-hidden--visually\" id=UUID('d5495b1f-59c1-4c13-94fe-b95e24571a28') type=\"checkbox\" ><label for=UUID('d5495b1f-59c1-4c13-94fe-b95e24571a28') class='sk-toggleable__label sk-toggleable__label-arrow'>Deseasonalizer</label><div class=\"sk-toggleable__content\"><pre>Deseasonalizer()</pre></div></div></div></div></div></div><div class=\"sk-parallel-item\"><div class=\"sk-item\"><div class=\"sk-serial\"><div class=\"sk-item sk-dashed-wrapped\"><div class=\"sk-parallel\"><div class=\"sk-parallel-item\"><div class=\"sk-item\"><div class=\"sk-serial\"><div class=\"sk-item sk-dashed-wrapped\"><div class=\"sk-parallel\"><div class=\"sk-parallel-item\"><div class=\"sk-item\"><div class=\"sk-serial\"><div class='sk-item'><div class=\"sk-estimator sk-toggleable\"><input class=\"sk-toggleable__control sk-hidden--visually\" id=UUID('0c64808d-fb03-4b83-b7aa-b180e78bfaaa') type=\"checkbox\" ><label for=UUID('0c64808d-fb03-4b83-b7aa-b180e78bfaaa') class='sk-toggleable__label sk-toggleable__label-arrow'>Ridge</label><div class=\"sk-toggleable__content\"><pre>Ridge()</pre></div></div></div></div></div></div></div></div></div></div></div><div class=\"sk-parallel-item\"><div class=\"sk-item\"><div class=\"sk-serial\"><div class=\"sk-item sk-dashed-wrapped\"><div class=\"sk-parallel\"><div class=\"sk-parallel-item\"><div class=\"sk-item\"><div class=\"sk-serial\"><div class='sk-item'><div class=\"sk-estimator sk-toggleable\"><input class=\"sk-toggleable__control sk-hidden--visually\" id=UUID('1a1fba44-6cf9-4a0d-b853-a4f15aeb9316') type=\"checkbox\" ><label for=UUID('1a1fba44-6cf9-4a0d-b853-a4f15aeb9316') class='sk-toggleable__label sk-toggleable__label-arrow'>Lasso</label><div class=\"sk-toggleable__content\"><pre>Lasso()</pre></div></div></div></div></div></div></div></div></div></div></div></div></div></div></div></div></div></div></div></div></div></div></div></div></div></div></div></div></div></div></div><div class=\"sk-parallel-item\"><div class=\"sk-item\"><div class=\"sk-serial\"><div class=\"sk-item sk-dashed-wrapped\"><div class=\"sk-parallel\"><div class=\"sk-parallel-item\"><div class=\"sk-item\"><div class=\"sk-serial\"><div class=\"sk-item sk-dashed-wrapped\"><div class=\"sk-parallel\"><div class=\"sk-parallel-item\"><div class=\"sk-item\"><div class=\"sk-serial\"><div class='sk-item'><div class=\"sk-estimator sk-toggleable\"><input class=\"sk-toggleable__control sk-hidden--visually\" id=UUID('df97f504-173b-4da2-8286-f86a1f07de30') type=\"checkbox\" ><label for=UUID('df97f504-173b-4da2-8286-f86a1f07de30') class='sk-toggleable__label sk-toggleable__label-arrow'>Ridge</label><div class=\"sk-toggleable__content\"><pre>Ridge()</pre></div></div></div></div></div></div></div></div></div></div></div><div class=\"sk-parallel-item\"><div class=\"sk-item\"><div class=\"sk-serial\"><div class=\"sk-item sk-dashed-wrapped\"><div class=\"sk-parallel\"><div class=\"sk-parallel-item\"><div class=\"sk-item\"><div class=\"sk-serial\"><div class='sk-item'><div class=\"sk-estimator sk-toggleable\"><input class=\"sk-toggleable__control sk-hidden--visually\" id=UUID('ef582074-f904-4dbd-a6cd-b90cc284e89e') type=\"checkbox\" ><label for=UUID('ef582074-f904-4dbd-a6cd-b90cc284e89e') class='sk-toggleable__label sk-toggleable__label-arrow'>Lasso</label><div class=\"sk-toggleable__content\"><pre>Lasso()</pre></div></div></div></div></div></div></div></div></div></div></div></div></div></div></div></div></div></div></div></div></div></div></div></div></div></div></div></div></div></div></div></div></div></div></div></div><div class=\"sk-parallel-item\"><div class=\"sk-item\"><div class=\"sk-serial\"><div class=\"sk-item sk-dashed-wrapped\"><div class=\"sk-parallel\"><div class=\"sk-parallel-item\"><div class=\"sk-item\"><div class=\"sk-serial\"><div class=\"sk-item sk-dashed-wrapped\"><div class=\"sk-parallel\"><div class=\"sk-parallel-item\"><div class=\"sk-item\"><div class=\"sk-serial\"><div class='sk-item'><div class=\"sk-estimator sk-toggleable\"><input class=\"sk-toggleable__control sk-hidden--visually\" id=UUID('642af59c-3d99-4b7f-8a08-5e272fd5689f') type=\"checkbox\" ><label for=UUID('642af59c-3d99-4b7f-8a08-5e272fd5689f') class='sk-toggleable__label sk-toggleable__label-arrow'>Ridge</label><div class=\"sk-toggleable__content\"><pre>Ridge()</pre></div></div></div></div></div></div></div></div></div></div></div><div class=\"sk-parallel-item\"><div class=\"sk-item\"><div class=\"sk-serial\"><div class=\"sk-item sk-dashed-wrapped\"><div class=\"sk-parallel\"><div class=\"sk-parallel-item\"><div class=\"sk-item\"><div class=\"sk-serial\"><div class='sk-item'><div class=\"sk-estimator sk-toggleable\"><input class=\"sk-toggleable__control sk-hidden--visually\" id=UUID('096c8543-da0c-44ab-950f-00b9aca3560c') type=\"checkbox\" ><label for=UUID('096c8543-da0c-44ab-950f-00b9aca3560c') class='sk-toggleable__label sk-toggleable__label-arrow'>Lasso</label><div class=\"sk-toggleable__content\"><pre>Lasso()</pre></div></div></div></div></div></div></div></div></div></div></div></div></div></div></div></div></div></div></div></div>"
     },
     "execution_count": 19,
     "metadata": {},
     "output_type": "execute_result"
    }
   ],
   "source": [
    "inflation_forecast.fit(y=y_train, X=X_train, fh=fh)"
   ],
   "metadata": {
    "collapsed": false
   }
  },
  {
   "cell_type": "code",
   "execution_count": 20,
   "outputs": [
    {
     "ename": "ValueError",
     "evalue": "could not broadcast input array from shape (3,5) into shape (1,2,5)",
     "output_type": "error",
     "traceback": [
      "\u001B[1;31m---------------------------------------------------------------------------\u001B[0m",
      "\u001B[1;31mValueError\u001B[0m                                Traceback (most recent call last)",
      "Cell \u001B[1;32mIn[20], line 1\u001B[0m\n\u001B[1;32m----> 1\u001B[0m \u001B[43minflation_forecast\u001B[49m\u001B[38;5;241;43m.\u001B[39;49m\u001B[43mpredict\u001B[49m\u001B[43m(\u001B[49m\u001B[43m)\u001B[49m\n",
      "File \u001B[1;32m~\\PycharmProjects\\sktime\\sktime\\forecasting\\base\\_base.py:404\u001B[0m, in \u001B[0;36mBaseForecaster.predict\u001B[1;34m(self, fh, X)\u001B[0m\n\u001B[0;32m    402\u001B[0m \u001B[38;5;66;03m# we call the ordinary _predict if no looping/vectorization needed\u001B[39;00m\n\u001B[0;32m    403\u001B[0m \u001B[38;5;28;01mif\u001B[39;00m \u001B[38;5;129;01mnot\u001B[39;00m \u001B[38;5;28mself\u001B[39m\u001B[38;5;241m.\u001B[39m_is_vectorized:\n\u001B[1;32m--> 404\u001B[0m     y_pred \u001B[38;5;241m=\u001B[39m \u001B[38;5;28;43mself\u001B[39;49m\u001B[38;5;241;43m.\u001B[39;49m\u001B[43m_predict\u001B[49m\u001B[43m(\u001B[49m\u001B[43mfh\u001B[49m\u001B[38;5;241;43m=\u001B[39;49m\u001B[43mfh\u001B[49m\u001B[43m,\u001B[49m\u001B[43m \u001B[49m\u001B[43mX\u001B[49m\u001B[38;5;241;43m=\u001B[39;49m\u001B[43mX_inner\u001B[49m\u001B[43m)\u001B[49m\n\u001B[0;32m    405\u001B[0m \u001B[38;5;28;01melse\u001B[39;00m:\n\u001B[0;32m    406\u001B[0m     \u001B[38;5;66;03m# otherwise we call the vectorized version of predict\u001B[39;00m\n\u001B[0;32m    407\u001B[0m     y_pred \u001B[38;5;241m=\u001B[39m \u001B[38;5;28mself\u001B[39m\u001B[38;5;241m.\u001B[39m_vectorize(\u001B[38;5;124m\"\u001B[39m\u001B[38;5;124mpredict\u001B[39m\u001B[38;5;124m\"\u001B[39m, X\u001B[38;5;241m=\u001B[39mX_inner, fh\u001B[38;5;241m=\u001B[39mfh)\n",
      "File \u001B[1;32m~\\PycharmProjects\\sktime\\sktime\\forecasting\\compose\\_pipeline.py:1388\u001B[0m, in \u001B[0;36mForecastX._predict\u001B[1;34m(self, fh, X)\u001B[0m\n\u001B[0;32m   1373\u001B[0m \u001B[38;5;250m\u001B[39m\u001B[38;5;124;03m\"\"\"Forecast time series at future horizon.\u001B[39;00m\n\u001B[0;32m   1374\u001B[0m \n\u001B[0;32m   1375\u001B[0m \u001B[38;5;124;03mParameters\u001B[39;00m\n\u001B[1;32m   (...)\u001B[0m\n\u001B[0;32m   1385\u001B[0m \u001B[38;5;124;03m    Point forecasts\u001B[39;00m\n\u001B[0;32m   1386\u001B[0m \u001B[38;5;124;03m\"\"\"\u001B[39;00m\n\u001B[0;32m   1387\u001B[0m X \u001B[38;5;241m=\u001B[39m \u001B[38;5;28mself\u001B[39m\u001B[38;5;241m.\u001B[39m_get_forecaster_X_prediction(fh\u001B[38;5;241m=\u001B[39mfh, X\u001B[38;5;241m=\u001B[39mX)\n\u001B[1;32m-> 1388\u001B[0m y_pred \u001B[38;5;241m=\u001B[39m \u001B[38;5;28;43mself\u001B[39;49m\u001B[38;5;241;43m.\u001B[39;49m\u001B[43mforecaster_y_\u001B[49m\u001B[38;5;241;43m.\u001B[39;49m\u001B[43mpredict\u001B[49m\u001B[43m(\u001B[49m\u001B[43mfh\u001B[49m\u001B[38;5;241;43m=\u001B[39;49m\u001B[43mfh\u001B[49m\u001B[43m,\u001B[49m\u001B[43m \u001B[49m\u001B[43mX\u001B[49m\u001B[38;5;241;43m=\u001B[39;49m\u001B[43mX\u001B[49m\u001B[43m)\u001B[49m\n\u001B[0;32m   1389\u001B[0m \u001B[38;5;28;01mreturn\u001B[39;00m y_pred\n",
      "File \u001B[1;32m~\\PycharmProjects\\sktime\\sktime\\forecasting\\base\\_base.py:404\u001B[0m, in \u001B[0;36mBaseForecaster.predict\u001B[1;34m(self, fh, X)\u001B[0m\n\u001B[0;32m    402\u001B[0m \u001B[38;5;66;03m# we call the ordinary _predict if no looping/vectorization needed\u001B[39;00m\n\u001B[0;32m    403\u001B[0m \u001B[38;5;28;01mif\u001B[39;00m \u001B[38;5;129;01mnot\u001B[39;00m \u001B[38;5;28mself\u001B[39m\u001B[38;5;241m.\u001B[39m_is_vectorized:\n\u001B[1;32m--> 404\u001B[0m     y_pred \u001B[38;5;241m=\u001B[39m \u001B[38;5;28;43mself\u001B[39;49m\u001B[38;5;241;43m.\u001B[39;49m\u001B[43m_predict\u001B[49m\u001B[43m(\u001B[49m\u001B[43mfh\u001B[49m\u001B[38;5;241;43m=\u001B[39;49m\u001B[43mfh\u001B[49m\u001B[43m,\u001B[49m\u001B[43m \u001B[49m\u001B[43mX\u001B[49m\u001B[38;5;241;43m=\u001B[39;49m\u001B[43mX_inner\u001B[49m\u001B[43m)\u001B[49m\n\u001B[0;32m    405\u001B[0m \u001B[38;5;28;01melse\u001B[39;00m:\n\u001B[0;32m    406\u001B[0m     \u001B[38;5;66;03m# otherwise we call the vectorized version of predict\u001B[39;00m\n\u001B[0;32m    407\u001B[0m     y_pred \u001B[38;5;241m=\u001B[39m \u001B[38;5;28mself\u001B[39m\u001B[38;5;241m.\u001B[39m_vectorize(\u001B[38;5;124m\"\u001B[39m\u001B[38;5;124mpredict\u001B[39m\u001B[38;5;124m\"\u001B[39m, X\u001B[38;5;241m=\u001B[39mX_inner, fh\u001B[38;5;241m=\u001B[39mfh)\n",
      "File \u001B[1;32m~\\PycharmProjects\\sktime\\sktime\\forecasting\\base\\_delegate.py:100\u001B[0m, in \u001B[0;36m_DelegatedForecaster._predict\u001B[1;34m(self, fh, X)\u001B[0m\n\u001B[0;32m     75\u001B[0m \u001B[38;5;250m\u001B[39m\u001B[38;5;124;03m\"\"\"Forecast time series at future horizon.\u001B[39;00m\n\u001B[0;32m     76\u001B[0m \n\u001B[0;32m     77\u001B[0m \u001B[38;5;124;03mprivate _predict containing the core logic, called from predict\u001B[39;00m\n\u001B[1;32m   (...)\u001B[0m\n\u001B[0;32m     97\u001B[0m \u001B[38;5;124;03m    Point predictions\u001B[39;00m\n\u001B[0;32m     98\u001B[0m \u001B[38;5;124;03m\"\"\"\u001B[39;00m\n\u001B[0;32m     99\u001B[0m estimator \u001B[38;5;241m=\u001B[39m \u001B[38;5;28mself\u001B[39m\u001B[38;5;241m.\u001B[39m_get_delegate()\n\u001B[1;32m--> 100\u001B[0m \u001B[38;5;28;01mreturn\u001B[39;00m \u001B[43mestimator\u001B[49m\u001B[38;5;241;43m.\u001B[39;49m\u001B[43mpredict\u001B[49m\u001B[43m(\u001B[49m\u001B[43mfh\u001B[49m\u001B[38;5;241;43m=\u001B[39;49m\u001B[43mfh\u001B[49m\u001B[43m,\u001B[49m\u001B[43m \u001B[49m\u001B[43mX\u001B[49m\u001B[38;5;241;43m=\u001B[39;49m\u001B[43mX\u001B[49m\u001B[43m)\u001B[49m\n",
      "File \u001B[1;32m~\\PycharmProjects\\sktime\\sktime\\forecasting\\base\\_base.py:404\u001B[0m, in \u001B[0;36mBaseForecaster.predict\u001B[1;34m(self, fh, X)\u001B[0m\n\u001B[0;32m    402\u001B[0m \u001B[38;5;66;03m# we call the ordinary _predict if no looping/vectorization needed\u001B[39;00m\n\u001B[0;32m    403\u001B[0m \u001B[38;5;28;01mif\u001B[39;00m \u001B[38;5;129;01mnot\u001B[39;00m \u001B[38;5;28mself\u001B[39m\u001B[38;5;241m.\u001B[39m_is_vectorized:\n\u001B[1;32m--> 404\u001B[0m     y_pred \u001B[38;5;241m=\u001B[39m \u001B[38;5;28;43mself\u001B[39;49m\u001B[38;5;241;43m.\u001B[39;49m\u001B[43m_predict\u001B[49m\u001B[43m(\u001B[49m\u001B[43mfh\u001B[49m\u001B[38;5;241;43m=\u001B[39;49m\u001B[43mfh\u001B[49m\u001B[43m,\u001B[49m\u001B[43m \u001B[49m\u001B[43mX\u001B[49m\u001B[38;5;241;43m=\u001B[39;49m\u001B[43mX_inner\u001B[49m\u001B[43m)\u001B[49m\n\u001B[0;32m    405\u001B[0m \u001B[38;5;28;01melse\u001B[39;00m:\n\u001B[0;32m    406\u001B[0m     \u001B[38;5;66;03m# otherwise we call the vectorized version of predict\u001B[39;00m\n\u001B[0;32m    407\u001B[0m     y_pred \u001B[38;5;241m=\u001B[39m \u001B[38;5;28mself\u001B[39m\u001B[38;5;241m.\u001B[39m_vectorize(\u001B[38;5;124m\"\u001B[39m\u001B[38;5;124mpredict\u001B[39m\u001B[38;5;124m\"\u001B[39m, X\u001B[38;5;241m=\u001B[39mX_inner, fh\u001B[38;5;241m=\u001B[39mfh)\n",
      "File \u001B[1;32m~\\PycharmProjects\\sktime\\sktime\\forecasting\\base\\_sktime.py:30\u001B[0m, in \u001B[0;36m_BaseWindowForecaster._predict\u001B[1;34m(self, fh, X)\u001B[0m\n\u001B[0;32m     28\u001B[0m \u001B[38;5;66;03m# all values are out-of-sample\u001B[39;00m\n\u001B[0;32m     29\u001B[0m \u001B[38;5;28;01mif\u001B[39;00m fh\u001B[38;5;241m.\u001B[39mis_all_out_of_sample(\u001B[38;5;28mself\u001B[39m\u001B[38;5;241m.\u001B[39mcutoff):\n\u001B[1;32m---> 30\u001B[0m     y_pred \u001B[38;5;241m=\u001B[39m \u001B[38;5;28mself\u001B[39m\u001B[38;5;241m.\u001B[39m_predict_fixed_cutoff(\n\u001B[0;32m     31\u001B[0m         fh\u001B[38;5;241m.\u001B[39mto_out_of_sample(\u001B[38;5;28mself\u001B[39m\u001B[38;5;241m.\u001B[39mcutoff), \u001B[38;5;241m*\u001B[39m\u001B[38;5;241m*\u001B[39mkwargs\n\u001B[0;32m     32\u001B[0m     )\n\u001B[0;32m     34\u001B[0m \u001B[38;5;66;03m# all values are in-sample\u001B[39;00m\n\u001B[0;32m     35\u001B[0m \u001B[38;5;28;01melif\u001B[39;00m fh\u001B[38;5;241m.\u001B[39mis_all_in_sample(\u001B[38;5;28mself\u001B[39m\u001B[38;5;241m.\u001B[39mcutoff):\n",
      "File \u001B[1;32m~\\PycharmProjects\\sktime\\sktime\\forecasting\\base\\_sktime.py:74\u001B[0m, in \u001B[0;36m_BaseWindowForecaster._predict_fixed_cutoff\u001B[1;34m(self, fh, X, return_pred_int, alpha)\u001B[0m\n\u001B[0;32m     59\u001B[0m \u001B[38;5;250m\u001B[39m\u001B[38;5;124;03m\"\"\"Make single-step or multi-step fixed cutoff predictions.\u001B[39;00m\n\u001B[0;32m     60\u001B[0m \n\u001B[0;32m     61\u001B[0m \u001B[38;5;124;03mParameters\u001B[39;00m\n\u001B[1;32m   (...)\u001B[0m\n\u001B[0;32m     71\u001B[0m \u001B[38;5;124;03my_pred = pd.Series or pd.DataFrame\u001B[39;00m\n\u001B[0;32m     72\u001B[0m \u001B[38;5;124;03m\"\"\"\u001B[39;00m\n\u001B[0;32m     73\u001B[0m \u001B[38;5;66;03m# assert all(fh > 0)\u001B[39;00m\n\u001B[1;32m---> 74\u001B[0m y_pred \u001B[38;5;241m=\u001B[39m \u001B[38;5;28;43mself\u001B[39;49m\u001B[38;5;241;43m.\u001B[39;49m\u001B[43m_predict_last_window\u001B[49m\u001B[43m(\u001B[49m\n\u001B[0;32m     75\u001B[0m \u001B[43m    \u001B[49m\u001B[43mfh\u001B[49m\u001B[43m,\u001B[49m\u001B[43m \u001B[49m\u001B[43mX\u001B[49m\u001B[43m,\u001B[49m\u001B[43m \u001B[49m\u001B[43mreturn_pred_int\u001B[49m\u001B[38;5;241;43m=\u001B[39;49m\u001B[43mreturn_pred_int\u001B[49m\u001B[43m,\u001B[49m\u001B[43m \u001B[49m\u001B[43malpha\u001B[49m\u001B[38;5;241;43m=\u001B[39;49m\u001B[43malpha\u001B[49m\n\u001B[0;32m     76\u001B[0m \u001B[43m\u001B[49m\u001B[43m)\u001B[49m\n\u001B[0;32m     77\u001B[0m \u001B[38;5;28;01mif\u001B[39;00m \u001B[38;5;28misinstance\u001B[39m(y_pred, pd\u001B[38;5;241m.\u001B[39mSeries) \u001B[38;5;129;01mor\u001B[39;00m \u001B[38;5;28misinstance\u001B[39m(y_pred, pd\u001B[38;5;241m.\u001B[39mDataFrame):\n\u001B[0;32m     78\u001B[0m     \u001B[38;5;28;01mreturn\u001B[39;00m y_pred\n",
      "File \u001B[1;32m~\\PycharmProjects\\sktime\\sktime\\forecasting\\compose\\_reduce.py:904\u001B[0m, in \u001B[0;36m_RecursiveReducer._predict_last_window\u001B[1;34m(self, fh, X, return_pred_int, alpha)\u001B[0m\n\u001B[0;32m    902\u001B[0m last[:, \u001B[38;5;241m0\u001B[39m, :window_length] \u001B[38;5;241m=\u001B[39m y_last\n\u001B[0;32m    903\u001B[0m \u001B[38;5;28;01mif\u001B[39;00m X \u001B[38;5;129;01mis\u001B[39;00m \u001B[38;5;129;01mnot\u001B[39;00m \u001B[38;5;28;01mNone\u001B[39;00m:\n\u001B[1;32m--> 904\u001B[0m     \u001B[43mlast\u001B[49m\u001B[43m[\u001B[49m\u001B[43m:\u001B[49m\u001B[43m,\u001B[49m\u001B[43m \u001B[49m\u001B[38;5;241;43m1\u001B[39;49m\u001B[43m:\u001B[49m\u001B[43m,\u001B[49m\u001B[43m \u001B[49m\u001B[43m:\u001B[49m\u001B[43mwindow_length\u001B[49m\u001B[43m]\u001B[49m \u001B[38;5;241m=\u001B[39m X_last\u001B[38;5;241m.\u001B[39mT\n\u001B[0;32m    905\u001B[0m     last[:, \u001B[38;5;241m1\u001B[39m:, window_length:] \u001B[38;5;241m=\u001B[39m X\u001B[38;5;241m.\u001B[39miloc[\n\u001B[0;32m    906\u001B[0m         \u001B[38;5;241m-\u001B[39m(last\u001B[38;5;241m.\u001B[39mshape[\u001B[38;5;241m2\u001B[39m] \u001B[38;5;241m-\u001B[39m window_length) :, :\n\u001B[0;32m    907\u001B[0m     ]\u001B[38;5;241m.\u001B[39mT\n\u001B[0;32m    909\u001B[0m \u001B[38;5;66;03m# Recursively generate predictions by iterating over forecasting horizon.\u001B[39;00m\n",
      "\u001B[1;31mValueError\u001B[0m: could not broadcast input array from shape (3,5) into shape (1,2,5)"
     ]
    }
   ],
   "source": [
    "# TODO inflation_forecast.predict() Currently is not working since\n",
    "#  the shapes do not match..."
   ],
   "metadata": {
    "collapsed": false
   }
  },
  {
   "cell_type": "code",
   "execution_count": null,
   "outputs": [],
   "source": [
    "inflation_forecast.get_params(True)"
   ],
   "metadata": {
    "collapsed": false
   }
  },
  {
   "cell_type": "code",
   "execution_count": null,
   "outputs": [],
   "source": [],
   "metadata": {
    "collapsed": false
   }
  }
 ],
 "metadata": {
  "kernelspec": {
   "display_name": "Python 3",
   "language": "python",
   "name": "python3"
  },
  "language_info": {
   "codemirror_mode": {
    "name": "ipython",
    "version": 2
   },
   "file_extension": ".py",
   "mimetype": "text/x-python",
   "name": "python",
   "nbconvert_exporter": "python",
   "pygments_lexer": "ipython2",
   "version": "2.7.6"
  }
 },
 "nbformat": 4,
 "nbformat_minor": 0
}
